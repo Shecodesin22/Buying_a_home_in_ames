{
 "cells": [
  {
   "cell_type": "code",
   "execution_count": 1,
   "metadata": {},
   "outputs": [],
   "source": [
    "import numpy as np\n",
    "import pandas as pd\n",
    "import matplotlib.pyplot as plt\n",
    "import seaborn as sns\n",
    "\n",
    "import missingno as mn\n",
    "\n",
    "from sklearn.linear_model import LinearRegression, Lasso, Ridge\n",
    "from sklearn.pipeline import make_pipeline\n",
    "from sklearn.preprocessing import StandardScaler, PolynomialFeatures, OneHotEncoder, OrdinalEncoder\n",
    "from sklearn.model_selection import train_test_split, GridSearchCV\n",
    "from sklearn.compose import make_column_selector, make_column_transformer\n",
    "from sklearn.metrics import mean_squared_error, mean_absolute_error, r2_score\n",
    "from sklearn.dummy import DummyRegressor\n",
    "from sklearn.feature_selection import RFE\n",
    "from sklearn.impute import SimpleImputer\n",
    "\n",
    "from sklearn import set_config\n",
    "set_config(display='diagram')"
   ]
  },
  {
   "cell_type": "code",
   "execution_count": 2,
   "metadata": {},
   "outputs": [],
   "source": [
    "df_ames_train = pd.read_csv('./datasets/train.csv')"
   ]
  },
  {
   "cell_type": "code",
   "execution_count": 38,
   "metadata": {},
   "outputs": [],
   "source": [
    "df_ames_reg_train = df_ames_train[['Overall Qual','Neighborhood',\n",
    "'Gr Liv Area', 'Garage Cars', 'Total Bsmt SF', '1st Flr SF',\n",
    "'Year Built', 'Year Remod/Add', 'Full Bath','SalePrice']]\n"
   ]
  },
  {
   "cell_type": "code",
   "execution_count": 39,
   "metadata": {},
   "outputs": [],
   "source": [
    "X = df_ames_reg_train\n"
   ]
  },
  {
   "cell_type": "code",
   "execution_count": 40,
   "metadata": {},
   "outputs": [],
   "source": [
    "ohe = OneHotEncoder(sparse=False,  handle_unknown='ignore') "
   ]
  },
  {
   "cell_type": "code",
   "execution_count": 41,
   "metadata": {},
   "outputs": [
    {
     "data": {
      "text/html": [
       "<style>#sk-5c7ab58e-0317-4811-996a-98c06c205468 {color: black;background-color: white;}#sk-5c7ab58e-0317-4811-996a-98c06c205468 pre{padding: 0;}#sk-5c7ab58e-0317-4811-996a-98c06c205468 div.sk-toggleable {background-color: white;}#sk-5c7ab58e-0317-4811-996a-98c06c205468 label.sk-toggleable__label {cursor: pointer;display: block;width: 100%;margin-bottom: 0;padding: 0.3em;box-sizing: border-box;text-align: center;}#sk-5c7ab58e-0317-4811-996a-98c06c205468 label.sk-toggleable__label-arrow:before {content: \"▸\";float: left;margin-right: 0.25em;color: #696969;}#sk-5c7ab58e-0317-4811-996a-98c06c205468 label.sk-toggleable__label-arrow:hover:before {color: black;}#sk-5c7ab58e-0317-4811-996a-98c06c205468 div.sk-estimator:hover label.sk-toggleable__label-arrow:before {color: black;}#sk-5c7ab58e-0317-4811-996a-98c06c205468 div.sk-toggleable__content {max-height: 0;max-width: 0;overflow: hidden;text-align: left;background-color: #f0f8ff;}#sk-5c7ab58e-0317-4811-996a-98c06c205468 div.sk-toggleable__content pre {margin: 0.2em;color: black;border-radius: 0.25em;background-color: #f0f8ff;}#sk-5c7ab58e-0317-4811-996a-98c06c205468 input.sk-toggleable__control:checked~div.sk-toggleable__content {max-height: 200px;max-width: 100%;overflow: auto;}#sk-5c7ab58e-0317-4811-996a-98c06c205468 input.sk-toggleable__control:checked~label.sk-toggleable__label-arrow:before {content: \"▾\";}#sk-5c7ab58e-0317-4811-996a-98c06c205468 div.sk-estimator input.sk-toggleable__control:checked~label.sk-toggleable__label {background-color: #d4ebff;}#sk-5c7ab58e-0317-4811-996a-98c06c205468 div.sk-label input.sk-toggleable__control:checked~label.sk-toggleable__label {background-color: #d4ebff;}#sk-5c7ab58e-0317-4811-996a-98c06c205468 input.sk-hidden--visually {border: 0;clip: rect(1px 1px 1px 1px);clip: rect(1px, 1px, 1px, 1px);height: 1px;margin: -1px;overflow: hidden;padding: 0;position: absolute;width: 1px;}#sk-5c7ab58e-0317-4811-996a-98c06c205468 div.sk-estimator {font-family: monospace;background-color: #f0f8ff;border: 1px dotted black;border-radius: 0.25em;box-sizing: border-box;margin-bottom: 0.5em;}#sk-5c7ab58e-0317-4811-996a-98c06c205468 div.sk-estimator:hover {background-color: #d4ebff;}#sk-5c7ab58e-0317-4811-996a-98c06c205468 div.sk-parallel-item::after {content: \"\";width: 100%;border-bottom: 1px solid gray;flex-grow: 1;}#sk-5c7ab58e-0317-4811-996a-98c06c205468 div.sk-label:hover label.sk-toggleable__label {background-color: #d4ebff;}#sk-5c7ab58e-0317-4811-996a-98c06c205468 div.sk-serial::before {content: \"\";position: absolute;border-left: 1px solid gray;box-sizing: border-box;top: 2em;bottom: 0;left: 50%;}#sk-5c7ab58e-0317-4811-996a-98c06c205468 div.sk-serial {display: flex;flex-direction: column;align-items: center;background-color: white;padding-right: 0.2em;padding-left: 0.2em;}#sk-5c7ab58e-0317-4811-996a-98c06c205468 div.sk-item {z-index: 1;}#sk-5c7ab58e-0317-4811-996a-98c06c205468 div.sk-parallel {display: flex;align-items: stretch;justify-content: center;background-color: white;}#sk-5c7ab58e-0317-4811-996a-98c06c205468 div.sk-parallel::before {content: \"\";position: absolute;border-left: 1px solid gray;box-sizing: border-box;top: 2em;bottom: 0;left: 50%;}#sk-5c7ab58e-0317-4811-996a-98c06c205468 div.sk-parallel-item {display: flex;flex-direction: column;position: relative;background-color: white;}#sk-5c7ab58e-0317-4811-996a-98c06c205468 div.sk-parallel-item:first-child::after {align-self: flex-end;width: 50%;}#sk-5c7ab58e-0317-4811-996a-98c06c205468 div.sk-parallel-item:last-child::after {align-self: flex-start;width: 50%;}#sk-5c7ab58e-0317-4811-996a-98c06c205468 div.sk-parallel-item:only-child::after {width: 0;}#sk-5c7ab58e-0317-4811-996a-98c06c205468 div.sk-dashed-wrapped {border: 1px dashed gray;margin: 0 0.4em 0.5em 0.4em;box-sizing: border-box;padding-bottom: 0.4em;background-color: white;position: relative;}#sk-5c7ab58e-0317-4811-996a-98c06c205468 div.sk-label label {font-family: monospace;font-weight: bold;background-color: white;display: inline-block;line-height: 1.2em;}#sk-5c7ab58e-0317-4811-996a-98c06c205468 div.sk-label-container {position: relative;z-index: 2;text-align: center;}#sk-5c7ab58e-0317-4811-996a-98c06c205468 div.sk-container {/* jupyter's `normalize.less` sets `[hidden] { display: none; }` but bootstrap.min.css set `[hidden] { display: none !important; }` so we also need the `!important` here to be able to override the default hidden behavior on the sphinx rendered scikit-learn.org. See: https://github.com/scikit-learn/scikit-learn/issues/21755 */display: inline-block !important;position: relative;}#sk-5c7ab58e-0317-4811-996a-98c06c205468 div.sk-text-repr-fallback {display: none;}</style><div id=\"sk-5c7ab58e-0317-4811-996a-98c06c205468\" class=\"sk-top-container\"><div class=\"sk-text-repr-fallback\"><pre>OneHotEncoder(handle_unknown=&#x27;ignore&#x27;, sparse=False)</pre><b>Please rerun this cell to show the HTML repr or trust the notebook.</b></div><div class=\"sk-container\" hidden><div class=\"sk-item\"><div class=\"sk-estimator sk-toggleable\"><input class=\"sk-toggleable__control sk-hidden--visually\" id=\"a66879d3-1397-4bf0-8f94-acadad001df7\" type=\"checkbox\" checked><label for=\"a66879d3-1397-4bf0-8f94-acadad001df7\" class=\"sk-toggleable__label sk-toggleable__label-arrow\">OneHotEncoder</label><div class=\"sk-toggleable__content\"><pre>OneHotEncoder(handle_unknown=&#x27;ignore&#x27;, sparse=False)</pre></div></div></div></div></div>"
      ],
      "text/plain": [
       "OneHotEncoder(handle_unknown='ignore', sparse=False)"
      ]
     },
     "execution_count": 41,
     "metadata": {},
     "output_type": "execute_result"
    }
   ],
   "source": [
    "ohe.fit(X)"
   ]
  },
  {
   "cell_type": "code",
   "execution_count": 42,
   "metadata": {},
   "outputs": [
    {
     "data": {
      "text/plain": [
       "array([[0., 0., 0., ..., 0., 0., 0.],\n",
       "       [0., 0., 0., ..., 0., 0., 0.],\n",
       "       [0., 0., 0., ..., 0., 0., 0.],\n",
       "       ...,\n",
       "       [0., 0., 0., ..., 0., 0., 0.],\n",
       "       [0., 0., 0., ..., 0., 0., 0.],\n",
       "       [0., 0., 0., ..., 0., 0., 0.]])"
      ]
     },
     "execution_count": 42,
     "metadata": {},
     "output_type": "execute_result"
    }
   ],
   "source": [
    "ohe.transform(X)"
   ]
  },
  {
   "cell_type": "code",
   "execution_count": 43,
   "metadata": {},
   "outputs": [
    {
     "data": {
      "text/plain": [
       "array(['Overall Qual_1', 'Overall Qual_2', 'Overall Qual_3', ...,\n",
       "       'SalePrice_584500', 'SalePrice_591587', 'SalePrice_611657'],\n",
       "      dtype=object)"
      ]
     },
     "execution_count": 43,
     "metadata": {},
     "output_type": "execute_result"
    }
   ],
   "source": [
    "ohe.get_feature_names_out()"
   ]
  },
  {
   "cell_type": "code",
   "execution_count": 44,
   "metadata": {},
   "outputs": [],
   "source": [
    "smart_encoder = make_column_transformer(\n",
    "    (ohe, ['Overall Qual', 'Neighborhood']),\n",
    "    remainder='passthrough',                 # don't change the rest of the columns\n",
    "    verbose_feature_names_out=False          # shorten up those names for the columns\n",
    ")"
   ]
  },
  {
   "cell_type": "code",
   "execution_count": 45,
   "metadata": {},
   "outputs": [
    {
     "data": {
      "text/html": [
       "<style>#sk-bc3b19e7-c5da-4ada-9fb0-39c616f8826b {color: black;background-color: white;}#sk-bc3b19e7-c5da-4ada-9fb0-39c616f8826b pre{padding: 0;}#sk-bc3b19e7-c5da-4ada-9fb0-39c616f8826b div.sk-toggleable {background-color: white;}#sk-bc3b19e7-c5da-4ada-9fb0-39c616f8826b label.sk-toggleable__label {cursor: pointer;display: block;width: 100%;margin-bottom: 0;padding: 0.3em;box-sizing: border-box;text-align: center;}#sk-bc3b19e7-c5da-4ada-9fb0-39c616f8826b label.sk-toggleable__label-arrow:before {content: \"▸\";float: left;margin-right: 0.25em;color: #696969;}#sk-bc3b19e7-c5da-4ada-9fb0-39c616f8826b label.sk-toggleable__label-arrow:hover:before {color: black;}#sk-bc3b19e7-c5da-4ada-9fb0-39c616f8826b div.sk-estimator:hover label.sk-toggleable__label-arrow:before {color: black;}#sk-bc3b19e7-c5da-4ada-9fb0-39c616f8826b div.sk-toggleable__content {max-height: 0;max-width: 0;overflow: hidden;text-align: left;background-color: #f0f8ff;}#sk-bc3b19e7-c5da-4ada-9fb0-39c616f8826b div.sk-toggleable__content pre {margin: 0.2em;color: black;border-radius: 0.25em;background-color: #f0f8ff;}#sk-bc3b19e7-c5da-4ada-9fb0-39c616f8826b input.sk-toggleable__control:checked~div.sk-toggleable__content {max-height: 200px;max-width: 100%;overflow: auto;}#sk-bc3b19e7-c5da-4ada-9fb0-39c616f8826b input.sk-toggleable__control:checked~label.sk-toggleable__label-arrow:before {content: \"▾\";}#sk-bc3b19e7-c5da-4ada-9fb0-39c616f8826b div.sk-estimator input.sk-toggleable__control:checked~label.sk-toggleable__label {background-color: #d4ebff;}#sk-bc3b19e7-c5da-4ada-9fb0-39c616f8826b div.sk-label input.sk-toggleable__control:checked~label.sk-toggleable__label {background-color: #d4ebff;}#sk-bc3b19e7-c5da-4ada-9fb0-39c616f8826b input.sk-hidden--visually {border: 0;clip: rect(1px 1px 1px 1px);clip: rect(1px, 1px, 1px, 1px);height: 1px;margin: -1px;overflow: hidden;padding: 0;position: absolute;width: 1px;}#sk-bc3b19e7-c5da-4ada-9fb0-39c616f8826b div.sk-estimator {font-family: monospace;background-color: #f0f8ff;border: 1px dotted black;border-radius: 0.25em;box-sizing: border-box;margin-bottom: 0.5em;}#sk-bc3b19e7-c5da-4ada-9fb0-39c616f8826b div.sk-estimator:hover {background-color: #d4ebff;}#sk-bc3b19e7-c5da-4ada-9fb0-39c616f8826b div.sk-parallel-item::after {content: \"\";width: 100%;border-bottom: 1px solid gray;flex-grow: 1;}#sk-bc3b19e7-c5da-4ada-9fb0-39c616f8826b div.sk-label:hover label.sk-toggleable__label {background-color: #d4ebff;}#sk-bc3b19e7-c5da-4ada-9fb0-39c616f8826b div.sk-serial::before {content: \"\";position: absolute;border-left: 1px solid gray;box-sizing: border-box;top: 2em;bottom: 0;left: 50%;}#sk-bc3b19e7-c5da-4ada-9fb0-39c616f8826b div.sk-serial {display: flex;flex-direction: column;align-items: center;background-color: white;padding-right: 0.2em;padding-left: 0.2em;}#sk-bc3b19e7-c5da-4ada-9fb0-39c616f8826b div.sk-item {z-index: 1;}#sk-bc3b19e7-c5da-4ada-9fb0-39c616f8826b div.sk-parallel {display: flex;align-items: stretch;justify-content: center;background-color: white;}#sk-bc3b19e7-c5da-4ada-9fb0-39c616f8826b div.sk-parallel::before {content: \"\";position: absolute;border-left: 1px solid gray;box-sizing: border-box;top: 2em;bottom: 0;left: 50%;}#sk-bc3b19e7-c5da-4ada-9fb0-39c616f8826b div.sk-parallel-item {display: flex;flex-direction: column;position: relative;background-color: white;}#sk-bc3b19e7-c5da-4ada-9fb0-39c616f8826b div.sk-parallel-item:first-child::after {align-self: flex-end;width: 50%;}#sk-bc3b19e7-c5da-4ada-9fb0-39c616f8826b div.sk-parallel-item:last-child::after {align-self: flex-start;width: 50%;}#sk-bc3b19e7-c5da-4ada-9fb0-39c616f8826b div.sk-parallel-item:only-child::after {width: 0;}#sk-bc3b19e7-c5da-4ada-9fb0-39c616f8826b div.sk-dashed-wrapped {border: 1px dashed gray;margin: 0 0.4em 0.5em 0.4em;box-sizing: border-box;padding-bottom: 0.4em;background-color: white;position: relative;}#sk-bc3b19e7-c5da-4ada-9fb0-39c616f8826b div.sk-label label {font-family: monospace;font-weight: bold;background-color: white;display: inline-block;line-height: 1.2em;}#sk-bc3b19e7-c5da-4ada-9fb0-39c616f8826b div.sk-label-container {position: relative;z-index: 2;text-align: center;}#sk-bc3b19e7-c5da-4ada-9fb0-39c616f8826b div.sk-container {/* jupyter's `normalize.less` sets `[hidden] { display: none; }` but bootstrap.min.css set `[hidden] { display: none !important; }` so we also need the `!important` here to be able to override the default hidden behavior on the sphinx rendered scikit-learn.org. See: https://github.com/scikit-learn/scikit-learn/issues/21755 */display: inline-block !important;position: relative;}#sk-bc3b19e7-c5da-4ada-9fb0-39c616f8826b div.sk-text-repr-fallback {display: none;}</style><div id=\"sk-bc3b19e7-c5da-4ada-9fb0-39c616f8826b\" class=\"sk-top-container\"><div class=\"sk-text-repr-fallback\"><pre>ColumnTransformer(remainder=&#x27;passthrough&#x27;,\n",
       "                  transformers=[(&#x27;onehotencoder&#x27;,\n",
       "                                 OneHotEncoder(handle_unknown=&#x27;ignore&#x27;,\n",
       "                                               sparse=False),\n",
       "                                 [&#x27;Overall Qual&#x27;, &#x27;Neighborhood&#x27;])],\n",
       "                  verbose_feature_names_out=False)</pre><b>Please rerun this cell to show the HTML repr or trust the notebook.</b></div><div class=\"sk-container\" hidden><div class=\"sk-item sk-dashed-wrapped\"><div class=\"sk-label-container\"><div class=\"sk-label sk-toggleable\"><input class=\"sk-toggleable__control sk-hidden--visually\" id=\"23325c7f-0b43-4ec9-ac92-04a3f5aa68ae\" type=\"checkbox\" ><label for=\"23325c7f-0b43-4ec9-ac92-04a3f5aa68ae\" class=\"sk-toggleable__label sk-toggleable__label-arrow\">ColumnTransformer</label><div class=\"sk-toggleable__content\"><pre>ColumnTransformer(remainder=&#x27;passthrough&#x27;,\n",
       "                  transformers=[(&#x27;onehotencoder&#x27;,\n",
       "                                 OneHotEncoder(handle_unknown=&#x27;ignore&#x27;,\n",
       "                                               sparse=False),\n",
       "                                 [&#x27;Overall Qual&#x27;, &#x27;Neighborhood&#x27;])],\n",
       "                  verbose_feature_names_out=False)</pre></div></div></div><div class=\"sk-parallel\"><div class=\"sk-parallel-item\"><div class=\"sk-item\"><div class=\"sk-label-container\"><div class=\"sk-label sk-toggleable\"><input class=\"sk-toggleable__control sk-hidden--visually\" id=\"ae569e86-6d62-4975-8c4a-0b135cdd8e6d\" type=\"checkbox\" ><label for=\"ae569e86-6d62-4975-8c4a-0b135cdd8e6d\" class=\"sk-toggleable__label sk-toggleable__label-arrow\">onehotencoder</label><div class=\"sk-toggleable__content\"><pre>[&#x27;Overall Qual&#x27;, &#x27;Neighborhood&#x27;]</pre></div></div></div><div class=\"sk-serial\"><div class=\"sk-item\"><div class=\"sk-estimator sk-toggleable\"><input class=\"sk-toggleable__control sk-hidden--visually\" id=\"c4f064b6-ce5b-42e2-a759-7455360b5e0f\" type=\"checkbox\" ><label for=\"c4f064b6-ce5b-42e2-a759-7455360b5e0f\" class=\"sk-toggleable__label sk-toggleable__label-arrow\">OneHotEncoder</label><div class=\"sk-toggleable__content\"><pre>OneHotEncoder(handle_unknown=&#x27;ignore&#x27;, sparse=False)</pre></div></div></div></div></div></div><div class=\"sk-parallel-item\"><div class=\"sk-item\"><div class=\"sk-label-container\"><div class=\"sk-label sk-toggleable\"><input class=\"sk-toggleable__control sk-hidden--visually\" id=\"b09166dd-96af-4b09-8d78-04a5ed7aee29\" type=\"checkbox\" ><label for=\"b09166dd-96af-4b09-8d78-04a5ed7aee29\" class=\"sk-toggleable__label sk-toggleable__label-arrow\">remainder</label><div class=\"sk-toggleable__content\"><pre>[&#x27;Gr Liv Area&#x27;, &#x27;Garage Cars&#x27;, &#x27;Total Bsmt SF&#x27;, &#x27;1st Flr SF&#x27;, &#x27;Year Built&#x27;, &#x27;Year Remod/Add&#x27;, &#x27;Full Bath&#x27;, &#x27;SalePrice&#x27;]</pre></div></div></div><div class=\"sk-serial\"><div class=\"sk-item\"><div class=\"sk-estimator sk-toggleable\"><input class=\"sk-toggleable__control sk-hidden--visually\" id=\"cba80a7a-bc3d-4296-88da-da555d8ee70d\" type=\"checkbox\" ><label for=\"cba80a7a-bc3d-4296-88da-da555d8ee70d\" class=\"sk-toggleable__label sk-toggleable__label-arrow\">passthrough</label><div class=\"sk-toggleable__content\"><pre>passthrough</pre></div></div></div></div></div></div></div></div></div></div>"
      ],
      "text/plain": [
       "ColumnTransformer(remainder='passthrough',\n",
       "                  transformers=[('onehotencoder',\n",
       "                                 OneHotEncoder(handle_unknown='ignore',\n",
       "                                               sparse=False),\n",
       "                                 ['Overall Qual', 'Neighborhood'])],\n",
       "                  verbose_feature_names_out=False)"
      ]
     },
     "execution_count": 45,
     "metadata": {},
     "output_type": "execute_result"
    }
   ],
   "source": [
    "smart_encoder.fit(X)"
   ]
  },
  {
   "cell_type": "code",
   "execution_count": 46,
   "metadata": {},
   "outputs": [
    {
     "data": {
      "text/plain": [
       "array([[0.000e+00, 0.000e+00, 0.000e+00, ..., 2.005e+03, 2.000e+00,\n",
       "        1.305e+05],\n",
       "       [0.000e+00, 0.000e+00, 0.000e+00, ..., 1.997e+03, 2.000e+00,\n",
       "        2.200e+05],\n",
       "       [0.000e+00, 0.000e+00, 0.000e+00, ..., 2.007e+03, 1.000e+00,\n",
       "        1.090e+05],\n",
       "       ...,\n",
       "       [0.000e+00, 0.000e+00, 0.000e+00, ..., 1.950e+03, 1.000e+00,\n",
       "        1.770e+05],\n",
       "       [0.000e+00, 0.000e+00, 0.000e+00, ..., 1.956e+03, 1.000e+00,\n",
       "        1.440e+05],\n",
       "       [0.000e+00, 0.000e+00, 0.000e+00, ..., 1.999e+03, 2.000e+00,\n",
       "        1.890e+05]])"
      ]
     },
     "execution_count": 46,
     "metadata": {},
     "output_type": "execute_result"
    }
   ],
   "source": [
    "X_train_encoded = smart_encoder.transform(X)\n",
    "X_train_encoded"
   ]
  },
  {
   "cell_type": "code",
   "execution_count": 47,
   "metadata": {},
   "outputs": [
    {
     "data": {
      "text/plain": [
       "array(['Overall Qual_1', 'Overall Qual_2', 'Overall Qual_3',\n",
       "       'Overall Qual_4', 'Overall Qual_5', 'Overall Qual_6',\n",
       "       'Overall Qual_7', 'Overall Qual_8', 'Overall Qual_9',\n",
       "       'Overall Qual_10', 'Neighborhood_Blmngtn', 'Neighborhood_Blueste',\n",
       "       'Neighborhood_BrDale', 'Neighborhood_BrkSide',\n",
       "       'Neighborhood_ClearCr', 'Neighborhood_CollgCr',\n",
       "       'Neighborhood_Crawfor', 'Neighborhood_Edwards',\n",
       "       'Neighborhood_Gilbert', 'Neighborhood_Greens',\n",
       "       'Neighborhood_GrnHill', 'Neighborhood_IDOTRR',\n",
       "       'Neighborhood_Landmrk', 'Neighborhood_MeadowV',\n",
       "       'Neighborhood_Mitchel', 'Neighborhood_NAmes',\n",
       "       'Neighborhood_NPkVill', 'Neighborhood_NWAmes',\n",
       "       'Neighborhood_NoRidge', 'Neighborhood_NridgHt',\n",
       "       'Neighborhood_OldTown', 'Neighborhood_SWISU',\n",
       "       'Neighborhood_Sawyer', 'Neighborhood_SawyerW',\n",
       "       'Neighborhood_Somerst', 'Neighborhood_StoneBr',\n",
       "       'Neighborhood_Timber', 'Neighborhood_Veenker', 'Gr Liv Area',\n",
       "       'Garage Cars', 'Total Bsmt SF', '1st Flr SF', 'Year Built',\n",
       "       'Year Remod/Add', 'Full Bath', 'SalePrice'], dtype=object)"
      ]
     },
     "execution_count": 47,
     "metadata": {},
     "output_type": "execute_result"
    }
   ],
   "source": [
    "smart_encoder.get_feature_names_out()"
   ]
  },
  {
   "cell_type": "code",
   "execution_count": 48,
   "metadata": {},
   "outputs": [],
   "source": [
    "X_train_encoded = pd.DataFrame(\n",
    "    X_train_encoded,\n",
    "    columns=smart_encoder.get_feature_names_out()\n",
    ")"
   ]
  },
  {
   "cell_type": "code",
   "execution_count": 49,
   "metadata": {},
   "outputs": [
    {
     "data": {
      "text/html": [
       "<div>\n",
       "<style scoped>\n",
       "    .dataframe tbody tr th:only-of-type {\n",
       "        vertical-align: middle;\n",
       "    }\n",
       "\n",
       "    .dataframe tbody tr th {\n",
       "        vertical-align: top;\n",
       "    }\n",
       "\n",
       "    .dataframe thead th {\n",
       "        text-align: right;\n",
       "    }\n",
       "</style>\n",
       "<table border=\"1\" class=\"dataframe\">\n",
       "  <thead>\n",
       "    <tr style=\"text-align: right;\">\n",
       "      <th></th>\n",
       "      <th>Overall Qual_1</th>\n",
       "      <th>Overall Qual_2</th>\n",
       "      <th>Overall Qual_3</th>\n",
       "      <th>Overall Qual_4</th>\n",
       "      <th>Overall Qual_5</th>\n",
       "      <th>Overall Qual_6</th>\n",
       "      <th>Overall Qual_7</th>\n",
       "      <th>Overall Qual_8</th>\n",
       "      <th>Overall Qual_9</th>\n",
       "      <th>Overall Qual_10</th>\n",
       "      <th>...</th>\n",
       "      <th>Neighborhood_Timber</th>\n",
       "      <th>Neighborhood_Veenker</th>\n",
       "      <th>Gr Liv Area</th>\n",
       "      <th>Garage Cars</th>\n",
       "      <th>Total Bsmt SF</th>\n",
       "      <th>1st Flr SF</th>\n",
       "      <th>Year Built</th>\n",
       "      <th>Year Remod/Add</th>\n",
       "      <th>Full Bath</th>\n",
       "      <th>SalePrice</th>\n",
       "    </tr>\n",
       "  </thead>\n",
       "  <tbody>\n",
       "    <tr>\n",
       "      <th>0</th>\n",
       "      <td>0.0</td>\n",
       "      <td>0.0</td>\n",
       "      <td>0.0</td>\n",
       "      <td>0.0</td>\n",
       "      <td>0.0</td>\n",
       "      <td>1.0</td>\n",
       "      <td>0.0</td>\n",
       "      <td>0.0</td>\n",
       "      <td>0.0</td>\n",
       "      <td>0.0</td>\n",
       "      <td>...</td>\n",
       "      <td>0.0</td>\n",
       "      <td>0.0</td>\n",
       "      <td>1479.0</td>\n",
       "      <td>2.0</td>\n",
       "      <td>725.0</td>\n",
       "      <td>725.0</td>\n",
       "      <td>1976.0</td>\n",
       "      <td>2005.0</td>\n",
       "      <td>2.0</td>\n",
       "      <td>130500.0</td>\n",
       "    </tr>\n",
       "    <tr>\n",
       "      <th>1</th>\n",
       "      <td>0.0</td>\n",
       "      <td>0.0</td>\n",
       "      <td>0.0</td>\n",
       "      <td>0.0</td>\n",
       "      <td>0.0</td>\n",
       "      <td>0.0</td>\n",
       "      <td>1.0</td>\n",
       "      <td>0.0</td>\n",
       "      <td>0.0</td>\n",
       "      <td>0.0</td>\n",
       "      <td>...</td>\n",
       "      <td>0.0</td>\n",
       "      <td>0.0</td>\n",
       "      <td>2122.0</td>\n",
       "      <td>2.0</td>\n",
       "      <td>913.0</td>\n",
       "      <td>913.0</td>\n",
       "      <td>1996.0</td>\n",
       "      <td>1997.0</td>\n",
       "      <td>2.0</td>\n",
       "      <td>220000.0</td>\n",
       "    </tr>\n",
       "    <tr>\n",
       "      <th>2</th>\n",
       "      <td>0.0</td>\n",
       "      <td>0.0</td>\n",
       "      <td>0.0</td>\n",
       "      <td>0.0</td>\n",
       "      <td>1.0</td>\n",
       "      <td>0.0</td>\n",
       "      <td>0.0</td>\n",
       "      <td>0.0</td>\n",
       "      <td>0.0</td>\n",
       "      <td>0.0</td>\n",
       "      <td>...</td>\n",
       "      <td>0.0</td>\n",
       "      <td>0.0</td>\n",
       "      <td>1057.0</td>\n",
       "      <td>1.0</td>\n",
       "      <td>1057.0</td>\n",
       "      <td>1057.0</td>\n",
       "      <td>1953.0</td>\n",
       "      <td>2007.0</td>\n",
       "      <td>1.0</td>\n",
       "      <td>109000.0</td>\n",
       "    </tr>\n",
       "    <tr>\n",
       "      <th>3</th>\n",
       "      <td>0.0</td>\n",
       "      <td>0.0</td>\n",
       "      <td>0.0</td>\n",
       "      <td>0.0</td>\n",
       "      <td>1.0</td>\n",
       "      <td>0.0</td>\n",
       "      <td>0.0</td>\n",
       "      <td>0.0</td>\n",
       "      <td>0.0</td>\n",
       "      <td>0.0</td>\n",
       "      <td>...</td>\n",
       "      <td>1.0</td>\n",
       "      <td>0.0</td>\n",
       "      <td>1444.0</td>\n",
       "      <td>2.0</td>\n",
       "      <td>384.0</td>\n",
       "      <td>744.0</td>\n",
       "      <td>2006.0</td>\n",
       "      <td>2007.0</td>\n",
       "      <td>2.0</td>\n",
       "      <td>174000.0</td>\n",
       "    </tr>\n",
       "    <tr>\n",
       "      <th>4</th>\n",
       "      <td>0.0</td>\n",
       "      <td>0.0</td>\n",
       "      <td>0.0</td>\n",
       "      <td>0.0</td>\n",
       "      <td>0.0</td>\n",
       "      <td>1.0</td>\n",
       "      <td>0.0</td>\n",
       "      <td>0.0</td>\n",
       "      <td>0.0</td>\n",
       "      <td>0.0</td>\n",
       "      <td>...</td>\n",
       "      <td>0.0</td>\n",
       "      <td>0.0</td>\n",
       "      <td>1445.0</td>\n",
       "      <td>2.0</td>\n",
       "      <td>676.0</td>\n",
       "      <td>831.0</td>\n",
       "      <td>1900.0</td>\n",
       "      <td>1993.0</td>\n",
       "      <td>2.0</td>\n",
       "      <td>138500.0</td>\n",
       "    </tr>\n",
       "    <tr>\n",
       "      <th>...</th>\n",
       "      <td>...</td>\n",
       "      <td>...</td>\n",
       "      <td>...</td>\n",
       "      <td>...</td>\n",
       "      <td>...</td>\n",
       "      <td>...</td>\n",
       "      <td>...</td>\n",
       "      <td>...</td>\n",
       "      <td>...</td>\n",
       "      <td>...</td>\n",
       "      <td>...</td>\n",
       "      <td>...</td>\n",
       "      <td>...</td>\n",
       "      <td>...</td>\n",
       "      <td>...</td>\n",
       "      <td>...</td>\n",
       "      <td>...</td>\n",
       "      <td>...</td>\n",
       "      <td>...</td>\n",
       "      <td>...</td>\n",
       "      <td>...</td>\n",
       "    </tr>\n",
       "    <tr>\n",
       "      <th>2046</th>\n",
       "      <td>0.0</td>\n",
       "      <td>0.0</td>\n",
       "      <td>0.0</td>\n",
       "      <td>0.0</td>\n",
       "      <td>0.0</td>\n",
       "      <td>0.0</td>\n",
       "      <td>0.0</td>\n",
       "      <td>1.0</td>\n",
       "      <td>0.0</td>\n",
       "      <td>0.0</td>\n",
       "      <td>...</td>\n",
       "      <td>1.0</td>\n",
       "      <td>0.0</td>\n",
       "      <td>1728.0</td>\n",
       "      <td>2.0</td>\n",
       "      <td>1884.0</td>\n",
       "      <td>1728.0</td>\n",
       "      <td>2007.0</td>\n",
       "      <td>2007.0</td>\n",
       "      <td>2.0</td>\n",
       "      <td>298751.0</td>\n",
       "    </tr>\n",
       "    <tr>\n",
       "      <th>2047</th>\n",
       "      <td>0.0</td>\n",
       "      <td>0.0</td>\n",
       "      <td>0.0</td>\n",
       "      <td>1.0</td>\n",
       "      <td>0.0</td>\n",
       "      <td>0.0</td>\n",
       "      <td>0.0</td>\n",
       "      <td>0.0</td>\n",
       "      <td>0.0</td>\n",
       "      <td>0.0</td>\n",
       "      <td>...</td>\n",
       "      <td>0.0</td>\n",
       "      <td>0.0</td>\n",
       "      <td>861.0</td>\n",
       "      <td>2.0</td>\n",
       "      <td>861.0</td>\n",
       "      <td>861.0</td>\n",
       "      <td>1940.0</td>\n",
       "      <td>1950.0</td>\n",
       "      <td>1.0</td>\n",
       "      <td>82500.0</td>\n",
       "    </tr>\n",
       "    <tr>\n",
       "      <th>2048</th>\n",
       "      <td>0.0</td>\n",
       "      <td>0.0</td>\n",
       "      <td>0.0</td>\n",
       "      <td>0.0</td>\n",
       "      <td>0.0</td>\n",
       "      <td>1.0</td>\n",
       "      <td>0.0</td>\n",
       "      <td>0.0</td>\n",
       "      <td>0.0</td>\n",
       "      <td>0.0</td>\n",
       "      <td>...</td>\n",
       "      <td>0.0</td>\n",
       "      <td>0.0</td>\n",
       "      <td>1913.0</td>\n",
       "      <td>2.0</td>\n",
       "      <td>896.0</td>\n",
       "      <td>1172.0</td>\n",
       "      <td>1928.0</td>\n",
       "      <td>1950.0</td>\n",
       "      <td>1.0</td>\n",
       "      <td>177000.0</td>\n",
       "    </tr>\n",
       "    <tr>\n",
       "      <th>2049</th>\n",
       "      <td>0.0</td>\n",
       "      <td>0.0</td>\n",
       "      <td>0.0</td>\n",
       "      <td>1.0</td>\n",
       "      <td>0.0</td>\n",
       "      <td>0.0</td>\n",
       "      <td>0.0</td>\n",
       "      <td>0.0</td>\n",
       "      <td>0.0</td>\n",
       "      <td>0.0</td>\n",
       "      <td>...</td>\n",
       "      <td>0.0</td>\n",
       "      <td>0.0</td>\n",
       "      <td>1200.0</td>\n",
       "      <td>1.0</td>\n",
       "      <td>1200.0</td>\n",
       "      <td>1200.0</td>\n",
       "      <td>1956.0</td>\n",
       "      <td>1956.0</td>\n",
       "      <td>1.0</td>\n",
       "      <td>144000.0</td>\n",
       "    </tr>\n",
       "    <tr>\n",
       "      <th>2050</th>\n",
       "      <td>0.0</td>\n",
       "      <td>0.0</td>\n",
       "      <td>0.0</td>\n",
       "      <td>0.0</td>\n",
       "      <td>0.0</td>\n",
       "      <td>0.0</td>\n",
       "      <td>1.0</td>\n",
       "      <td>0.0</td>\n",
       "      <td>0.0</td>\n",
       "      <td>0.0</td>\n",
       "      <td>...</td>\n",
       "      <td>0.0</td>\n",
       "      <td>0.0</td>\n",
       "      <td>1804.0</td>\n",
       "      <td>2.0</td>\n",
       "      <td>994.0</td>\n",
       "      <td>1028.0</td>\n",
       "      <td>1999.0</td>\n",
       "      <td>1999.0</td>\n",
       "      <td>2.0</td>\n",
       "      <td>189000.0</td>\n",
       "    </tr>\n",
       "  </tbody>\n",
       "</table>\n",
       "<p>2051 rows × 46 columns</p>\n",
       "</div>"
      ],
      "text/plain": [
       "      Overall Qual_1  Overall Qual_2  Overall Qual_3  Overall Qual_4  \\\n",
       "0                0.0             0.0             0.0             0.0   \n",
       "1                0.0             0.0             0.0             0.0   \n",
       "2                0.0             0.0             0.0             0.0   \n",
       "3                0.0             0.0             0.0             0.0   \n",
       "4                0.0             0.0             0.0             0.0   \n",
       "...              ...             ...             ...             ...   \n",
       "2046             0.0             0.0             0.0             0.0   \n",
       "2047             0.0             0.0             0.0             1.0   \n",
       "2048             0.0             0.0             0.0             0.0   \n",
       "2049             0.0             0.0             0.0             1.0   \n",
       "2050             0.0             0.0             0.0             0.0   \n",
       "\n",
       "      Overall Qual_5  Overall Qual_6  Overall Qual_7  Overall Qual_8  \\\n",
       "0                0.0             1.0             0.0             0.0   \n",
       "1                0.0             0.0             1.0             0.0   \n",
       "2                1.0             0.0             0.0             0.0   \n",
       "3                1.0             0.0             0.0             0.0   \n",
       "4                0.0             1.0             0.0             0.0   \n",
       "...              ...             ...             ...             ...   \n",
       "2046             0.0             0.0             0.0             1.0   \n",
       "2047             0.0             0.0             0.0             0.0   \n",
       "2048             0.0             1.0             0.0             0.0   \n",
       "2049             0.0             0.0             0.0             0.0   \n",
       "2050             0.0             0.0             1.0             0.0   \n",
       "\n",
       "      Overall Qual_9  Overall Qual_10  ...  Neighborhood_Timber  \\\n",
       "0                0.0              0.0  ...                  0.0   \n",
       "1                0.0              0.0  ...                  0.0   \n",
       "2                0.0              0.0  ...                  0.0   \n",
       "3                0.0              0.0  ...                  1.0   \n",
       "4                0.0              0.0  ...                  0.0   \n",
       "...              ...              ...  ...                  ...   \n",
       "2046             0.0              0.0  ...                  1.0   \n",
       "2047             0.0              0.0  ...                  0.0   \n",
       "2048             0.0              0.0  ...                  0.0   \n",
       "2049             0.0              0.0  ...                  0.0   \n",
       "2050             0.0              0.0  ...                  0.0   \n",
       "\n",
       "      Neighborhood_Veenker  Gr Liv Area  Garage Cars  Total Bsmt SF  \\\n",
       "0                      0.0       1479.0          2.0          725.0   \n",
       "1                      0.0       2122.0          2.0          913.0   \n",
       "2                      0.0       1057.0          1.0         1057.0   \n",
       "3                      0.0       1444.0          2.0          384.0   \n",
       "4                      0.0       1445.0          2.0          676.0   \n",
       "...                    ...          ...          ...            ...   \n",
       "2046                   0.0       1728.0          2.0         1884.0   \n",
       "2047                   0.0        861.0          2.0          861.0   \n",
       "2048                   0.0       1913.0          2.0          896.0   \n",
       "2049                   0.0       1200.0          1.0         1200.0   \n",
       "2050                   0.0       1804.0          2.0          994.0   \n",
       "\n",
       "      1st Flr SF  Year Built  Year Remod/Add  Full Bath  SalePrice  \n",
       "0          725.0      1976.0          2005.0        2.0   130500.0  \n",
       "1          913.0      1996.0          1997.0        2.0   220000.0  \n",
       "2         1057.0      1953.0          2007.0        1.0   109000.0  \n",
       "3          744.0      2006.0          2007.0        2.0   174000.0  \n",
       "4          831.0      1900.0          1993.0        2.0   138500.0  \n",
       "...          ...         ...             ...        ...        ...  \n",
       "2046      1728.0      2007.0          2007.0        2.0   298751.0  \n",
       "2047       861.0      1940.0          1950.0        1.0    82500.0  \n",
       "2048      1172.0      1928.0          1950.0        1.0   177000.0  \n",
       "2049      1200.0      1956.0          1956.0        1.0   144000.0  \n",
       "2050      1028.0      1999.0          1999.0        2.0   189000.0  \n",
       "\n",
       "[2051 rows x 46 columns]"
      ]
     },
     "execution_count": 49,
     "metadata": {},
     "output_type": "execute_result"
    }
   ],
   "source": [
    "X_train_encoded"
   ]
  },
  {
   "cell_type": "code",
   "execution_count": 50,
   "metadata": {},
   "outputs": [
    {
     "data": {
      "text/plain": [
       "<AxesSubplot:>"
      ]
     },
     "execution_count": 50,
     "metadata": {},
     "output_type": "execute_result"
    },
    {
     "data": {
      "image/png": "[encoded data removed]",
      "text/plain": [
       "<Figure size 1152x1008 with 2 Axes>"
      ]
     },
     "metadata": {
      "needs_background": "light"
     },
     "output_type": "display_data"
    }
   ],
   "source": [
    "plt.figure(figsize=(16,14))\n",
    "\n",
    "sns.heatmap(\n",
    "    X_train_encoded.corr()[['SalePrice']].sort_values(by='SalePrice', ascending=False),\n",
    "    annot=True\n",
    ")"
   ]
  },
  {
   "cell_type": "markdown",
   "metadata": {},
   "source": [
    "Looking at this correlation matrix tells me that I want to drop some categorical features from my models but I couldn't figure out how to do that.  I will follow up and figure this out after I turn in this project."
   ]
  }
 ],
 "metadata": {
  "interpreter": {
   "hash": "1013f178bd8cc9c09c9a1bfa722153bff45040218b602b728b1ebb7cc8a12e61"
  },
  "kernelspec": {
   "display_name": "Python 3.9.7 64-bit ('base': conda)",
   "language": "python",
   "name": "python3"
  },
  "language_info": {
   "codemirror_mode": {
    "name": "ipython",
    "version": 3
   },
   "file_extension": ".py",
   "mimetype": "text/x-python",
   "name": "python",
   "nbconvert_exporter": "python",
   "pygments_lexer": "ipython3",
   "version": "3.9.7"
  },
  "orig_nbformat": 4
 },
 "nbformat": 4,
 "nbformat_minor": 2
}
