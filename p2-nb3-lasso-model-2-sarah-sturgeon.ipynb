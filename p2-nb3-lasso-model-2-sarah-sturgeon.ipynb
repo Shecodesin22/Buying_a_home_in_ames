{
 "cells": [
  {
   "cell_type": "code",
   "execution_count": 1,
   "metadata": {},
   "outputs": [],
   "source": [
    "import numpy as np\n",
    "import pandas as pd\n",
    "import matplotlib.pyplot as plt\n",
    "import seaborn as sns\n",
    "\n",
    "import missingno as mn\n",
    "\n",
    "from sklearn.linear_model import LinearRegression, Lasso, Ridge\n",
    "from sklearn.pipeline import make_pipeline\n",
    "from sklearn.preprocessing import StandardScaler, PolynomialFeatures, OneHotEncoder, OrdinalEncoder\n",
    "from sklearn.model_selection import train_test_split, GridSearchCV\n",
    "from sklearn.compose import make_column_selector, make_column_transformer\n",
    "from sklearn.metrics import mean_squared_error, mean_absolute_error, r2_score\n",
    "from sklearn.dummy import DummyRegressor\n",
    "from sklearn.feature_selection import RFE\n",
    "from sklearn.impute import SimpleImputer\n",
    "\n",
    "from sklearn import set_config\n",
    "set_config(display='diagram')\n",
    "\n",
    "#Nate shared this list as his ultimate go-to during our regresssion hack-a-thon"
   ]
  },
  {
   "cell_type": "code",
   "execution_count": 2,
   "metadata": {},
   "outputs": [],
   "source": [
    "df_ames_train = pd.read_csv('./datasets/train.csv')"
   ]
  },
  {
   "cell_type": "markdown",
   "metadata": {},
   "source": [
    "I know I need to split my data into train/test before I do any data transformations and build any models."
   ]
  },
  {
   "cell_type": "code",
   "execution_count": 3,
   "metadata": {},
   "outputs": [],
   "source": [
    "df_ames_lasso_cat_train = df_ames_train[['Overall Qual','Gr Liv Area', 'Garage Cars',\n",
    "'Total Bsmt SF', '1st Flr SF', 'Year Built', 'Year Remod/Add', 'Full Bath',\n",
    "'TotRms AbvGrd', 'Fireplaces', 'BsmtFin SF 1', 'Neighborhood',\n",
    "'Open Porch SF', 'Wood Deck SF', 'Lot Area', 'SalePrice']]"
   ]
  },
  {
   "cell_type": "code",
   "execution_count": 4,
   "metadata": {},
   "outputs": [
    {
     "data": {
      "text/plain": [
       "Overall Qual      0\n",
       "Gr Liv Area       0\n",
       "Garage Cars       1\n",
       "Total Bsmt SF     1\n",
       "1st Flr SF        0\n",
       "Year Built        0\n",
       "Year Remod/Add    0\n",
       "Full Bath         0\n",
       "TotRms AbvGrd     0\n",
       "Fireplaces        0\n",
       "BsmtFin SF 1      1\n",
       "Neighborhood      0\n",
       "Open Porch SF     0\n",
       "Wood Deck SF      0\n",
       "Lot Area          0\n",
       "SalePrice         0\n",
       "dtype: int64"
      ]
     },
     "execution_count": 4,
     "metadata": {},
     "output_type": "execute_result"
    }
   ],
   "source": [
    "df_ames_lasso_cat_train.isna().sum()"
   ]
  },
  {
   "cell_type": "code",
   "execution_count": 5,
   "metadata": {},
   "outputs": [
    {
     "name": "stderr",
     "output_type": "stream",
     "text": [
      "C:\\Users\\sarah\\anaconda3\\lib\\site-packages\\pandas\\util\\_decorators.py:311: SettingWithCopyWarning: \n",
      "A value is trying to be set on a copy of a slice from a DataFrame\n",
      "\n",
      "See the caveats in the documentation: https://pandas.pydata.org/pandas-docs/stable/user_guide/indexing.html#returning-a-view-versus-a-copy\n",
      "  return func(*args, **kwargs)\n"
     ]
    }
   ],
   "source": [
    "#I am totally okay with dropping the rows with missing data\n",
    "df_ames_lasso_cat_train.dropna(inplace=True)"
   ]
  },
  {
   "cell_type": "code",
   "execution_count": 6,
   "metadata": {},
   "outputs": [
    {
     "data": {
      "text/plain": [
       "Overall Qual      0\n",
       "Gr Liv Area       0\n",
       "Garage Cars       0\n",
       "Total Bsmt SF     0\n",
       "1st Flr SF        0\n",
       "Year Built        0\n",
       "Year Remod/Add    0\n",
       "Full Bath         0\n",
       "TotRms AbvGrd     0\n",
       "Fireplaces        0\n",
       "BsmtFin SF 1      0\n",
       "Neighborhood      0\n",
       "Open Porch SF     0\n",
       "Wood Deck SF      0\n",
       "Lot Area          0\n",
       "SalePrice         0\n",
       "dtype: int64"
      ]
     },
     "execution_count": 6,
     "metadata": {},
     "output_type": "execute_result"
    }
   ],
   "source": [
    "df_ames_lasso_cat_train.isna().sum()"
   ]
  },
  {
   "cell_type": "code",
   "execution_count": 7,
   "metadata": {},
   "outputs": [],
   "source": [
    "\n",
    "X = df_ames_lasso_cat_train[['Overall Qual','Gr Liv Area', 'Garage Cars',\n",
    "'Total Bsmt SF', '1st Flr SF', 'Year Built', 'Year Remod/Add', 'Full Bath',\n",
    "'TotRms AbvGrd', 'Fireplaces', 'BsmtFin SF 1','Neighborhood',\n",
    "'Open Porch SF', 'Wood Deck SF', 'Lot Area']]\n",
    "y = df_ames_lasso_cat_train['SalePrice']\n",
    "    "
   ]
  },
  {
   "cell_type": "code",
   "execution_count": 8,
   "metadata": {},
   "outputs": [
    {
     "data": {
      "text/plain": [
       "(2049, 15)"
      ]
     },
     "execution_count": 8,
     "metadata": {},
     "output_type": "execute_result"
    }
   ],
   "source": [
    "X.shape"
   ]
  },
  {
   "cell_type": "code",
   "execution_count": 9,
   "metadata": {},
   "outputs": [
    {
     "data": {
      "text/plain": [
       "(2049,)"
      ]
     },
     "execution_count": 9,
     "metadata": {},
     "output_type": "execute_result"
    }
   ],
   "source": [
    "y.shape"
   ]
  },
  {
   "cell_type": "code",
   "execution_count": 10,
   "metadata": {},
   "outputs": [],
   "source": [
    "X_train, X_test, y_train, y_test = train_test_split(X, y)"
   ]
  },
  {
   "cell_type": "code",
   "execution_count": 11,
   "metadata": {},
   "outputs": [
    {
     "data": {
      "text/plain": [
       "Overall Qual        int64\n",
       "Gr Liv Area         int64\n",
       "Garage Cars       float64\n",
       "Total Bsmt SF     float64\n",
       "1st Flr SF          int64\n",
       "Year Built          int64\n",
       "Year Remod/Add      int64\n",
       "Full Bath           int64\n",
       "TotRms AbvGrd       int64\n",
       "Fireplaces          int64\n",
       "BsmtFin SF 1      float64\n",
       "Neighborhood       object\n",
       "Open Porch SF       int64\n",
       "Wood Deck SF        int64\n",
       "Lot Area            int64\n",
       "dtype: object"
      ]
     },
     "execution_count": 11,
     "metadata": {},
     "output_type": "execute_result"
    }
   ],
   "source": [
    "X_train.dtypes"
   ]
  },
  {
   "cell_type": "code",
   "execution_count": 12,
   "metadata": {},
   "outputs": [],
   "source": [
    "ct1 = make_column_transformer(\n",
    "    (OneHotEncoder(handle_unknown='ignore'), ['Neighborhood', 'Overall Qual']),\n",
    "    remainder='passthrough',\n",
    "     verbose_feature_names_out=False)\n"
   ]
  },
  {
   "cell_type": "code",
   "execution_count": 13,
   "metadata": {},
   "outputs": [],
   "source": [
    "pipe3 = make_pipeline(ct1, StandardScaler(), Lasso())"
   ]
  },
  {
   "cell_type": "code",
   "execution_count": 14,
   "metadata": {},
   "outputs": [],
   "source": [
    "params3 = {\n",
    "           'lasso__alpha': [.005,.01, 0.1, 1, 100, 200]}\n",
    "           #controls regularization"
   ]
  },
  {
   "cell_type": "code",
   "execution_count": 15,
   "metadata": {},
   "outputs": [],
   "source": [
    "gs3 = GridSearchCV(pipe3, params3, n_jobs=-1)"
   ]
  },
  {
   "cell_type": "code",
   "execution_count": 16,
   "metadata": {},
   "outputs": [
    {
     "data": {
      "text/plain": [
       "dict_keys(['memory', 'steps', 'verbose', 'columntransformer', 'standardscaler', 'lasso', 'columntransformer__n_jobs', 'columntransformer__remainder', 'columntransformer__sparse_threshold', 'columntransformer__transformer_weights', 'columntransformer__transformers', 'columntransformer__verbose', 'columntransformer__verbose_feature_names_out', 'columntransformer__onehotencoder', 'columntransformer__onehotencoder__categories', 'columntransformer__onehotencoder__drop', 'columntransformer__onehotencoder__dtype', 'columntransformer__onehotencoder__handle_unknown', 'columntransformer__onehotencoder__sparse', 'standardscaler__copy', 'standardscaler__with_mean', 'standardscaler__with_std', 'lasso__alpha', 'lasso__copy_X', 'lasso__fit_intercept', 'lasso__max_iter', 'lasso__normalize', 'lasso__positive', 'lasso__precompute', 'lasso__random_state', 'lasso__selection', 'lasso__tol', 'lasso__warm_start'])"
      ]
     },
     "execution_count": 16,
     "metadata": {},
     "output_type": "execute_result"
    }
   ],
   "source": [
    "pipe3.get_params().keys()"
   ]
  },
  {
   "cell_type": "code",
   "execution_count": 17,
   "metadata": {},
   "outputs": [
    {
     "data": {
      "text/plain": [
       "<bound method ColumnTransformer.get_feature_names_out of ColumnTransformer(remainder='passthrough',\n",
       "                  transformers=[('onehotencoder',\n",
       "                                 OneHotEncoder(handle_unknown='ignore'),\n",
       "                                 ['Neighborhood', 'Overall Qual'])],\n",
       "                  verbose_feature_names_out=False)>"
      ]
     },
     "execution_count": 17,
     "metadata": {},
     "output_type": "execute_result"
    }
   ],
   "source": [
    "ct1.get_feature_names_out\n",
    "\n"
   ]
  },
  {
   "cell_type": "code",
   "execution_count": 18,
   "metadata": {},
   "outputs": [
    {
     "data": {
      "text/html": [
       "<style>#sk-dfd352fc-9749-48ee-b246-bbdbbfb161d7 {color: black;background-color: white;}#sk-dfd352fc-9749-48ee-b246-bbdbbfb161d7 pre{padding: 0;}#sk-dfd352fc-9749-48ee-b246-bbdbbfb161d7 div.sk-toggleable {background-color: white;}#sk-dfd352fc-9749-48ee-b246-bbdbbfb161d7 label.sk-toggleable__label {cursor: pointer;display: block;width: 100%;margin-bottom: 0;padding: 0.3em;box-sizing: border-box;text-align: center;}#sk-dfd352fc-9749-48ee-b246-bbdbbfb161d7 label.sk-toggleable__label-arrow:before {content: \"▸\";float: left;margin-right: 0.25em;color: #696969;}#sk-dfd352fc-9749-48ee-b246-bbdbbfb161d7 label.sk-toggleable__label-arrow:hover:before {color: black;}#sk-dfd352fc-9749-48ee-b246-bbdbbfb161d7 div.sk-estimator:hover label.sk-toggleable__label-arrow:before {color: black;}#sk-dfd352fc-9749-48ee-b246-bbdbbfb161d7 div.sk-toggleable__content {max-height: 0;max-width: 0;overflow: hidden;text-align: left;background-color: #f0f8ff;}#sk-dfd352fc-9749-48ee-b246-bbdbbfb161d7 div.sk-toggleable__content pre {margin: 0.2em;color: black;border-radius: 0.25em;background-color: #f0f8ff;}#sk-dfd352fc-9749-48ee-b246-bbdbbfb161d7 input.sk-toggleable__control:checked~div.sk-toggleable__content {max-height: 200px;max-width: 100%;overflow: auto;}#sk-dfd352fc-9749-48ee-b246-bbdbbfb161d7 input.sk-toggleable__control:checked~label.sk-toggleable__label-arrow:before {content: \"▾\";}#sk-dfd352fc-9749-48ee-b246-bbdbbfb161d7 div.sk-estimator input.sk-toggleable__control:checked~label.sk-toggleable__label {background-color: #d4ebff;}#sk-dfd352fc-9749-48ee-b246-bbdbbfb161d7 div.sk-label input.sk-toggleable__control:checked~label.sk-toggleable__label {background-color: #d4ebff;}#sk-dfd352fc-9749-48ee-b246-bbdbbfb161d7 input.sk-hidden--visually {border: 0;clip: rect(1px 1px 1px 1px);clip: rect(1px, 1px, 1px, 1px);height: 1px;margin: -1px;overflow: hidden;padding: 0;position: absolute;width: 1px;}#sk-dfd352fc-9749-48ee-b246-bbdbbfb161d7 div.sk-estimator {font-family: monospace;background-color: #f0f8ff;border: 1px dotted black;border-radius: 0.25em;box-sizing: border-box;margin-bottom: 0.5em;}#sk-dfd352fc-9749-48ee-b246-bbdbbfb161d7 div.sk-estimator:hover {background-color: #d4ebff;}#sk-dfd352fc-9749-48ee-b246-bbdbbfb161d7 div.sk-parallel-item::after {content: \"\";width: 100%;border-bottom: 1px solid gray;flex-grow: 1;}#sk-dfd352fc-9749-48ee-b246-bbdbbfb161d7 div.sk-label:hover label.sk-toggleable__label {background-color: #d4ebff;}#sk-dfd352fc-9749-48ee-b246-bbdbbfb161d7 div.sk-serial::before {content: \"\";position: absolute;border-left: 1px solid gray;box-sizing: border-box;top: 2em;bottom: 0;left: 50%;}#sk-dfd352fc-9749-48ee-b246-bbdbbfb161d7 div.sk-serial {display: flex;flex-direction: column;align-items: center;background-color: white;padding-right: 0.2em;padding-left: 0.2em;}#sk-dfd352fc-9749-48ee-b246-bbdbbfb161d7 div.sk-item {z-index: 1;}#sk-dfd352fc-9749-48ee-b246-bbdbbfb161d7 div.sk-parallel {display: flex;align-items: stretch;justify-content: center;background-color: white;}#sk-dfd352fc-9749-48ee-b246-bbdbbfb161d7 div.sk-parallel::before {content: \"\";position: absolute;border-left: 1px solid gray;box-sizing: border-box;top: 2em;bottom: 0;left: 50%;}#sk-dfd352fc-9749-48ee-b246-bbdbbfb161d7 div.sk-parallel-item {display: flex;flex-direction: column;position: relative;background-color: white;}#sk-dfd352fc-9749-48ee-b246-bbdbbfb161d7 div.sk-parallel-item:first-child::after {align-self: flex-end;width: 50%;}#sk-dfd352fc-9749-48ee-b246-bbdbbfb161d7 div.sk-parallel-item:last-child::after {align-self: flex-start;width: 50%;}#sk-dfd352fc-9749-48ee-b246-bbdbbfb161d7 div.sk-parallel-item:only-child::after {width: 0;}#sk-dfd352fc-9749-48ee-b246-bbdbbfb161d7 div.sk-dashed-wrapped {border: 1px dashed gray;margin: 0 0.4em 0.5em 0.4em;box-sizing: border-box;padding-bottom: 0.4em;background-color: white;position: relative;}#sk-dfd352fc-9749-48ee-b246-bbdbbfb161d7 div.sk-label label {font-family: monospace;font-weight: bold;background-color: white;display: inline-block;line-height: 1.2em;}#sk-dfd352fc-9749-48ee-b246-bbdbbfb161d7 div.sk-label-container {position: relative;z-index: 2;text-align: center;}#sk-dfd352fc-9749-48ee-b246-bbdbbfb161d7 div.sk-container {/* jupyter's `normalize.less` sets `[hidden] { display: none; }` but bootstrap.min.css set `[hidden] { display: none !important; }` so we also need the `!important` here to be able to override the default hidden behavior on the sphinx rendered scikit-learn.org. See: https://github.com/scikit-learn/scikit-learn/issues/21755 */display: inline-block !important;position: relative;}#sk-dfd352fc-9749-48ee-b246-bbdbbfb161d7 div.sk-text-repr-fallback {display: none;}</style><div id=\"sk-dfd352fc-9749-48ee-b246-bbdbbfb161d7\" class=\"sk-top-container\"><div class=\"sk-text-repr-fallback\"><pre>GridSearchCV(estimator=Pipeline(steps=[(&#x27;columntransformer&#x27;,\n",
       "                                        ColumnTransformer(remainder=&#x27;passthrough&#x27;,\n",
       "                                                          transformers=[(&#x27;onehotencoder&#x27;,\n",
       "                                                                         OneHotEncoder(handle_unknown=&#x27;ignore&#x27;),\n",
       "                                                                         [&#x27;Neighborhood&#x27;,\n",
       "                                                                          &#x27;Overall &#x27;\n",
       "                                                                          &#x27;Qual&#x27;])],\n",
       "                                                          verbose_feature_names_out=False)),\n",
       "                                       (&#x27;standardscaler&#x27;, StandardScaler()),\n",
       "                                       (&#x27;lasso&#x27;, Lasso())]),\n",
       "             n_jobs=-1,\n",
       "             param_grid={&#x27;lasso__alpha&#x27;: [0.005, 0.01, 0.1, 1, 100, 200]})</pre><b>Please rerun this cell to show the HTML repr or trust the notebook.</b></div><div class=\"sk-container\" hidden><div class=\"sk-item sk-dashed-wrapped\"><div class=\"sk-label-container\"><div class=\"sk-label sk-toggleable\"><input class=\"sk-toggleable__control sk-hidden--visually\" id=\"ba7f828c-6c80-4126-8d19-a424ed5468f9\" type=\"checkbox\" ><label for=\"ba7f828c-6c80-4126-8d19-a424ed5468f9\" class=\"sk-toggleable__label sk-toggleable__label-arrow\">GridSearchCV</label><div class=\"sk-toggleable__content\"><pre>GridSearchCV(estimator=Pipeline(steps=[(&#x27;columntransformer&#x27;,\n",
       "                                        ColumnTransformer(remainder=&#x27;passthrough&#x27;,\n",
       "                                                          transformers=[(&#x27;onehotencoder&#x27;,\n",
       "                                                                         OneHotEncoder(handle_unknown=&#x27;ignore&#x27;),\n",
       "                                                                         [&#x27;Neighborhood&#x27;,\n",
       "                                                                          &#x27;Overall &#x27;\n",
       "                                                                          &#x27;Qual&#x27;])],\n",
       "                                                          verbose_feature_names_out=False)),\n",
       "                                       (&#x27;standardscaler&#x27;, StandardScaler()),\n",
       "                                       (&#x27;lasso&#x27;, Lasso())]),\n",
       "             n_jobs=-1,\n",
       "             param_grid={&#x27;lasso__alpha&#x27;: [0.005, 0.01, 0.1, 1, 100, 200]})</pre></div></div></div><div class=\"sk-parallel\"><div class=\"sk-parallel-item\"><div class=\"sk-item\"><div class=\"sk-serial\"><div class=\"sk-item\"><div class=\"sk-serial\"><div class=\"sk-item sk-dashed-wrapped\"><div class=\"sk-label-container\"><div class=\"sk-label sk-toggleable\"><input class=\"sk-toggleable__control sk-hidden--visually\" id=\"e2c1c2a2-151f-4ff7-9283-b4f62dc85ecb\" type=\"checkbox\" ><label for=\"e2c1c2a2-151f-4ff7-9283-b4f62dc85ecb\" class=\"sk-toggleable__label sk-toggleable__label-arrow\">columntransformer: ColumnTransformer</label><div class=\"sk-toggleable__content\"><pre>ColumnTransformer(remainder=&#x27;passthrough&#x27;,\n",
       "                  transformers=[(&#x27;onehotencoder&#x27;,\n",
       "                                 OneHotEncoder(handle_unknown=&#x27;ignore&#x27;),\n",
       "                                 [&#x27;Neighborhood&#x27;, &#x27;Overall Qual&#x27;])],\n",
       "                  verbose_feature_names_out=False)</pre></div></div></div><div class=\"sk-parallel\"><div class=\"sk-parallel-item\"><div class=\"sk-item\"><div class=\"sk-label-container\"><div class=\"sk-label sk-toggleable\"><input class=\"sk-toggleable__control sk-hidden--visually\" id=\"d9b1958c-8667-44ff-b69b-635d9f3f70cb\" type=\"checkbox\" ><label for=\"d9b1958c-8667-44ff-b69b-635d9f3f70cb\" class=\"sk-toggleable__label sk-toggleable__label-arrow\">onehotencoder</label><div class=\"sk-toggleable__content\"><pre>[&#x27;Neighborhood&#x27;, &#x27;Overall Qual&#x27;]</pre></div></div></div><div class=\"sk-serial\"><div class=\"sk-item\"><div class=\"sk-estimator sk-toggleable\"><input class=\"sk-toggleable__control sk-hidden--visually\" id=\"c3b36665-522d-4edc-a380-77d8bbe0638f\" type=\"checkbox\" ><label for=\"c3b36665-522d-4edc-a380-77d8bbe0638f\" class=\"sk-toggleable__label sk-toggleable__label-arrow\">OneHotEncoder</label><div class=\"sk-toggleable__content\"><pre>OneHotEncoder(handle_unknown=&#x27;ignore&#x27;)</pre></div></div></div></div></div></div><div class=\"sk-parallel-item\"><div class=\"sk-item\"><div class=\"sk-label-container\"><div class=\"sk-label sk-toggleable\"><input class=\"sk-toggleable__control sk-hidden--visually\" id=\"9e9f7246-c5b3-407b-91a4-7ed3592fb326\" type=\"checkbox\" ><label for=\"9e9f7246-c5b3-407b-91a4-7ed3592fb326\" class=\"sk-toggleable__label sk-toggleable__label-arrow\">remainder</label><div class=\"sk-toggleable__content\"><pre></pre></div></div></div><div class=\"sk-serial\"><div class=\"sk-item\"><div class=\"sk-estimator sk-toggleable\"><input class=\"sk-toggleable__control sk-hidden--visually\" id=\"ac3db264-5f53-49fd-b819-4441e9049aa4\" type=\"checkbox\" ><label for=\"ac3db264-5f53-49fd-b819-4441e9049aa4\" class=\"sk-toggleable__label sk-toggleable__label-arrow\">passthrough</label><div class=\"sk-toggleable__content\"><pre>passthrough</pre></div></div></div></div></div></div></div></div><div class=\"sk-item\"><div class=\"sk-estimator sk-toggleable\"><input class=\"sk-toggleable__control sk-hidden--visually\" id=\"18614588-c523-47a1-bedb-5d22a4c84d7e\" type=\"checkbox\" ><label for=\"18614588-c523-47a1-bedb-5d22a4c84d7e\" class=\"sk-toggleable__label sk-toggleable__label-arrow\">StandardScaler</label><div class=\"sk-toggleable__content\"><pre>StandardScaler()</pre></div></div></div><div class=\"sk-item\"><div class=\"sk-estimator sk-toggleable\"><input class=\"sk-toggleable__control sk-hidden--visually\" id=\"9caca219-5fe9-47a0-956a-64f6b95eb87f\" type=\"checkbox\" ><label for=\"9caca219-5fe9-47a0-956a-64f6b95eb87f\" class=\"sk-toggleable__label sk-toggleable__label-arrow\">Lasso</label><div class=\"sk-toggleable__content\"><pre>Lasso()</pre></div></div></div></div></div></div></div></div></div></div></div></div>"
      ],
      "text/plain": [
       "GridSearchCV(estimator=Pipeline(steps=[('columntransformer',\n",
       "                                        ColumnTransformer(remainder='passthrough',\n",
       "                                                          transformers=[('onehotencoder',\n",
       "                                                                         OneHotEncoder(handle_unknown='ignore'),\n",
       "                                                                         ['Neighborhood',\n",
       "                                                                          'Overall '\n",
       "                                                                          'Qual'])],\n",
       "                                                          verbose_feature_names_out=False)),\n",
       "                                       ('standardscaler', StandardScaler()),\n",
       "                                       ('lasso', Lasso())]),\n",
       "             n_jobs=-1,\n",
       "             param_grid={'lasso__alpha': [0.005, 0.01, 0.1, 1, 100, 200]})"
      ]
     },
     "execution_count": 18,
     "metadata": {},
     "output_type": "execute_result"
    }
   ],
   "source": [
    "gs3.fit(X_train, y_train)"
   ]
  },
  {
   "cell_type": "code",
   "execution_count": 19,
   "metadata": {},
   "outputs": [
    {
     "data": {
      "text/html": [
       "<div>\n",
       "<style scoped>\n",
       "    .dataframe tbody tr th:only-of-type {\n",
       "        vertical-align: middle;\n",
       "    }\n",
       "\n",
       "    .dataframe tbody tr th {\n",
       "        vertical-align: top;\n",
       "    }\n",
       "\n",
       "    .dataframe thead th {\n",
       "        text-align: right;\n",
       "    }\n",
       "</style>\n",
       "<table border=\"1\" class=\"dataframe\">\n",
       "  <thead>\n",
       "    <tr style=\"text-align: right;\">\n",
       "      <th></th>\n",
       "      <th>mean_fit_time</th>\n",
       "      <th>std_fit_time</th>\n",
       "      <th>mean_score_time</th>\n",
       "      <th>std_score_time</th>\n",
       "      <th>param_lasso__alpha</th>\n",
       "      <th>params</th>\n",
       "      <th>split0_test_score</th>\n",
       "      <th>split1_test_score</th>\n",
       "      <th>split2_test_score</th>\n",
       "      <th>split3_test_score</th>\n",
       "      <th>split4_test_score</th>\n",
       "      <th>mean_test_score</th>\n",
       "      <th>std_test_score</th>\n",
       "      <th>rank_test_score</th>\n",
       "    </tr>\n",
       "  </thead>\n",
       "  <tbody>\n",
       "    <tr>\n",
       "      <th>0</th>\n",
       "      <td>0.080225</td>\n",
       "      <td>0.005829</td>\n",
       "      <td>0.006002</td>\n",
       "      <td>0.002452</td>\n",
       "      <td>0.005</td>\n",
       "      <td>{'lasso__alpha': 0.005}</td>\n",
       "      <td>0.839394</td>\n",
       "      <td>0.814299</td>\n",
       "      <td>0.881644</td>\n",
       "      <td>0.864447</td>\n",
       "      <td>0.718855</td>\n",
       "      <td>0.823728</td>\n",
       "      <td>0.057175</td>\n",
       "      <td>6</td>\n",
       "    </tr>\n",
       "    <tr>\n",
       "      <th>1</th>\n",
       "      <td>0.084918</td>\n",
       "      <td>0.011520</td>\n",
       "      <td>0.004202</td>\n",
       "      <td>0.000748</td>\n",
       "      <td>0.01</td>\n",
       "      <td>{'lasso__alpha': 0.01}</td>\n",
       "      <td>0.839394</td>\n",
       "      <td>0.814299</td>\n",
       "      <td>0.881644</td>\n",
       "      <td>0.864447</td>\n",
       "      <td>0.718856</td>\n",
       "      <td>0.823728</td>\n",
       "      <td>0.057175</td>\n",
       "      <td>5</td>\n",
       "    </tr>\n",
       "    <tr>\n",
       "      <th>2</th>\n",
       "      <td>0.084218</td>\n",
       "      <td>0.012547</td>\n",
       "      <td>0.006002</td>\n",
       "      <td>0.004148</td>\n",
       "      <td>0.1</td>\n",
       "      <td>{'lasso__alpha': 0.1}</td>\n",
       "      <td>0.839394</td>\n",
       "      <td>0.814298</td>\n",
       "      <td>0.881644</td>\n",
       "      <td>0.864448</td>\n",
       "      <td>0.718881</td>\n",
       "      <td>0.823733</td>\n",
       "      <td>0.057166</td>\n",
       "      <td>4</td>\n",
       "    </tr>\n",
       "    <tr>\n",
       "      <th>3</th>\n",
       "      <td>0.094822</td>\n",
       "      <td>0.016872</td>\n",
       "      <td>0.003805</td>\n",
       "      <td>0.000746</td>\n",
       "      <td>1</td>\n",
       "      <td>{'lasso__alpha': 1}</td>\n",
       "      <td>0.839396</td>\n",
       "      <td>0.814297</td>\n",
       "      <td>0.881647</td>\n",
       "      <td>0.864452</td>\n",
       "      <td>0.719028</td>\n",
       "      <td>0.823764</td>\n",
       "      <td>0.057113</td>\n",
       "      <td>3</td>\n",
       "    </tr>\n",
       "    <tr>\n",
       "      <th>4</th>\n",
       "      <td>0.020204</td>\n",
       "      <td>0.001720</td>\n",
       "      <td>0.005602</td>\n",
       "      <td>0.002728</td>\n",
       "      <td>100</td>\n",
       "      <td>{'lasso__alpha': 100}</td>\n",
       "      <td>0.839609</td>\n",
       "      <td>0.814159</td>\n",
       "      <td>0.882062</td>\n",
       "      <td>0.864793</td>\n",
       "      <td>0.722327</td>\n",
       "      <td>0.824590</td>\n",
       "      <td>0.056056</td>\n",
       "      <td>2</td>\n",
       "    </tr>\n",
       "    <tr>\n",
       "      <th>5</th>\n",
       "      <td>0.013603</td>\n",
       "      <td>0.001021</td>\n",
       "      <td>0.003200</td>\n",
       "      <td>0.000401</td>\n",
       "      <td>200</td>\n",
       "      <td>{'lasso__alpha': 200}</td>\n",
       "      <td>0.840123</td>\n",
       "      <td>0.813872</td>\n",
       "      <td>0.882305</td>\n",
       "      <td>0.864979</td>\n",
       "      <td>0.725508</td>\n",
       "      <td>0.825357</td>\n",
       "      <td>0.055014</td>\n",
       "      <td>1</td>\n",
       "    </tr>\n",
       "  </tbody>\n",
       "</table>\n",
       "</div>"
      ],
      "text/plain": [
       "   mean_fit_time  std_fit_time  mean_score_time  std_score_time  \\\n",
       "0       0.080225      0.005829         0.006002        0.002452   \n",
       "1       0.084918      0.011520         0.004202        0.000748   \n",
       "2       0.084218      0.012547         0.006002        0.004148   \n",
       "3       0.094822      0.016872         0.003805        0.000746   \n",
       "4       0.020204      0.001720         0.005602        0.002728   \n",
       "5       0.013603      0.001021         0.003200        0.000401   \n",
       "\n",
       "  param_lasso__alpha                   params  split0_test_score  \\\n",
       "0              0.005  {'lasso__alpha': 0.005}           0.839394   \n",
       "1               0.01   {'lasso__alpha': 0.01}           0.839394   \n",
       "2                0.1    {'lasso__alpha': 0.1}           0.839394   \n",
       "3                  1      {'lasso__alpha': 1}           0.839396   \n",
       "4                100    {'lasso__alpha': 100}           0.839609   \n",
       "5                200    {'lasso__alpha': 200}           0.840123   \n",
       "\n",
       "   split1_test_score  split2_test_score  split3_test_score  split4_test_score  \\\n",
       "0           0.814299           0.881644           0.864447           0.718855   \n",
       "1           0.814299           0.881644           0.864447           0.718856   \n",
       "2           0.814298           0.881644           0.864448           0.718881   \n",
       "3           0.814297           0.881647           0.864452           0.719028   \n",
       "4           0.814159           0.882062           0.864793           0.722327   \n",
       "5           0.813872           0.882305           0.864979           0.725508   \n",
       "\n",
       "   mean_test_score  std_test_score  rank_test_score  \n",
       "0         0.823728        0.057175                6  \n",
       "1         0.823728        0.057175                5  \n",
       "2         0.823733        0.057166                4  \n",
       "3         0.823764        0.057113                3  \n",
       "4         0.824590        0.056056                2  \n",
       "5         0.825357        0.055014                1  "
      ]
     },
     "execution_count": 19,
     "metadata": {},
     "output_type": "execute_result"
    }
   ],
   "source": [
    "pd.DataFrame(gs3.cv_results_)"
   ]
  },
  {
   "cell_type": "code",
   "execution_count": 20,
   "metadata": {},
   "outputs": [
    {
     "data": {
      "text/plain": [
       "{'lasso__alpha': 200}"
      ]
     },
     "execution_count": 20,
     "metadata": {},
     "output_type": "execute_result"
    }
   ],
   "source": [
    "gs3.best_params_"
   ]
  },
  {
   "cell_type": "code",
   "execution_count": 21,
   "metadata": {},
   "outputs": [
    {
     "data": {
      "text/plain": [
       "{'columntransformer': ColumnTransformer(remainder='passthrough',\n",
       "                   transformers=[('onehotencoder',\n",
       "                                  OneHotEncoder(handle_unknown='ignore'),\n",
       "                                  ['Neighborhood', 'Overall Qual'])],\n",
       "                   verbose_feature_names_out=False),\n",
       " 'standardscaler': StandardScaler(),\n",
       " 'lasso': Lasso(alpha=200)}"
      ]
     },
     "execution_count": 21,
     "metadata": {},
     "output_type": "execute_result"
    }
   ],
   "source": [
    "gs3.best_estimator_.named_steps"
   ]
  },
  {
   "cell_type": "code",
   "execution_count": 22,
   "metadata": {},
   "outputs": [
    {
     "data": {
      "text/plain": [
       "array(['x0', 'x1', 'x2', 'x3', 'x4', 'x5', 'x6', 'x7', 'x8', 'x9', 'x10',\n",
       "       'x11', 'x12', 'x13', 'x14', 'x15', 'x16', 'x17', 'x18', 'x19',\n",
       "       'x20', 'x21', 'x22', 'x23', 'x24', 'x25', 'x26', 'x27', 'x28',\n",
       "       'x29', 'x30', 'x31', 'x32', 'x33', 'x34', 'x35', 'x36', 'x37',\n",
       "       'x38', 'x39', 'x40', 'x41', 'x42', 'x43', 'x44', 'x45', 'x46',\n",
       "       'x47', 'x48', 'x49'], dtype=object)"
      ]
     },
     "execution_count": 22,
     "metadata": {},
     "output_type": "execute_result"
    }
   ],
   "source": [
    "gs3.best_estimator_.named_steps['standardscaler'].get_feature_names_out()"
   ]
  },
  {
   "cell_type": "code",
   "execution_count": 23,
   "metadata": {},
   "outputs": [
    {
     "data": {
      "text/plain": [
       "0.8253574812257003"
      ]
     },
     "execution_count": 23,
     "metadata": {},
     "output_type": "execute_result"
    }
   ],
   "source": [
    "gs3.best_score_"
   ]
  },
  {
   "cell_type": "code",
   "execution_count": 24,
   "metadata": {},
   "outputs": [
    {
     "data": {
      "text/plain": [
       "array(['Neighborhood_Blmngtn', 'Neighborhood_Blueste',\n",
       "       'Neighborhood_BrDale', 'Neighborhood_BrkSide',\n",
       "       'Neighborhood_ClearCr', 'Neighborhood_CollgCr',\n",
       "       'Neighborhood_Crawfor', 'Neighborhood_Edwards',\n",
       "       'Neighborhood_Gilbert', 'Neighborhood_Greens',\n",
       "       'Neighborhood_GrnHill', 'Neighborhood_IDOTRR',\n",
       "       'Neighborhood_MeadowV', 'Neighborhood_Mitchel',\n",
       "       'Neighborhood_NAmes', 'Neighborhood_NPkVill',\n",
       "       'Neighborhood_NWAmes', 'Neighborhood_NoRidge',\n",
       "       'Neighborhood_NridgHt', 'Neighborhood_OldTown',\n",
       "       'Neighborhood_SWISU', 'Neighborhood_Sawyer',\n",
       "       'Neighborhood_SawyerW', 'Neighborhood_Somerst',\n",
       "       'Neighborhood_StoneBr', 'Neighborhood_Timber',\n",
       "       'Neighborhood_Veenker', 'Overall Qual_1', 'Overall Qual_2',\n",
       "       'Overall Qual_3', 'Overall Qual_4', 'Overall Qual_5',\n",
       "       'Overall Qual_6', 'Overall Qual_7', 'Overall Qual_8',\n",
       "       'Overall Qual_9', 'Overall Qual_10', 'Gr Liv Area', 'Garage Cars',\n",
       "       'Total Bsmt SF', '1st Flr SF', 'Year Built', 'Year Remod/Add',\n",
       "       'Full Bath', 'TotRms AbvGrd', 'Fireplaces', 'BsmtFin SF 1',\n",
       "       'Open Porch SF', 'Wood Deck SF', 'Lot Area'], dtype=object)"
      ]
     },
     "execution_count": 24,
     "metadata": {},
     "output_type": "execute_result"
    }
   ],
   "source": [
    "cols_g3 = gs3.best_estimator_.named_steps.get('columntransformer').get_feature_names_out()\n",
    "cols_g3"
   ]
  },
  {
   "cell_type": "code",
   "execution_count": 25,
   "metadata": {},
   "outputs": [
    {
     "data": {
      "text/plain": [
       "array([   -0.        ,  -959.7812674 , -1696.22019718,   163.53556568,\n",
       "        1266.17345691,   908.22151965,  4581.80043664, -3179.9593638 ,\n",
       "       -1339.12420712,  -797.78114027,  3552.72218169, -1378.41674245,\n",
       "       -2294.80262823,  -993.14752407,   160.47627478, -1188.07640289,\n",
       "          -0.        ,  4198.25578427,  7987.55038425, -1801.50363303,\n",
       "          -0.        ,  -668.98248895,  -113.57044381,   627.89677827,\n",
       "        5623.60674155,  1134.16411474,  2008.44920025, -1328.32399514,\n",
       "       -2136.20649394, -2333.28984327, -3576.6859816 , -2561.66462298,\n",
       "          -0.        ,  5383.23669576, 14214.26529547, 18723.87564296,\n",
       "       11105.05481032, 18434.83734771,  6676.21978626,  2121.03907962,\n",
       "        -237.47740894,  8294.90444027,  7441.62582222,   870.67915357,\n",
       "         564.51721689,  6068.90583453,  6640.54356012,   398.93763847,\n",
       "        1397.99581618,  4504.98124083])"
      ]
     },
     "execution_count": 25,
     "metadata": {},
     "output_type": "execute_result"
    }
   ],
   "source": [
    "gs3.best_estimator_.named_steps['lasso'].coef_"
   ]
  },
  {
   "cell_type": "code",
   "execution_count": 26,
   "metadata": {},
   "outputs": [
    {
     "data": {
      "text/html": [
       "<div>\n",
       "<style scoped>\n",
       "    .dataframe tbody tr th:only-of-type {\n",
       "        vertical-align: middle;\n",
       "    }\n",
       "\n",
       "    .dataframe tbody tr th {\n",
       "        vertical-align: top;\n",
       "    }\n",
       "\n",
       "    .dataframe thead th {\n",
       "        text-align: right;\n",
       "    }\n",
       "</style>\n",
       "<table border=\"1\" class=\"dataframe\">\n",
       "  <thead>\n",
       "    <tr style=\"text-align: right;\">\n",
       "      <th></th>\n",
       "      <th>0</th>\n",
       "      <th>1</th>\n",
       "    </tr>\n",
       "  </thead>\n",
       "  <tbody>\n",
       "    <tr>\n",
       "      <th>0</th>\n",
       "      <td>Neighborhood_Blmngtn</td>\n",
       "      <td>-0.000000</td>\n",
       "    </tr>\n",
       "    <tr>\n",
       "      <th>1</th>\n",
       "      <td>Neighborhood_Blueste</td>\n",
       "      <td>-959.781267</td>\n",
       "    </tr>\n",
       "    <tr>\n",
       "      <th>2</th>\n",
       "      <td>Neighborhood_BrDale</td>\n",
       "      <td>-1696.220197</td>\n",
       "    </tr>\n",
       "    <tr>\n",
       "      <th>3</th>\n",
       "      <td>Neighborhood_BrkSide</td>\n",
       "      <td>163.535566</td>\n",
       "    </tr>\n",
       "    <tr>\n",
       "      <th>4</th>\n",
       "      <td>Neighborhood_ClearCr</td>\n",
       "      <td>1266.173457</td>\n",
       "    </tr>\n",
       "    <tr>\n",
       "      <th>5</th>\n",
       "      <td>Neighborhood_CollgCr</td>\n",
       "      <td>908.221520</td>\n",
       "    </tr>\n",
       "    <tr>\n",
       "      <th>6</th>\n",
       "      <td>Neighborhood_Crawfor</td>\n",
       "      <td>4581.800437</td>\n",
       "    </tr>\n",
       "    <tr>\n",
       "      <th>7</th>\n",
       "      <td>Neighborhood_Edwards</td>\n",
       "      <td>-3179.959364</td>\n",
       "    </tr>\n",
       "    <tr>\n",
       "      <th>8</th>\n",
       "      <td>Neighborhood_Gilbert</td>\n",
       "      <td>-1339.124207</td>\n",
       "    </tr>\n",
       "    <tr>\n",
       "      <th>9</th>\n",
       "      <td>Neighborhood_Greens</td>\n",
       "      <td>-797.781140</td>\n",
       "    </tr>\n",
       "    <tr>\n",
       "      <th>10</th>\n",
       "      <td>Neighborhood_GrnHill</td>\n",
       "      <td>3552.722182</td>\n",
       "    </tr>\n",
       "    <tr>\n",
       "      <th>11</th>\n",
       "      <td>Neighborhood_IDOTRR</td>\n",
       "      <td>-1378.416742</td>\n",
       "    </tr>\n",
       "    <tr>\n",
       "      <th>12</th>\n",
       "      <td>Neighborhood_MeadowV</td>\n",
       "      <td>-2294.802628</td>\n",
       "    </tr>\n",
       "    <tr>\n",
       "      <th>13</th>\n",
       "      <td>Neighborhood_Mitchel</td>\n",
       "      <td>-993.147524</td>\n",
       "    </tr>\n",
       "    <tr>\n",
       "      <th>14</th>\n",
       "      <td>Neighborhood_NAmes</td>\n",
       "      <td>160.476275</td>\n",
       "    </tr>\n",
       "    <tr>\n",
       "      <th>15</th>\n",
       "      <td>Neighborhood_NPkVill</td>\n",
       "      <td>-1188.076403</td>\n",
       "    </tr>\n",
       "    <tr>\n",
       "      <th>16</th>\n",
       "      <td>Neighborhood_NWAmes</td>\n",
       "      <td>-0.000000</td>\n",
       "    </tr>\n",
       "    <tr>\n",
       "      <th>17</th>\n",
       "      <td>Neighborhood_NoRidge</td>\n",
       "      <td>4198.255784</td>\n",
       "    </tr>\n",
       "    <tr>\n",
       "      <th>18</th>\n",
       "      <td>Neighborhood_NridgHt</td>\n",
       "      <td>7987.550384</td>\n",
       "    </tr>\n",
       "    <tr>\n",
       "      <th>19</th>\n",
       "      <td>Neighborhood_OldTown</td>\n",
       "      <td>-1801.503633</td>\n",
       "    </tr>\n",
       "    <tr>\n",
       "      <th>20</th>\n",
       "      <td>Neighborhood_SWISU</td>\n",
       "      <td>-0.000000</td>\n",
       "    </tr>\n",
       "    <tr>\n",
       "      <th>21</th>\n",
       "      <td>Neighborhood_Sawyer</td>\n",
       "      <td>-668.982489</td>\n",
       "    </tr>\n",
       "    <tr>\n",
       "      <th>22</th>\n",
       "      <td>Neighborhood_SawyerW</td>\n",
       "      <td>-113.570444</td>\n",
       "    </tr>\n",
       "    <tr>\n",
       "      <th>23</th>\n",
       "      <td>Neighborhood_Somerst</td>\n",
       "      <td>627.896778</td>\n",
       "    </tr>\n",
       "    <tr>\n",
       "      <th>24</th>\n",
       "      <td>Neighborhood_StoneBr</td>\n",
       "      <td>5623.606742</td>\n",
       "    </tr>\n",
       "    <tr>\n",
       "      <th>25</th>\n",
       "      <td>Neighborhood_Timber</td>\n",
       "      <td>1134.164115</td>\n",
       "    </tr>\n",
       "    <tr>\n",
       "      <th>26</th>\n",
       "      <td>Neighborhood_Veenker</td>\n",
       "      <td>2008.449200</td>\n",
       "    </tr>\n",
       "    <tr>\n",
       "      <th>27</th>\n",
       "      <td>Overall Qual_1</td>\n",
       "      <td>-1328.323995</td>\n",
       "    </tr>\n",
       "    <tr>\n",
       "      <th>28</th>\n",
       "      <td>Overall Qual_2</td>\n",
       "      <td>-2136.206494</td>\n",
       "    </tr>\n",
       "    <tr>\n",
       "      <th>29</th>\n",
       "      <td>Overall Qual_3</td>\n",
       "      <td>-2333.289843</td>\n",
       "    </tr>\n",
       "    <tr>\n",
       "      <th>30</th>\n",
       "      <td>Overall Qual_4</td>\n",
       "      <td>-3576.685982</td>\n",
       "    </tr>\n",
       "    <tr>\n",
       "      <th>31</th>\n",
       "      <td>Overall Qual_5</td>\n",
       "      <td>-2561.664623</td>\n",
       "    </tr>\n",
       "    <tr>\n",
       "      <th>32</th>\n",
       "      <td>Overall Qual_6</td>\n",
       "      <td>-0.000000</td>\n",
       "    </tr>\n",
       "    <tr>\n",
       "      <th>33</th>\n",
       "      <td>Overall Qual_7</td>\n",
       "      <td>5383.236696</td>\n",
       "    </tr>\n",
       "    <tr>\n",
       "      <th>34</th>\n",
       "      <td>Overall Qual_8</td>\n",
       "      <td>14214.265295</td>\n",
       "    </tr>\n",
       "    <tr>\n",
       "      <th>35</th>\n",
       "      <td>Overall Qual_9</td>\n",
       "      <td>18723.875643</td>\n",
       "    </tr>\n",
       "    <tr>\n",
       "      <th>36</th>\n",
       "      <td>Overall Qual_10</td>\n",
       "      <td>11105.054810</td>\n",
       "    </tr>\n",
       "    <tr>\n",
       "      <th>37</th>\n",
       "      <td>Gr Liv Area</td>\n",
       "      <td>18434.837348</td>\n",
       "    </tr>\n",
       "    <tr>\n",
       "      <th>38</th>\n",
       "      <td>Garage Cars</td>\n",
       "      <td>6676.219786</td>\n",
       "    </tr>\n",
       "    <tr>\n",
       "      <th>39</th>\n",
       "      <td>Total Bsmt SF</td>\n",
       "      <td>2121.039080</td>\n",
       "    </tr>\n",
       "    <tr>\n",
       "      <th>40</th>\n",
       "      <td>1st Flr SF</td>\n",
       "      <td>-237.477409</td>\n",
       "    </tr>\n",
       "    <tr>\n",
       "      <th>41</th>\n",
       "      <td>Year Built</td>\n",
       "      <td>8294.904440</td>\n",
       "    </tr>\n",
       "    <tr>\n",
       "      <th>42</th>\n",
       "      <td>Year Remod/Add</td>\n",
       "      <td>7441.625822</td>\n",
       "    </tr>\n",
       "    <tr>\n",
       "      <th>43</th>\n",
       "      <td>Full Bath</td>\n",
       "      <td>870.679154</td>\n",
       "    </tr>\n",
       "    <tr>\n",
       "      <th>44</th>\n",
       "      <td>TotRms AbvGrd</td>\n",
       "      <td>564.517217</td>\n",
       "    </tr>\n",
       "    <tr>\n",
       "      <th>45</th>\n",
       "      <td>Fireplaces</td>\n",
       "      <td>6068.905835</td>\n",
       "    </tr>\n",
       "    <tr>\n",
       "      <th>46</th>\n",
       "      <td>BsmtFin SF 1</td>\n",
       "      <td>6640.543560</td>\n",
       "    </tr>\n",
       "    <tr>\n",
       "      <th>47</th>\n",
       "      <td>Open Porch SF</td>\n",
       "      <td>398.937638</td>\n",
       "    </tr>\n",
       "    <tr>\n",
       "      <th>48</th>\n",
       "      <td>Wood Deck SF</td>\n",
       "      <td>1397.995816</td>\n",
       "    </tr>\n",
       "    <tr>\n",
       "      <th>49</th>\n",
       "      <td>Lot Area</td>\n",
       "      <td>4504.981241</td>\n",
       "    </tr>\n",
       "  </tbody>\n",
       "</table>\n",
       "</div>"
      ],
      "text/plain": [
       "                       0             1\n",
       "0   Neighborhood_Blmngtn     -0.000000\n",
       "1   Neighborhood_Blueste   -959.781267\n",
       "2    Neighborhood_BrDale  -1696.220197\n",
       "3   Neighborhood_BrkSide    163.535566\n",
       "4   Neighborhood_ClearCr   1266.173457\n",
       "5   Neighborhood_CollgCr    908.221520\n",
       "6   Neighborhood_Crawfor   4581.800437\n",
       "7   Neighborhood_Edwards  -3179.959364\n",
       "8   Neighborhood_Gilbert  -1339.124207\n",
       "9    Neighborhood_Greens   -797.781140\n",
       "10  Neighborhood_GrnHill   3552.722182\n",
       "11   Neighborhood_IDOTRR  -1378.416742\n",
       "12  Neighborhood_MeadowV  -2294.802628\n",
       "13  Neighborhood_Mitchel   -993.147524\n",
       "14    Neighborhood_NAmes    160.476275\n",
       "15  Neighborhood_NPkVill  -1188.076403\n",
       "16   Neighborhood_NWAmes     -0.000000\n",
       "17  Neighborhood_NoRidge   4198.255784\n",
       "18  Neighborhood_NridgHt   7987.550384\n",
       "19  Neighborhood_OldTown  -1801.503633\n",
       "20    Neighborhood_SWISU     -0.000000\n",
       "21   Neighborhood_Sawyer   -668.982489\n",
       "22  Neighborhood_SawyerW   -113.570444\n",
       "23  Neighborhood_Somerst    627.896778\n",
       "24  Neighborhood_StoneBr   5623.606742\n",
       "25   Neighborhood_Timber   1134.164115\n",
       "26  Neighborhood_Veenker   2008.449200\n",
       "27        Overall Qual_1  -1328.323995\n",
       "28        Overall Qual_2  -2136.206494\n",
       "29        Overall Qual_3  -2333.289843\n",
       "30        Overall Qual_4  -3576.685982\n",
       "31        Overall Qual_5  -2561.664623\n",
       "32        Overall Qual_6     -0.000000\n",
       "33        Overall Qual_7   5383.236696\n",
       "34        Overall Qual_8  14214.265295\n",
       "35        Overall Qual_9  18723.875643\n",
       "36       Overall Qual_10  11105.054810\n",
       "37           Gr Liv Area  18434.837348\n",
       "38           Garage Cars   6676.219786\n",
       "39         Total Bsmt SF   2121.039080\n",
       "40            1st Flr SF   -237.477409\n",
       "41            Year Built   8294.904440\n",
       "42        Year Remod/Add   7441.625822\n",
       "43             Full Bath    870.679154\n",
       "44         TotRms AbvGrd    564.517217\n",
       "45            Fireplaces   6068.905835\n",
       "46          BsmtFin SF 1   6640.543560\n",
       "47         Open Porch SF    398.937638\n",
       "48          Wood Deck SF   1397.995816\n",
       "49              Lot Area   4504.981241"
      ]
     },
     "execution_count": 26,
     "metadata": {},
     "output_type": "execute_result"
    }
   ],
   "source": [
    "pd.DataFrame(zip(cols_g3, \n",
    "gs3.best_estimator_.named_steps['lasso'].coef_))"
   ]
  },
  {
   "cell_type": "code",
   "execution_count": 27,
   "metadata": {},
   "outputs": [
    {
     "data": {
      "text/plain": [
       "179758.70117187503"
      ]
     },
     "execution_count": 27,
     "metadata": {},
     "output_type": "execute_result"
    }
   ],
   "source": [
    "gs3.best_estimator_.named_steps['lasso'].intercept_"
   ]
  },
  {
   "cell_type": "code",
   "execution_count": 28,
   "metadata": {},
   "outputs": [
    {
     "data": {
      "text/plain": [
       "0.8873589550761557"
      ]
     },
     "execution_count": 28,
     "metadata": {},
     "output_type": "execute_result"
    }
   ],
   "source": [
    "gs3.score(X_test, y_test)"
   ]
  },
  {
   "cell_type": "code",
   "execution_count": 29,
   "metadata": {},
   "outputs": [],
   "source": [
    "#Make predictions on the test set\n",
    "preds = gs3.predict(X_test)"
   ]
  },
  {
   "cell_type": "code",
   "execution_count": 30,
   "metadata": {},
   "outputs": [
    {
     "name": "stdout",
     "output_type": "stream",
     "text": [
      "Lasso Model #2 w/Categorical Vars: MAE: 18201.278032625163\n",
      "Lasso Model #2 w/Categorical Vars: MSE: 808623144.9367778\n",
      "Lasso Model #2 w/Categorical Vars: R2: 0.8873589550761557\n"
     ]
    }
   ],
   "source": [
    "#Evaluate my metrics\n",
    "print('Lasso Model #2 w/Categorical Vars: MAE:', mean_absolute_error(y_test, preds))\n",
    "print('Lasso Model #2 w/Categorical Vars: MSE:', mean_squared_error(y_test, preds))\n",
    "print('Lasso Model #2 w/Categorical Vars: R2:', r2_score(y_test, preds))"
   ]
  },
  {
   "cell_type": "markdown",
   "metadata": {},
   "source": [
    "This model doesn't beat the Ridge model with the categorical variables that had an Rsquared of .8723 since my Rsquared here is only .8691.  The other models were: .8561 for the Ridge model without the categorical variables versus .7186 for the Lasso model,  -.0037 for the baseline model and .5667 for the linear regression model."
   ]
  },
  {
   "cell_type": "code",
   "execution_count": 31,
   "metadata": {},
   "outputs": [],
   "source": [
    "#I want to look at some graphs of my residuals\n",
    "residuals = preds - y_test"
   ]
  },
  {
   "cell_type": "code",
   "execution_count": 32,
   "metadata": {},
   "outputs": [
    {
     "data": {
      "image/png": "[encoded data removed]",
      "text/plain": [
       "<Figure size 432x288 with 1 Axes>"
      ]
     },
     "metadata": {
      "needs_background": "light"
     },
     "output_type": "display_data"
    }
   ],
   "source": [
    "sns.histplot(residuals, bins=15);\n",
    "#This looks like a normal distribution so this doesn't look too bad."
   ]
  },
  {
   "cell_type": "code",
   "execution_count": 33,
   "metadata": {},
   "outputs": [
    {
     "data": {
      "image/png": "[encoded data removed]",
      "text/plain": [
       "<Figure size 432x288 with 1 Axes>"
      ]
     },
     "metadata": {
      "needs_background": "light"
     },
     "output_type": "display_data"
    }
   ],
   "source": [
    "plt.scatter(y_test, preds);\n",
    "#This doesn't look too bad!"
   ]
  },
  {
   "cell_type": "code",
   "execution_count": 34,
   "metadata": {},
   "outputs": [
    {
     "data": {
      "image/png": "[encoded data removed]",
      "text/plain": [
       "<Figure size 432x288 with 1 Axes>"
      ]
     },
     "metadata": {
      "needs_background": "light"
     },
     "output_type": "display_data"
    }
   ],
   "source": [
    "plt.scatter(y_test, residuals);\n",
    "#That outlier at 200,000 is strange."
   ]
  }
 ],
 "metadata": {
  "interpreter": {
   "hash": "1013f178bd8cc9c09c9a1bfa722153bff45040218b602b728b1ebb7cc8a12e61"
  },
  "kernelspec": {
   "display_name": "Python 3.9.7 64-bit ('base': conda)",
   "language": "python",
   "name": "python3"
  },
  "language_info": {
   "codemirror_mode": {
    "name": "ipython",
    "version": 3
   },
   "file_extension": ".py",
   "mimetype": "text/x-python",
   "name": "python",
   "nbconvert_exporter": "python",
   "pygments_lexer": "ipython3",
   "version": "3.9.7"
  },
  "orig_nbformat": 4
 },
 "nbformat": 4,
 "nbformat_minor": 2
}
