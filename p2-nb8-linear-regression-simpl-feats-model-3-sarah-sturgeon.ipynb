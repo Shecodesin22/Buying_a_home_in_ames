{
 "cells": [
  {
   "cell_type": "code",
   "execution_count": 1,
   "metadata": {},
   "outputs": [],
   "source": [
    "import numpy as np\n",
    "import pandas as pd\n",
    "import matplotlib.pyplot as plt\n",
    "import seaborn as sns\n",
    "\n",
    "import missingno as mn\n",
    "\n",
    "from sklearn.linear_model import LinearRegression, Lasso, Ridge\n",
    "from sklearn.pipeline import make_pipeline\n",
    "from sklearn.preprocessing import StandardScaler, PolynomialFeatures, OneHotEncoder, OrdinalEncoder\n",
    "from sklearn.model_selection import train_test_split, GridSearchCV\n",
    "from sklearn.compose import make_column_selector, make_column_transformer\n",
    "from sklearn.metrics import mean_squared_error, mean_absolute_error, r2_score\n",
    "from sklearn.dummy import DummyRegressor\n",
    "from sklearn.feature_selection import RFE\n",
    "from sklearn.impute import SimpleImputer\n",
    "\n",
    "from sklearn import set_config\n",
    "set_config(display='diagram')\n",
    "\n",
    "#Nate shared this list as his ultimate go-to during our regresssion hack-a-thon"
   ]
  },
  {
   "cell_type": "code",
   "execution_count": 2,
   "metadata": {},
   "outputs": [],
   "source": [
    "df_ames_train = pd.read_csv('./datasets/train.csv')"
   ]
  },
  {
   "cell_type": "markdown",
   "metadata": {},
   "source": [
    "I know I need to split my data into train/test before I do any data transformations and build any models."
   ]
  },
  {
   "cell_type": "code",
   "execution_count": 3,
   "metadata": {},
   "outputs": [],
   "source": [
    "df_ames_reg_train = df_ames_train[['Overall Qual','Neighborhood',\n",
    "'Gr Liv Area', 'Garage Cars', 'Total Bsmt SF', '1st Flr SF',\n",
    "'Year Built', 'Year Remod/Add', 'Full Bath','SalePrice']]"
   ]
  },
  {
   "cell_type": "code",
   "execution_count": 4,
   "metadata": {},
   "outputs": [
    {
     "data": {
      "text/plain": [
       "(2051, 10)"
      ]
     },
     "execution_count": 4,
     "metadata": {},
     "output_type": "execute_result"
    }
   ],
   "source": [
    "df_ames_reg_train.shape"
   ]
  },
  {
   "cell_type": "code",
   "execution_count": 5,
   "metadata": {},
   "outputs": [
    {
     "data": {
      "text/plain": [
       "Overall Qual      0\n",
       "Neighborhood      0\n",
       "Gr Liv Area       0\n",
       "Garage Cars       1\n",
       "Total Bsmt SF     1\n",
       "1st Flr SF        0\n",
       "Year Built        0\n",
       "Year Remod/Add    0\n",
       "Full Bath         0\n",
       "SalePrice         0\n",
       "dtype: int64"
      ]
     },
     "execution_count": 5,
     "metadata": {},
     "output_type": "execute_result"
    }
   ],
   "source": [
    "df_ames_reg_train.isna().sum()"
   ]
  },
  {
   "cell_type": "code",
   "execution_count": 6,
   "metadata": {},
   "outputs": [
    {
     "name": "stderr",
     "output_type": "stream",
     "text": [
      "C:\\Users\\sarah\\anaconda3\\lib\\site-packages\\pandas\\util\\_decorators.py:311: SettingWithCopyWarning: \n",
      "A value is trying to be set on a copy of a slice from a DataFrame\n",
      "\n",
      "See the caveats in the documentation: https://pandas.pydata.org/pandas-docs/stable/user_guide/indexing.html#returning-a-view-versus-a-copy\n",
      "  return func(*args, **kwargs)\n"
     ]
    }
   ],
   "source": [
    "df_ames_reg_train.dropna(inplace=True)"
   ]
  },
  {
   "cell_type": "code",
   "execution_count": 7,
   "metadata": {},
   "outputs": [
    {
     "data": {
      "text/plain": [
       "Overall Qual      0\n",
       "Neighborhood      0\n",
       "Gr Liv Area       0\n",
       "Garage Cars       0\n",
       "Total Bsmt SF     0\n",
       "1st Flr SF        0\n",
       "Year Built        0\n",
       "Year Remod/Add    0\n",
       "Full Bath         0\n",
       "SalePrice         0\n",
       "dtype: int64"
      ]
     },
     "execution_count": 7,
     "metadata": {},
     "output_type": "execute_result"
    }
   ],
   "source": [
    "df_ames_reg_train.isna().sum()"
   ]
  },
  {
   "cell_type": "code",
   "execution_count": 8,
   "metadata": {},
   "outputs": [],
   "source": [
    "\n",
    "X = df_ames_reg_train[['Overall Qual','Neighborhood',\n",
    "'Gr Liv Area', 'Garage Cars', 'Total Bsmt SF', '1st Flr SF',\n",
    "'Year Built', 'Year Remod/Add', 'Full Bath']]\n",
    "y = df_ames_reg_train['SalePrice']\n",
    "    "
   ]
  },
  {
   "cell_type": "code",
   "execution_count": 9,
   "metadata": {},
   "outputs": [
    {
     "data": {
      "text/plain": [
       "(2049, 9)"
      ]
     },
     "execution_count": 9,
     "metadata": {},
     "output_type": "execute_result"
    }
   ],
   "source": [
    "X.shape"
   ]
  },
  {
   "cell_type": "code",
   "execution_count": 10,
   "metadata": {},
   "outputs": [
    {
     "data": {
      "text/plain": [
       "(2049,)"
      ]
     },
     "execution_count": 10,
     "metadata": {},
     "output_type": "execute_result"
    }
   ],
   "source": [
    "y.shape"
   ]
  },
  {
   "cell_type": "code",
   "execution_count": 11,
   "metadata": {},
   "outputs": [],
   "source": [
    "X_train, X_test, y_train, y_test = train_test_split(X, y)"
   ]
  },
  {
   "cell_type": "code",
   "execution_count": 12,
   "metadata": {},
   "outputs": [
    {
     "data": {
      "text/plain": [
       "Overall Qual        int64\n",
       "Neighborhood       object\n",
       "Gr Liv Area         int64\n",
       "Garage Cars       float64\n",
       "Total Bsmt SF     float64\n",
       "1st Flr SF          int64\n",
       "Year Built          int64\n",
       "Year Remod/Add      int64\n",
       "Full Bath           int64\n",
       "dtype: object"
      ]
     },
     "execution_count": 12,
     "metadata": {},
     "output_type": "execute_result"
    }
   ],
   "source": [
    "X_train.dtypes"
   ]
  },
  {
   "cell_type": "code",
   "execution_count": 13,
   "metadata": {},
   "outputs": [],
   "source": [
    "ct1 = make_column_transformer(\n",
    "    (OneHotEncoder(handle_unknown='ignore'), ['Neighborhood', 'Overall Qual']),\n",
    "    remainder='passthrough',\n",
    "     verbose_feature_names_out=False)\n"
   ]
  },
  {
   "cell_type": "code",
   "execution_count": 14,
   "metadata": {},
   "outputs": [],
   "source": [
    "pipe3 = make_pipeline(ct1, StandardScaler(with_mean=False), LinearRegression())"
   ]
  },
  {
   "cell_type": "code",
   "execution_count": 15,
   "metadata": {},
   "outputs": [
    {
     "data": {
      "text/plain": [
       "dict_keys(['copy_X', 'fit_intercept', 'n_jobs', 'normalize', 'positive'])"
      ]
     },
     "execution_count": 15,
     "metadata": {},
     "output_type": "execute_result"
    }
   ],
   "source": [
    "LinearRegression().get_params().keys()"
   ]
  },
  {
   "cell_type": "code",
   "execution_count": 16,
   "metadata": {},
   "outputs": [
    {
     "data": {
      "text/html": [
       "<style>#sk-f57d466d-e97b-41f8-b87a-88f89e5cdb30 {color: black;background-color: white;}#sk-f57d466d-e97b-41f8-b87a-88f89e5cdb30 pre{padding: 0;}#sk-f57d466d-e97b-41f8-b87a-88f89e5cdb30 div.sk-toggleable {background-color: white;}#sk-f57d466d-e97b-41f8-b87a-88f89e5cdb30 label.sk-toggleable__label {cursor: pointer;display: block;width: 100%;margin-bottom: 0;padding: 0.3em;box-sizing: border-box;text-align: center;}#sk-f57d466d-e97b-41f8-b87a-88f89e5cdb30 label.sk-toggleable__label-arrow:before {content: \"▸\";float: left;margin-right: 0.25em;color: #696969;}#sk-f57d466d-e97b-41f8-b87a-88f89e5cdb30 label.sk-toggleable__label-arrow:hover:before {color: black;}#sk-f57d466d-e97b-41f8-b87a-88f89e5cdb30 div.sk-estimator:hover label.sk-toggleable__label-arrow:before {color: black;}#sk-f57d466d-e97b-41f8-b87a-88f89e5cdb30 div.sk-toggleable__content {max-height: 0;max-width: 0;overflow: hidden;text-align: left;background-color: #f0f8ff;}#sk-f57d466d-e97b-41f8-b87a-88f89e5cdb30 div.sk-toggleable__content pre {margin: 0.2em;color: black;border-radius: 0.25em;background-color: #f0f8ff;}#sk-f57d466d-e97b-41f8-b87a-88f89e5cdb30 input.sk-toggleable__control:checked~div.sk-toggleable__content {max-height: 200px;max-width: 100%;overflow: auto;}#sk-f57d466d-e97b-41f8-b87a-88f89e5cdb30 input.sk-toggleable__control:checked~label.sk-toggleable__label-arrow:before {content: \"▾\";}#sk-f57d466d-e97b-41f8-b87a-88f89e5cdb30 div.sk-estimator input.sk-toggleable__control:checked~label.sk-toggleable__label {background-color: #d4ebff;}#sk-f57d466d-e97b-41f8-b87a-88f89e5cdb30 div.sk-label input.sk-toggleable__control:checked~label.sk-toggleable__label {background-color: #d4ebff;}#sk-f57d466d-e97b-41f8-b87a-88f89e5cdb30 input.sk-hidden--visually {border: 0;clip: rect(1px 1px 1px 1px);clip: rect(1px, 1px, 1px, 1px);height: 1px;margin: -1px;overflow: hidden;padding: 0;position: absolute;width: 1px;}#sk-f57d466d-e97b-41f8-b87a-88f89e5cdb30 div.sk-estimator {font-family: monospace;background-color: #f0f8ff;border: 1px dotted black;border-radius: 0.25em;box-sizing: border-box;margin-bottom: 0.5em;}#sk-f57d466d-e97b-41f8-b87a-88f89e5cdb30 div.sk-estimator:hover {background-color: #d4ebff;}#sk-f57d466d-e97b-41f8-b87a-88f89e5cdb30 div.sk-parallel-item::after {content: \"\";width: 100%;border-bottom: 1px solid gray;flex-grow: 1;}#sk-f57d466d-e97b-41f8-b87a-88f89e5cdb30 div.sk-label:hover label.sk-toggleable__label {background-color: #d4ebff;}#sk-f57d466d-e97b-41f8-b87a-88f89e5cdb30 div.sk-serial::before {content: \"\";position: absolute;border-left: 1px solid gray;box-sizing: border-box;top: 2em;bottom: 0;left: 50%;}#sk-f57d466d-e97b-41f8-b87a-88f89e5cdb30 div.sk-serial {display: flex;flex-direction: column;align-items: center;background-color: white;padding-right: 0.2em;padding-left: 0.2em;}#sk-f57d466d-e97b-41f8-b87a-88f89e5cdb30 div.sk-item {z-index: 1;}#sk-f57d466d-e97b-41f8-b87a-88f89e5cdb30 div.sk-parallel {display: flex;align-items: stretch;justify-content: center;background-color: white;}#sk-f57d466d-e97b-41f8-b87a-88f89e5cdb30 div.sk-parallel::before {content: \"\";position: absolute;border-left: 1px solid gray;box-sizing: border-box;top: 2em;bottom: 0;left: 50%;}#sk-f57d466d-e97b-41f8-b87a-88f89e5cdb30 div.sk-parallel-item {display: flex;flex-direction: column;position: relative;background-color: white;}#sk-f57d466d-e97b-41f8-b87a-88f89e5cdb30 div.sk-parallel-item:first-child::after {align-self: flex-end;width: 50%;}#sk-f57d466d-e97b-41f8-b87a-88f89e5cdb30 div.sk-parallel-item:last-child::after {align-self: flex-start;width: 50%;}#sk-f57d466d-e97b-41f8-b87a-88f89e5cdb30 div.sk-parallel-item:only-child::after {width: 0;}#sk-f57d466d-e97b-41f8-b87a-88f89e5cdb30 div.sk-dashed-wrapped {border: 1px dashed gray;margin: 0 0.4em 0.5em 0.4em;box-sizing: border-box;padding-bottom: 0.4em;background-color: white;position: relative;}#sk-f57d466d-e97b-41f8-b87a-88f89e5cdb30 div.sk-label label {font-family: monospace;font-weight: bold;background-color: white;display: inline-block;line-height: 1.2em;}#sk-f57d466d-e97b-41f8-b87a-88f89e5cdb30 div.sk-label-container {position: relative;z-index: 2;text-align: center;}#sk-f57d466d-e97b-41f8-b87a-88f89e5cdb30 div.sk-container {/* jupyter's `normalize.less` sets `[hidden] { display: none; }` but bootstrap.min.css set `[hidden] { display: none !important; }` so we also need the `!important` here to be able to override the default hidden behavior on the sphinx rendered scikit-learn.org. See: https://github.com/scikit-learn/scikit-learn/issues/21755 */display: inline-block !important;position: relative;}#sk-f57d466d-e97b-41f8-b87a-88f89e5cdb30 div.sk-text-repr-fallback {display: none;}</style><div id=\"sk-f57d466d-e97b-41f8-b87a-88f89e5cdb30\" class=\"sk-top-container\"><div class=\"sk-text-repr-fallback\"><pre>Pipeline(steps=[(&#x27;columntransformer&#x27;,\n",
       "                 ColumnTransformer(remainder=&#x27;passthrough&#x27;,\n",
       "                                   transformers=[(&#x27;onehotencoder&#x27;,\n",
       "                                                  OneHotEncoder(handle_unknown=&#x27;ignore&#x27;),\n",
       "                                                  [&#x27;Neighborhood&#x27;,\n",
       "                                                   &#x27;Overall Qual&#x27;])],\n",
       "                                   verbose_feature_names_out=False)),\n",
       "                (&#x27;standardscaler&#x27;, StandardScaler(with_mean=False)),\n",
       "                (&#x27;linearregression&#x27;, LinearRegression())])</pre><b>Please rerun this cell to show the HTML repr or trust the notebook.</b></div><div class=\"sk-container\" hidden><div class=\"sk-item sk-dashed-wrapped\"><div class=\"sk-label-container\"><div class=\"sk-label sk-toggleable\"><input class=\"sk-toggleable__control sk-hidden--visually\" id=\"e6f74d0f-5ed0-4a9e-b4f8-3fa55860282a\" type=\"checkbox\" ><label for=\"e6f74d0f-5ed0-4a9e-b4f8-3fa55860282a\" class=\"sk-toggleable__label sk-toggleable__label-arrow\">Pipeline</label><div class=\"sk-toggleable__content\"><pre>Pipeline(steps=[(&#x27;columntransformer&#x27;,\n",
       "                 ColumnTransformer(remainder=&#x27;passthrough&#x27;,\n",
       "                                   transformers=[(&#x27;onehotencoder&#x27;,\n",
       "                                                  OneHotEncoder(handle_unknown=&#x27;ignore&#x27;),\n",
       "                                                  [&#x27;Neighborhood&#x27;,\n",
       "                                                   &#x27;Overall Qual&#x27;])],\n",
       "                                   verbose_feature_names_out=False)),\n",
       "                (&#x27;standardscaler&#x27;, StandardScaler(with_mean=False)),\n",
       "                (&#x27;linearregression&#x27;, LinearRegression())])</pre></div></div></div><div class=\"sk-serial\"><div class=\"sk-item sk-dashed-wrapped\"><div class=\"sk-label-container\"><div class=\"sk-label sk-toggleable\"><input class=\"sk-toggleable__control sk-hidden--visually\" id=\"58b02113-fc9c-43fa-94a5-e99ed1ac3ea0\" type=\"checkbox\" ><label for=\"58b02113-fc9c-43fa-94a5-e99ed1ac3ea0\" class=\"sk-toggleable__label sk-toggleable__label-arrow\">columntransformer: ColumnTransformer</label><div class=\"sk-toggleable__content\"><pre>ColumnTransformer(remainder=&#x27;passthrough&#x27;,\n",
       "                  transformers=[(&#x27;onehotencoder&#x27;,\n",
       "                                 OneHotEncoder(handle_unknown=&#x27;ignore&#x27;),\n",
       "                                 [&#x27;Neighborhood&#x27;, &#x27;Overall Qual&#x27;])],\n",
       "                  verbose_feature_names_out=False)</pre></div></div></div><div class=\"sk-parallel\"><div class=\"sk-parallel-item\"><div class=\"sk-item\"><div class=\"sk-label-container\"><div class=\"sk-label sk-toggleable\"><input class=\"sk-toggleable__control sk-hidden--visually\" id=\"82f3ba96-044e-4a1b-9248-d8e772b05646\" type=\"checkbox\" ><label for=\"82f3ba96-044e-4a1b-9248-d8e772b05646\" class=\"sk-toggleable__label sk-toggleable__label-arrow\">onehotencoder</label><div class=\"sk-toggleable__content\"><pre>[&#x27;Neighborhood&#x27;, &#x27;Overall Qual&#x27;]</pre></div></div></div><div class=\"sk-serial\"><div class=\"sk-item\"><div class=\"sk-estimator sk-toggleable\"><input class=\"sk-toggleable__control sk-hidden--visually\" id=\"24f4c1fd-fd1c-43b8-b6e9-f41b91275c32\" type=\"checkbox\" ><label for=\"24f4c1fd-fd1c-43b8-b6e9-f41b91275c32\" class=\"sk-toggleable__label sk-toggleable__label-arrow\">OneHotEncoder</label><div class=\"sk-toggleable__content\"><pre>OneHotEncoder(handle_unknown=&#x27;ignore&#x27;)</pre></div></div></div></div></div></div><div class=\"sk-parallel-item\"><div class=\"sk-item\"><div class=\"sk-label-container\"><div class=\"sk-label sk-toggleable\"><input class=\"sk-toggleable__control sk-hidden--visually\" id=\"4185a67f-25e2-4767-b4ef-173aca6007a2\" type=\"checkbox\" ><label for=\"4185a67f-25e2-4767-b4ef-173aca6007a2\" class=\"sk-toggleable__label sk-toggleable__label-arrow\">remainder</label><div class=\"sk-toggleable__content\"><pre>[&#x27;Gr Liv Area&#x27;, &#x27;Garage Cars&#x27;, &#x27;Total Bsmt SF&#x27;, &#x27;1st Flr SF&#x27;, &#x27;Year Built&#x27;, &#x27;Year Remod/Add&#x27;, &#x27;Full Bath&#x27;]</pre></div></div></div><div class=\"sk-serial\"><div class=\"sk-item\"><div class=\"sk-estimator sk-toggleable\"><input class=\"sk-toggleable__control sk-hidden--visually\" id=\"68eeabaa-8ee9-4d40-ba4f-083b6784ec8d\" type=\"checkbox\" ><label for=\"68eeabaa-8ee9-4d40-ba4f-083b6784ec8d\" class=\"sk-toggleable__label sk-toggleable__label-arrow\">passthrough</label><div class=\"sk-toggleable__content\"><pre>passthrough</pre></div></div></div></div></div></div></div></div><div class=\"sk-item\"><div class=\"sk-estimator sk-toggleable\"><input class=\"sk-toggleable__control sk-hidden--visually\" id=\"87684f33-c038-4219-ac0e-1e7884fd7c56\" type=\"checkbox\" ><label for=\"87684f33-c038-4219-ac0e-1e7884fd7c56\" class=\"sk-toggleable__label sk-toggleable__label-arrow\">StandardScaler</label><div class=\"sk-toggleable__content\"><pre>StandardScaler(with_mean=False)</pre></div></div></div><div class=\"sk-item\"><div class=\"sk-estimator sk-toggleable\"><input class=\"sk-toggleable__control sk-hidden--visually\" id=\"b5260057-0893-466d-8192-394752411618\" type=\"checkbox\" ><label for=\"b5260057-0893-466d-8192-394752411618\" class=\"sk-toggleable__label sk-toggleable__label-arrow\">LinearRegression</label><div class=\"sk-toggleable__content\"><pre>LinearRegression()</pre></div></div></div></div></div></div></div>"
      ],
      "text/plain": [
       "Pipeline(steps=[('columntransformer',\n",
       "                 ColumnTransformer(remainder='passthrough',\n",
       "                                   transformers=[('onehotencoder',\n",
       "                                                  OneHotEncoder(handle_unknown='ignore'),\n",
       "                                                  ['Neighborhood',\n",
       "                                                   'Overall Qual'])],\n",
       "                                   verbose_feature_names_out=False)),\n",
       "                ('standardscaler', StandardScaler(with_mean=False)),\n",
       "                ('linearregression', LinearRegression())])"
      ]
     },
     "execution_count": 16,
     "metadata": {},
     "output_type": "execute_result"
    }
   ],
   "source": [
    "pipe3.fit(X_train, y_train)"
   ]
  },
  {
   "cell_type": "code",
   "execution_count": 17,
   "metadata": {},
   "outputs": [],
   "source": [
    "preds= pipe3.predict(X_test)"
   ]
  },
  {
   "cell_type": "code",
   "execution_count": 18,
   "metadata": {},
   "outputs": [
    {
     "data": {
      "text/plain": [
       "{'columntransformer': ColumnTransformer(remainder='passthrough',\n",
       "                   transformers=[('onehotencoder',\n",
       "                                  OneHotEncoder(handle_unknown='ignore'),\n",
       "                                  ['Neighborhood', 'Overall Qual'])],\n",
       "                   verbose_feature_names_out=False),\n",
       " 'standardscaler': StandardScaler(with_mean=False),\n",
       " 'linearregression': LinearRegression()}"
      ]
     },
     "execution_count": 18,
     "metadata": {},
     "output_type": "execute_result"
    }
   ],
   "source": [
    "pipe3.named_steps"
   ]
  },
  {
   "cell_type": "code",
   "execution_count": 19,
   "metadata": {},
   "outputs": [
    {
     "data": {
      "text/plain": [
       "array(['Neighborhood_Blmngtn', 'Neighborhood_Blueste',\n",
       "       'Neighborhood_BrDale', 'Neighborhood_BrkSide',\n",
       "       'Neighborhood_ClearCr', 'Neighborhood_CollgCr',\n",
       "       'Neighborhood_Crawfor', 'Neighborhood_Edwards',\n",
       "       'Neighborhood_Gilbert', 'Neighborhood_Greens',\n",
       "       'Neighborhood_GrnHill', 'Neighborhood_IDOTRR',\n",
       "       'Neighborhood_Landmrk', 'Neighborhood_MeadowV',\n",
       "       'Neighborhood_Mitchel', 'Neighborhood_NAmes',\n",
       "       'Neighborhood_NPkVill', 'Neighborhood_NWAmes',\n",
       "       'Neighborhood_NoRidge', 'Neighborhood_NridgHt',\n",
       "       'Neighborhood_OldTown', 'Neighborhood_SWISU',\n",
       "       'Neighborhood_Sawyer', 'Neighborhood_SawyerW',\n",
       "       'Neighborhood_Somerst', 'Neighborhood_StoneBr',\n",
       "       'Neighborhood_Timber', 'Neighborhood_Veenker', 'Overall Qual_1',\n",
       "       'Overall Qual_2', 'Overall Qual_3', 'Overall Qual_4',\n",
       "       'Overall Qual_5', 'Overall Qual_6', 'Overall Qual_7',\n",
       "       'Overall Qual_8', 'Overall Qual_9', 'Overall Qual_10',\n",
       "       'Gr Liv Area', 'Garage Cars', 'Total Bsmt SF', '1st Flr SF',\n",
       "       'Year Built', 'Year Remod/Add', 'Full Bath'], dtype=object)"
      ]
     },
     "execution_count": 19,
     "metadata": {},
     "output_type": "execute_result"
    }
   ],
   "source": [
    "cols_p3 = pipe3.named_steps.get('columntransformer').get_feature_names_out()\n",
    "cols_p3"
   ]
  },
  {
   "cell_type": "code",
   "execution_count": 20,
   "metadata": {},
   "outputs": [
    {
     "data": {
      "text/plain": [
       "array([ -923.76538615, -1751.7754622 , -2620.63847556,  -953.03757041,\n",
       "        3078.0234939 ,   164.23051495,  4414.34363688, -4026.53915293,\n",
       "       -1529.78512305,  -839.88163207,  3857.91268947, -2667.8490995 ,\n",
       "        -779.9720828 , -2483.19703482,  -398.6657849 ,  -894.28502172,\n",
       "       -1834.88070013,  -103.88589135,  6058.23067491,  6857.42117375,\n",
       "       -4952.61713729, -1573.87483505, -1275.6795797 , -1337.62207777,\n",
       "         398.4555826 ,  6257.07704973,  2710.78396958,  2144.99987948,\n",
       "       -1187.46272683, -2709.84834896, -4335.64268097, -6496.84221126,\n",
       "       -8191.97379548, -4308.59130025,   374.78172866,  9080.16957901,\n",
       "       18845.44651796, 11895.92795919, 22624.07508292,  8556.64667581,\n",
       "        6333.63797405,   734.7868896 ,  6072.51591191,  6960.6452501 ,\n",
       "        -199.28501024])"
      ]
     },
     "execution_count": 20,
     "metadata": {},
     "output_type": "execute_result"
    }
   ],
   "source": [
    "pipe3.named_steps['linearregression'].coef_"
   ]
  },
  {
   "cell_type": "code",
   "execution_count": 21,
   "metadata": {},
   "outputs": [
    {
     "data": {
      "text/html": [
       "<div>\n",
       "<style scoped>\n",
       "    .dataframe tbody tr th:only-of-type {\n",
       "        vertical-align: middle;\n",
       "    }\n",
       "\n",
       "    .dataframe tbody tr th {\n",
       "        vertical-align: top;\n",
       "    }\n",
       "\n",
       "    .dataframe thead th {\n",
       "        text-align: right;\n",
       "    }\n",
       "</style>\n",
       "<table border=\"1\" class=\"dataframe\">\n",
       "  <thead>\n",
       "    <tr style=\"text-align: right;\">\n",
       "      <th></th>\n",
       "      <th>0</th>\n",
       "      <th>1</th>\n",
       "    </tr>\n",
       "  </thead>\n",
       "  <tbody>\n",
       "    <tr>\n",
       "      <th>0</th>\n",
       "      <td>Neighborhood_Blmngtn</td>\n",
       "      <td>-923.765386</td>\n",
       "    </tr>\n",
       "    <tr>\n",
       "      <th>1</th>\n",
       "      <td>Neighborhood_Blueste</td>\n",
       "      <td>-1751.775462</td>\n",
       "    </tr>\n",
       "    <tr>\n",
       "      <th>2</th>\n",
       "      <td>Neighborhood_BrDale</td>\n",
       "      <td>-2620.638476</td>\n",
       "    </tr>\n",
       "    <tr>\n",
       "      <th>3</th>\n",
       "      <td>Neighborhood_BrkSide</td>\n",
       "      <td>-953.037570</td>\n",
       "    </tr>\n",
       "    <tr>\n",
       "      <th>4</th>\n",
       "      <td>Neighborhood_ClearCr</td>\n",
       "      <td>3078.023494</td>\n",
       "    </tr>\n",
       "    <tr>\n",
       "      <th>5</th>\n",
       "      <td>Neighborhood_CollgCr</td>\n",
       "      <td>164.230515</td>\n",
       "    </tr>\n",
       "    <tr>\n",
       "      <th>6</th>\n",
       "      <td>Neighborhood_Crawfor</td>\n",
       "      <td>4414.343637</td>\n",
       "    </tr>\n",
       "    <tr>\n",
       "      <th>7</th>\n",
       "      <td>Neighborhood_Edwards</td>\n",
       "      <td>-4026.539153</td>\n",
       "    </tr>\n",
       "    <tr>\n",
       "      <th>8</th>\n",
       "      <td>Neighborhood_Gilbert</td>\n",
       "      <td>-1529.785123</td>\n",
       "    </tr>\n",
       "    <tr>\n",
       "      <th>9</th>\n",
       "      <td>Neighborhood_Greens</td>\n",
       "      <td>-839.881632</td>\n",
       "    </tr>\n",
       "    <tr>\n",
       "      <th>10</th>\n",
       "      <td>Neighborhood_GrnHill</td>\n",
       "      <td>3857.912689</td>\n",
       "    </tr>\n",
       "    <tr>\n",
       "      <th>11</th>\n",
       "      <td>Neighborhood_IDOTRR</td>\n",
       "      <td>-2667.849100</td>\n",
       "    </tr>\n",
       "    <tr>\n",
       "      <th>12</th>\n",
       "      <td>Neighborhood_Landmrk</td>\n",
       "      <td>-779.972083</td>\n",
       "    </tr>\n",
       "    <tr>\n",
       "      <th>13</th>\n",
       "      <td>Neighborhood_MeadowV</td>\n",
       "      <td>-2483.197035</td>\n",
       "    </tr>\n",
       "    <tr>\n",
       "      <th>14</th>\n",
       "      <td>Neighborhood_Mitchel</td>\n",
       "      <td>-398.665785</td>\n",
       "    </tr>\n",
       "    <tr>\n",
       "      <th>15</th>\n",
       "      <td>Neighborhood_NAmes</td>\n",
       "      <td>-894.285022</td>\n",
       "    </tr>\n",
       "    <tr>\n",
       "      <th>16</th>\n",
       "      <td>Neighborhood_NPkVill</td>\n",
       "      <td>-1834.880700</td>\n",
       "    </tr>\n",
       "    <tr>\n",
       "      <th>17</th>\n",
       "      <td>Neighborhood_NWAmes</td>\n",
       "      <td>-103.885891</td>\n",
       "    </tr>\n",
       "    <tr>\n",
       "      <th>18</th>\n",
       "      <td>Neighborhood_NoRidge</td>\n",
       "      <td>6058.230675</td>\n",
       "    </tr>\n",
       "    <tr>\n",
       "      <th>19</th>\n",
       "      <td>Neighborhood_NridgHt</td>\n",
       "      <td>6857.421174</td>\n",
       "    </tr>\n",
       "    <tr>\n",
       "      <th>20</th>\n",
       "      <td>Neighborhood_OldTown</td>\n",
       "      <td>-4952.617137</td>\n",
       "    </tr>\n",
       "    <tr>\n",
       "      <th>21</th>\n",
       "      <td>Neighborhood_SWISU</td>\n",
       "      <td>-1573.874835</td>\n",
       "    </tr>\n",
       "    <tr>\n",
       "      <th>22</th>\n",
       "      <td>Neighborhood_Sawyer</td>\n",
       "      <td>-1275.679580</td>\n",
       "    </tr>\n",
       "    <tr>\n",
       "      <th>23</th>\n",
       "      <td>Neighborhood_SawyerW</td>\n",
       "      <td>-1337.622078</td>\n",
       "    </tr>\n",
       "    <tr>\n",
       "      <th>24</th>\n",
       "      <td>Neighborhood_Somerst</td>\n",
       "      <td>398.455583</td>\n",
       "    </tr>\n",
       "    <tr>\n",
       "      <th>25</th>\n",
       "      <td>Neighborhood_StoneBr</td>\n",
       "      <td>6257.077050</td>\n",
       "    </tr>\n",
       "    <tr>\n",
       "      <th>26</th>\n",
       "      <td>Neighborhood_Timber</td>\n",
       "      <td>2710.783970</td>\n",
       "    </tr>\n",
       "    <tr>\n",
       "      <th>27</th>\n",
       "      <td>Neighborhood_Veenker</td>\n",
       "      <td>2144.999879</td>\n",
       "    </tr>\n",
       "    <tr>\n",
       "      <th>28</th>\n",
       "      <td>Overall Qual_1</td>\n",
       "      <td>-1187.462727</td>\n",
       "    </tr>\n",
       "    <tr>\n",
       "      <th>29</th>\n",
       "      <td>Overall Qual_2</td>\n",
       "      <td>-2709.848349</td>\n",
       "    </tr>\n",
       "    <tr>\n",
       "      <th>30</th>\n",
       "      <td>Overall Qual_3</td>\n",
       "      <td>-4335.642681</td>\n",
       "    </tr>\n",
       "    <tr>\n",
       "      <th>31</th>\n",
       "      <td>Overall Qual_4</td>\n",
       "      <td>-6496.842211</td>\n",
       "    </tr>\n",
       "    <tr>\n",
       "      <th>32</th>\n",
       "      <td>Overall Qual_5</td>\n",
       "      <td>-8191.973795</td>\n",
       "    </tr>\n",
       "    <tr>\n",
       "      <th>33</th>\n",
       "      <td>Overall Qual_6</td>\n",
       "      <td>-4308.591300</td>\n",
       "    </tr>\n",
       "    <tr>\n",
       "      <th>34</th>\n",
       "      <td>Overall Qual_7</td>\n",
       "      <td>374.781729</td>\n",
       "    </tr>\n",
       "    <tr>\n",
       "      <th>35</th>\n",
       "      <td>Overall Qual_8</td>\n",
       "      <td>9080.169579</td>\n",
       "    </tr>\n",
       "    <tr>\n",
       "      <th>36</th>\n",
       "      <td>Overall Qual_9</td>\n",
       "      <td>18845.446518</td>\n",
       "    </tr>\n",
       "    <tr>\n",
       "      <th>37</th>\n",
       "      <td>Overall Qual_10</td>\n",
       "      <td>11895.927959</td>\n",
       "    </tr>\n",
       "    <tr>\n",
       "      <th>38</th>\n",
       "      <td>Gr Liv Area</td>\n",
       "      <td>22624.075083</td>\n",
       "    </tr>\n",
       "    <tr>\n",
       "      <th>39</th>\n",
       "      <td>Garage Cars</td>\n",
       "      <td>8556.646676</td>\n",
       "    </tr>\n",
       "    <tr>\n",
       "      <th>40</th>\n",
       "      <td>Total Bsmt SF</td>\n",
       "      <td>6333.637974</td>\n",
       "    </tr>\n",
       "    <tr>\n",
       "      <th>41</th>\n",
       "      <td>1st Flr SF</td>\n",
       "      <td>734.786890</td>\n",
       "    </tr>\n",
       "    <tr>\n",
       "      <th>42</th>\n",
       "      <td>Year Built</td>\n",
       "      <td>6072.515912</td>\n",
       "    </tr>\n",
       "    <tr>\n",
       "      <th>43</th>\n",
       "      <td>Year Remod/Add</td>\n",
       "      <td>6960.645250</td>\n",
       "    </tr>\n",
       "    <tr>\n",
       "      <th>44</th>\n",
       "      <td>Full Bath</td>\n",
       "      <td>-199.285010</td>\n",
       "    </tr>\n",
       "  </tbody>\n",
       "</table>\n",
       "</div>"
      ],
      "text/plain": [
       "                       0             1\n",
       "0   Neighborhood_Blmngtn   -923.765386\n",
       "1   Neighborhood_Blueste  -1751.775462\n",
       "2    Neighborhood_BrDale  -2620.638476\n",
       "3   Neighborhood_BrkSide   -953.037570\n",
       "4   Neighborhood_ClearCr   3078.023494\n",
       "5   Neighborhood_CollgCr    164.230515\n",
       "6   Neighborhood_Crawfor   4414.343637\n",
       "7   Neighborhood_Edwards  -4026.539153\n",
       "8   Neighborhood_Gilbert  -1529.785123\n",
       "9    Neighborhood_Greens   -839.881632\n",
       "10  Neighborhood_GrnHill   3857.912689\n",
       "11   Neighborhood_IDOTRR  -2667.849100\n",
       "12  Neighborhood_Landmrk   -779.972083\n",
       "13  Neighborhood_MeadowV  -2483.197035\n",
       "14  Neighborhood_Mitchel   -398.665785\n",
       "15    Neighborhood_NAmes   -894.285022\n",
       "16  Neighborhood_NPkVill  -1834.880700\n",
       "17   Neighborhood_NWAmes   -103.885891\n",
       "18  Neighborhood_NoRidge   6058.230675\n",
       "19  Neighborhood_NridgHt   6857.421174\n",
       "20  Neighborhood_OldTown  -4952.617137\n",
       "21    Neighborhood_SWISU  -1573.874835\n",
       "22   Neighborhood_Sawyer  -1275.679580\n",
       "23  Neighborhood_SawyerW  -1337.622078\n",
       "24  Neighborhood_Somerst    398.455583\n",
       "25  Neighborhood_StoneBr   6257.077050\n",
       "26   Neighborhood_Timber   2710.783970\n",
       "27  Neighborhood_Veenker   2144.999879\n",
       "28        Overall Qual_1  -1187.462727\n",
       "29        Overall Qual_2  -2709.848349\n",
       "30        Overall Qual_3  -4335.642681\n",
       "31        Overall Qual_4  -6496.842211\n",
       "32        Overall Qual_5  -8191.973795\n",
       "33        Overall Qual_6  -4308.591300\n",
       "34        Overall Qual_7    374.781729\n",
       "35        Overall Qual_8   9080.169579\n",
       "36        Overall Qual_9  18845.446518\n",
       "37       Overall Qual_10  11895.927959\n",
       "38           Gr Liv Area  22624.075083\n",
       "39           Garage Cars   8556.646676\n",
       "40         Total Bsmt SF   6333.637974\n",
       "41            1st Flr SF    734.786890\n",
       "42            Year Built   6072.515912\n",
       "43        Year Remod/Add   6960.645250\n",
       "44             Full Bath   -199.285010"
      ]
     },
     "execution_count": 21,
     "metadata": {},
     "output_type": "execute_result"
    }
   ],
   "source": [
    "pd.DataFrame(zip(cols_p3, \n",
    "pipe3.named_steps['linearregression'].coef_))"
   ]
  },
  {
   "cell_type": "markdown",
   "metadata": {},
   "source": [
    "The Overall Qual feature coefficients just don't make sense.  I am going to pull this out of the model."
   ]
  },
  {
   "cell_type": "code",
   "execution_count": 22,
   "metadata": {},
   "outputs": [
    {
     "data": {
      "text/plain": [
       "124     -4312.203171\n",
       "203     20959.757345\n",
       "613     -7923.381301\n",
       "270    -38572.062399\n",
       "1161   -47603.720932\n",
       "            ...     \n",
       "1998   -21077.856508\n",
       "416      5681.499220\n",
       "915    -40731.269947\n",
       "1264    -1278.557113\n",
       "798      5772.641713\n",
       "Name: SalePrice, Length: 513, dtype: float64"
      ]
     },
     "execution_count": 22,
     "metadata": {},
     "output_type": "execute_result"
    }
   ],
   "source": [
    "residuals = preds - y_test\n",
    "residuals"
   ]
  },
  {
   "cell_type": "code",
   "execution_count": 23,
   "metadata": {},
   "outputs": [
    {
     "name": "stdout",
     "output_type": "stream",
     "text": [
      "Linear Regression Model #3 w/Categorical Vars & More: MAE: 19555.79444918622\n",
      "Linear Regression Model #3 w/Categorical Vars & More: MSE: 914179160.44982\n",
      "Linear Model #3 w/Categorical Vars & More: R2: 0.8657077789094929\n"
     ]
    }
   ],
   "source": [
    "#Evaluate my metrics\n",
    "print('Linear Regression Model #3 w/Categorical Vars & More: MAE:', mean_absolute_error(y_test, preds))\n",
    "print('Linear Regression Model #3 w/Categorical Vars & More: MSE:', mean_squared_error(y_test, preds))\n",
    "print('Linear Model #3 w/Categorical Vars & More: R2:', r2_score(y_test, preds))"
   ]
  },
  {
   "cell_type": "code",
   "execution_count": 24,
   "metadata": {},
   "outputs": [
    {
     "data": {
      "image/png": "[encoded data removed]",
      "text/plain": [
       "<Figure size 432x288 with 1 Axes>"
      ]
     },
     "metadata": {
      "needs_background": "light"
     },
     "output_type": "display_data"
    }
   ],
   "source": [
    "sns.histplot(residuals, bins=15);\n",
    "#This looks like a normal distribution so this doesn't look too bad."
   ]
  },
  {
   "cell_type": "code",
   "execution_count": 25,
   "metadata": {},
   "outputs": [
    {
     "data": {
      "image/png": "[encoded data removed]",
      "text/plain": [
       "<Figure size 432x288 with 1 Axes>"
      ]
     },
     "metadata": {
      "needs_background": "light"
     },
     "output_type": "display_data"
    }
   ],
   "source": [
    "plt.scatter(y_test, preds);\n",
    "#This doesn't look too bad!"
   ]
  },
  {
   "cell_type": "code",
   "execution_count": 26,
   "metadata": {},
   "outputs": [
    {
     "data": {
      "image/png": "[encoded data removed]",
      "text/plain": [
       "<Figure size 432x288 with 1 Axes>"
      ]
     },
     "metadata": {
      "needs_background": "light"
     },
     "output_type": "display_data"
    }
   ],
   "source": [
    "plt.scatter(y_test, residuals);\n"
   ]
  },
  {
   "cell_type": "code",
   "execution_count": 27,
   "metadata": {},
   "outputs": [],
   "source": [
    "#Now, I want to use my Linear Regression model to score the separate test dataset so \n",
    "# that I can submit a csv file to Kaggle for the contest.\n",
    "\n",
    "df_ames_test = pd.read_csv('./datasets/test.csv')"
   ]
  },
  {
   "cell_type": "code",
   "execution_count": 28,
   "metadata": {},
   "outputs": [
    {
     "data": {
      "text/html": [
       "<div>\n",
       "<style scoped>\n",
       "    .dataframe tbody tr th:only-of-type {\n",
       "        vertical-align: middle;\n",
       "    }\n",
       "\n",
       "    .dataframe tbody tr th {\n",
       "        vertical-align: top;\n",
       "    }\n",
       "\n",
       "    .dataframe thead th {\n",
       "        text-align: right;\n",
       "    }\n",
       "</style>\n",
       "<table border=\"1\" class=\"dataframe\">\n",
       "  <thead>\n",
       "    <tr style=\"text-align: right;\">\n",
       "      <th></th>\n",
       "      <th>Id</th>\n",
       "      <th>PID</th>\n",
       "      <th>MS SubClass</th>\n",
       "      <th>MS Zoning</th>\n",
       "      <th>Lot Frontage</th>\n",
       "      <th>Lot Area</th>\n",
       "      <th>Street</th>\n",
       "      <th>Alley</th>\n",
       "      <th>Lot Shape</th>\n",
       "      <th>Land Contour</th>\n",
       "      <th>...</th>\n",
       "      <th>3Ssn Porch</th>\n",
       "      <th>Screen Porch</th>\n",
       "      <th>Pool Area</th>\n",
       "      <th>Pool QC</th>\n",
       "      <th>Fence</th>\n",
       "      <th>Misc Feature</th>\n",
       "      <th>Misc Val</th>\n",
       "      <th>Mo Sold</th>\n",
       "      <th>Yr Sold</th>\n",
       "      <th>Sale Type</th>\n",
       "    </tr>\n",
       "  </thead>\n",
       "  <tbody>\n",
       "    <tr>\n",
       "      <th>0</th>\n",
       "      <td>2658</td>\n",
       "      <td>902301120</td>\n",
       "      <td>190</td>\n",
       "      <td>RM</td>\n",
       "      <td>69.0</td>\n",
       "      <td>9142</td>\n",
       "      <td>Pave</td>\n",
       "      <td>Grvl</td>\n",
       "      <td>Reg</td>\n",
       "      <td>Lvl</td>\n",
       "      <td>...</td>\n",
       "      <td>0</td>\n",
       "      <td>0</td>\n",
       "      <td>0</td>\n",
       "      <td>NaN</td>\n",
       "      <td>NaN</td>\n",
       "      <td>NaN</td>\n",
       "      <td>0</td>\n",
       "      <td>4</td>\n",
       "      <td>2006</td>\n",
       "      <td>WD</td>\n",
       "    </tr>\n",
       "    <tr>\n",
       "      <th>1</th>\n",
       "      <td>2718</td>\n",
       "      <td>905108090</td>\n",
       "      <td>90</td>\n",
       "      <td>RL</td>\n",
       "      <td>NaN</td>\n",
       "      <td>9662</td>\n",
       "      <td>Pave</td>\n",
       "      <td>NaN</td>\n",
       "      <td>IR1</td>\n",
       "      <td>Lvl</td>\n",
       "      <td>...</td>\n",
       "      <td>0</td>\n",
       "      <td>0</td>\n",
       "      <td>0</td>\n",
       "      <td>NaN</td>\n",
       "      <td>NaN</td>\n",
       "      <td>NaN</td>\n",
       "      <td>0</td>\n",
       "      <td>8</td>\n",
       "      <td>2006</td>\n",
       "      <td>WD</td>\n",
       "    </tr>\n",
       "  </tbody>\n",
       "</table>\n",
       "<p>2 rows × 80 columns</p>\n",
       "</div>"
      ],
      "text/plain": [
       "     Id        PID  MS SubClass MS Zoning  Lot Frontage  Lot Area Street  \\\n",
       "0  2658  902301120          190        RM          69.0      9142   Pave   \n",
       "1  2718  905108090           90        RL           NaN      9662   Pave   \n",
       "\n",
       "  Alley Lot Shape Land Contour  ... 3Ssn Porch Screen Porch Pool Area Pool QC  \\\n",
       "0  Grvl       Reg          Lvl  ...          0            0         0     NaN   \n",
       "1   NaN       IR1          Lvl  ...          0            0         0     NaN   \n",
       "\n",
       "  Fence Misc Feature Misc Val Mo Sold  Yr Sold  Sale Type  \n",
       "0   NaN          NaN        0       4     2006        WD   \n",
       "1   NaN          NaN        0       8     2006        WD   \n",
       "\n",
       "[2 rows x 80 columns]"
      ]
     },
     "execution_count": 28,
     "metadata": {},
     "output_type": "execute_result"
    }
   ],
   "source": [
    "df_ames_test.head(2)"
   ]
  },
  {
   "cell_type": "code",
   "execution_count": 33,
   "metadata": {},
   "outputs": [],
   "source": [
    "#Pull off only the data I need\n",
    "df_mini_lreg3_test = df_ames_test[['Overall Qual','Neighborhood',\n",
    "'Gr Liv Area', 'Garage Cars', 'Total Bsmt SF', '1st Flr SF',\n",
    "'Year Built', 'Year Remod/Add', 'Full Bath']]"
   ]
  },
  {
   "cell_type": "code",
   "execution_count": 34,
   "metadata": {},
   "outputs": [
    {
     "data": {
      "text/plain": [
       "Overall Qual      0\n",
       "Neighborhood      0\n",
       "Gr Liv Area       0\n",
       "Garage Cars       0\n",
       "Total Bsmt SF     0\n",
       "1st Flr SF        0\n",
       "Year Built        0\n",
       "Year Remod/Add    0\n",
       "Full Bath         0\n",
       "dtype: int64"
      ]
     },
     "execution_count": 34,
     "metadata": {},
     "output_type": "execute_result"
    }
   ],
   "source": [
    "#Yay!  No missing data here!\n",
    "df_mini_lreg3_test.isna().sum()"
   ]
  },
  {
   "cell_type": "code",
   "execution_count": 37,
   "metadata": {},
   "outputs": [],
   "source": [
    "X_mini_lreg3_test = df_mini_lreg3_test"
   ]
  },
  {
   "cell_type": "code",
   "execution_count": 39,
   "metadata": {},
   "outputs": [],
   "source": [
    "preds_lr3_kag = pipe3.predict(X_mini_lreg3_test)"
   ]
  },
  {
   "cell_type": "code",
   "execution_count": 40,
   "metadata": {},
   "outputs": [],
   "source": [
    "df_ames_test['SalePrice'] = preds_lr3_kag"
   ]
  },
  {
   "cell_type": "code",
   "execution_count": 41,
   "metadata": {},
   "outputs": [],
   "source": [
    "df_ames_test[['Id', 'SalePrice']].to_csv('./datasets/predictions_lr3.csv', index = False)\n",
    "\n",
    "#Used code from Chuck's Breakfast Hour Quiz3 Review"
   ]
  },
  {
   "cell_type": "code",
   "execution_count": 42,
   "metadata": {},
   "outputs": [],
   "source": [
    "df_kaggle = pd.read_csv('./datasets/predictions_lr3.csv')"
   ]
  },
  {
   "cell_type": "code",
   "execution_count": 43,
   "metadata": {},
   "outputs": [
    {
     "data": {
      "text/html": [
       "<div>\n",
       "<style scoped>\n",
       "    .dataframe tbody tr th:only-of-type {\n",
       "        vertical-align: middle;\n",
       "    }\n",
       "\n",
       "    .dataframe tbody tr th {\n",
       "        vertical-align: top;\n",
       "    }\n",
       "\n",
       "    .dataframe thead th {\n",
       "        text-align: right;\n",
       "    }\n",
       "</style>\n",
       "<table border=\"1\" class=\"dataframe\">\n",
       "  <thead>\n",
       "    <tr style=\"text-align: right;\">\n",
       "      <th></th>\n",
       "      <th>Id</th>\n",
       "      <th>SalePrice</th>\n",
       "    </tr>\n",
       "  </thead>\n",
       "  <tbody>\n",
       "    <tr>\n",
       "      <th>0</th>\n",
       "      <td>2658</td>\n",
       "      <td>139979.717686</td>\n",
       "    </tr>\n",
       "    <tr>\n",
       "      <th>1</th>\n",
       "      <td>2718</td>\n",
       "      <td>195137.323134</td>\n",
       "    </tr>\n",
       "  </tbody>\n",
       "</table>\n",
       "</div>"
      ],
      "text/plain": [
       "     Id      SalePrice\n",
       "0  2658  139979.717686\n",
       "1  2718  195137.323134"
      ]
     },
     "execution_count": 43,
     "metadata": {},
     "output_type": "execute_result"
    }
   ],
   "source": [
    "df_kaggle.head(2)"
   ]
  }
 ],
 "metadata": {
  "interpreter": {
   "hash": "1013f178bd8cc9c09c9a1bfa722153bff45040218b602b728b1ebb7cc8a12e61"
  },
  "kernelspec": {
   "display_name": "Python 3.9.7 64-bit ('base': conda)",
   "language": "python",
   "name": "python3"
  },
  "language_info": {
   "codemirror_mode": {
    "name": "ipython",
    "version": 3
   },
   "file_extension": ".py",
   "mimetype": "text/x-python",
   "name": "python",
   "nbconvert_exporter": "python",
   "pygments_lexer": "ipython3",
   "version": "3.9.7"
  },
  "orig_nbformat": 4
 },
 "nbformat": 4,
 "nbformat_minor": 2
}
