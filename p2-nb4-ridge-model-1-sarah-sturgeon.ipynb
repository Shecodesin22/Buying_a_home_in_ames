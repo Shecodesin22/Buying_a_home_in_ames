{
 "cells": [
  {
   "cell_type": "code",
   "execution_count": 1,
   "metadata": {},
   "outputs": [],
   "source": [
    "import numpy as np\n",
    "import pandas as pd\n",
    "import matplotlib.pyplot as plt\n",
    "import seaborn as sns\n",
    "\n",
    "import missingno as mn\n",
    "\n",
    "from sklearn.linear_model import LinearRegression, Lasso, Ridge\n",
    "from sklearn.pipeline import make_pipeline\n",
    "from sklearn.preprocessing import StandardScaler, PolynomialFeatures, OneHotEncoder, OrdinalEncoder\n",
    "from sklearn.model_selection import train_test_split, GridSearchCV\n",
    "from sklearn.compose import make_column_selector, make_column_transformer\n",
    "from sklearn.metrics import mean_squared_error, mean_absolute_error, r2_score\n",
    "from sklearn.dummy import DummyRegressor\n",
    "from sklearn.feature_selection import RFE\n",
    "from sklearn.impute import SimpleImputer\n",
    "\n",
    "from sklearn import set_config\n",
    "set_config(display='diagram')\n",
    "\n",
    "#Nate shared this list as his ultimate go-to during our regresssion hack-a-thon"
   ]
  },
  {
   "cell_type": "code",
   "execution_count": 2,
   "metadata": {},
   "outputs": [],
   "source": [
    "df_ames_train = pd.read_csv('./datasets/train.csv')"
   ]
  },
  {
   "cell_type": "code",
   "execution_count": 3,
   "metadata": {},
   "outputs": [
    {
     "data": {
      "text/html": [
       "<div>\n",
       "<style scoped>\n",
       "    .dataframe tbody tr th:only-of-type {\n",
       "        vertical-align: middle;\n",
       "    }\n",
       "\n",
       "    .dataframe tbody tr th {\n",
       "        vertical-align: top;\n",
       "    }\n",
       "\n",
       "    .dataframe thead th {\n",
       "        text-align: right;\n",
       "    }\n",
       "</style>\n",
       "<table border=\"1\" class=\"dataframe\">\n",
       "  <thead>\n",
       "    <tr style=\"text-align: right;\">\n",
       "      <th></th>\n",
       "      <th>Overall Qual</th>\n",
       "      <th>Gr Liv Area</th>\n",
       "      <th>Garage Area</th>\n",
       "      <th>Garage Cars</th>\n",
       "      <th>Total Bsmt SF</th>\n",
       "      <th>1st Flr SF</th>\n",
       "      <th>Year Built</th>\n",
       "      <th>Year Remod/Add</th>\n",
       "      <th>Full Bath</th>\n",
       "      <th>Garage Yr Blt</th>\n",
       "      <th>Mas Vnr Area</th>\n",
       "      <th>TotRms AbvGrd</th>\n",
       "      <th>Fireplaces</th>\n",
       "      <th>BsmtFin SF 1</th>\n",
       "      <th>Lot Frontage</th>\n",
       "      <th>Open Porch SF</th>\n",
       "      <th>Wood Deck SF</th>\n",
       "      <th>Lot Area</th>\n",
       "      <th>SalePrice</th>\n",
       "    </tr>\n",
       "  </thead>\n",
       "  <tbody>\n",
       "    <tr>\n",
       "      <th>0</th>\n",
       "      <td>6</td>\n",
       "      <td>1479</td>\n",
       "      <td>475.0</td>\n",
       "      <td>2.0</td>\n",
       "      <td>725.0</td>\n",
       "      <td>725</td>\n",
       "      <td>1976</td>\n",
       "      <td>2005</td>\n",
       "      <td>2</td>\n",
       "      <td>1976.0</td>\n",
       "      <td>289.0</td>\n",
       "      <td>6</td>\n",
       "      <td>0</td>\n",
       "      <td>533.0</td>\n",
       "      <td>NaN</td>\n",
       "      <td>44</td>\n",
       "      <td>0</td>\n",
       "      <td>13517</td>\n",
       "      <td>130500</td>\n",
       "    </tr>\n",
       "    <tr>\n",
       "      <th>1</th>\n",
       "      <td>7</td>\n",
       "      <td>2122</td>\n",
       "      <td>559.0</td>\n",
       "      <td>2.0</td>\n",
       "      <td>913.0</td>\n",
       "      <td>913</td>\n",
       "      <td>1996</td>\n",
       "      <td>1997</td>\n",
       "      <td>2</td>\n",
       "      <td>1997.0</td>\n",
       "      <td>132.0</td>\n",
       "      <td>8</td>\n",
       "      <td>1</td>\n",
       "      <td>637.0</td>\n",
       "      <td>43.0</td>\n",
       "      <td>74</td>\n",
       "      <td>0</td>\n",
       "      <td>11492</td>\n",
       "      <td>220000</td>\n",
       "    </tr>\n",
       "    <tr>\n",
       "      <th>2</th>\n",
       "      <td>5</td>\n",
       "      <td>1057</td>\n",
       "      <td>246.0</td>\n",
       "      <td>1.0</td>\n",
       "      <td>1057.0</td>\n",
       "      <td>1057</td>\n",
       "      <td>1953</td>\n",
       "      <td>2007</td>\n",
       "      <td>1</td>\n",
       "      <td>1953.0</td>\n",
       "      <td>0.0</td>\n",
       "      <td>5</td>\n",
       "      <td>0</td>\n",
       "      <td>731.0</td>\n",
       "      <td>68.0</td>\n",
       "      <td>52</td>\n",
       "      <td>0</td>\n",
       "      <td>7922</td>\n",
       "      <td>109000</td>\n",
       "    </tr>\n",
       "    <tr>\n",
       "      <th>3</th>\n",
       "      <td>5</td>\n",
       "      <td>1444</td>\n",
       "      <td>400.0</td>\n",
       "      <td>2.0</td>\n",
       "      <td>384.0</td>\n",
       "      <td>744</td>\n",
       "      <td>2006</td>\n",
       "      <td>2007</td>\n",
       "      <td>2</td>\n",
       "      <td>2007.0</td>\n",
       "      <td>0.0</td>\n",
       "      <td>7</td>\n",
       "      <td>0</td>\n",
       "      <td>0.0</td>\n",
       "      <td>73.0</td>\n",
       "      <td>0</td>\n",
       "      <td>100</td>\n",
       "      <td>9802</td>\n",
       "      <td>174000</td>\n",
       "    </tr>\n",
       "    <tr>\n",
       "      <th>4</th>\n",
       "      <td>6</td>\n",
       "      <td>1445</td>\n",
       "      <td>484.0</td>\n",
       "      <td>2.0</td>\n",
       "      <td>676.0</td>\n",
       "      <td>831</td>\n",
       "      <td>1900</td>\n",
       "      <td>1993</td>\n",
       "      <td>2</td>\n",
       "      <td>1957.0</td>\n",
       "      <td>0.0</td>\n",
       "      <td>6</td>\n",
       "      <td>0</td>\n",
       "      <td>0.0</td>\n",
       "      <td>82.0</td>\n",
       "      <td>59</td>\n",
       "      <td>0</td>\n",
       "      <td>14235</td>\n",
       "      <td>138500</td>\n",
       "    </tr>\n",
       "    <tr>\n",
       "      <th>...</th>\n",
       "      <td>...</td>\n",
       "      <td>...</td>\n",
       "      <td>...</td>\n",
       "      <td>...</td>\n",
       "      <td>...</td>\n",
       "      <td>...</td>\n",
       "      <td>...</td>\n",
       "      <td>...</td>\n",
       "      <td>...</td>\n",
       "      <td>...</td>\n",
       "      <td>...</td>\n",
       "      <td>...</td>\n",
       "      <td>...</td>\n",
       "      <td>...</td>\n",
       "      <td>...</td>\n",
       "      <td>...</td>\n",
       "      <td>...</td>\n",
       "      <td>...</td>\n",
       "      <td>...</td>\n",
       "    </tr>\n",
       "    <tr>\n",
       "      <th>2046</th>\n",
       "      <td>8</td>\n",
       "      <td>1728</td>\n",
       "      <td>520.0</td>\n",
       "      <td>2.0</td>\n",
       "      <td>1884.0</td>\n",
       "      <td>1728</td>\n",
       "      <td>2007</td>\n",
       "      <td>2007</td>\n",
       "      <td>2</td>\n",
       "      <td>2007.0</td>\n",
       "      <td>0.0</td>\n",
       "      <td>7</td>\n",
       "      <td>1</td>\n",
       "      <td>1011.0</td>\n",
       "      <td>79.0</td>\n",
       "      <td>276</td>\n",
       "      <td>0</td>\n",
       "      <td>11449</td>\n",
       "      <td>298751</td>\n",
       "    </tr>\n",
       "    <tr>\n",
       "      <th>2047</th>\n",
       "      <td>4</td>\n",
       "      <td>861</td>\n",
       "      <td>539.0</td>\n",
       "      <td>2.0</td>\n",
       "      <td>861.0</td>\n",
       "      <td>861</td>\n",
       "      <td>1940</td>\n",
       "      <td>1950</td>\n",
       "      <td>1</td>\n",
       "      <td>1961.0</td>\n",
       "      <td>0.0</td>\n",
       "      <td>4</td>\n",
       "      <td>0</td>\n",
       "      <td>262.0</td>\n",
       "      <td>NaN</td>\n",
       "      <td>0</td>\n",
       "      <td>158</td>\n",
       "      <td>12342</td>\n",
       "      <td>82500</td>\n",
       "    </tr>\n",
       "    <tr>\n",
       "      <th>2048</th>\n",
       "      <td>6</td>\n",
       "      <td>1913</td>\n",
       "      <td>342.0</td>\n",
       "      <td>2.0</td>\n",
       "      <td>896.0</td>\n",
       "      <td>1172</td>\n",
       "      <td>1928</td>\n",
       "      <td>1950</td>\n",
       "      <td>1</td>\n",
       "      <td>1929.0</td>\n",
       "      <td>0.0</td>\n",
       "      <td>9</td>\n",
       "      <td>1</td>\n",
       "      <td>0.0</td>\n",
       "      <td>57.0</td>\n",
       "      <td>0</td>\n",
       "      <td>0</td>\n",
       "      <td>7558</td>\n",
       "      <td>177000</td>\n",
       "    </tr>\n",
       "    <tr>\n",
       "      <th>2049</th>\n",
       "      <td>4</td>\n",
       "      <td>1200</td>\n",
       "      <td>294.0</td>\n",
       "      <td>1.0</td>\n",
       "      <td>1200.0</td>\n",
       "      <td>1200</td>\n",
       "      <td>1956</td>\n",
       "      <td>1956</td>\n",
       "      <td>1</td>\n",
       "      <td>1956.0</td>\n",
       "      <td>0.0</td>\n",
       "      <td>6</td>\n",
       "      <td>2</td>\n",
       "      <td>155.0</td>\n",
       "      <td>80.0</td>\n",
       "      <td>189</td>\n",
       "      <td>0</td>\n",
       "      <td>10400</td>\n",
       "      <td>144000</td>\n",
       "    </tr>\n",
       "    <tr>\n",
       "      <th>2050</th>\n",
       "      <td>7</td>\n",
       "      <td>1804</td>\n",
       "      <td>442.0</td>\n",
       "      <td>2.0</td>\n",
       "      <td>994.0</td>\n",
       "      <td>1028</td>\n",
       "      <td>1999</td>\n",
       "      <td>1999</td>\n",
       "      <td>2</td>\n",
       "      <td>1999.0</td>\n",
       "      <td>0.0</td>\n",
       "      <td>7</td>\n",
       "      <td>1</td>\n",
       "      <td>0.0</td>\n",
       "      <td>60.0</td>\n",
       "      <td>60</td>\n",
       "      <td>140</td>\n",
       "      <td>7500</td>\n",
       "      <td>189000</td>\n",
       "    </tr>\n",
       "  </tbody>\n",
       "</table>\n",
       "<p>2051 rows × 19 columns</p>\n",
       "</div>"
      ],
      "text/plain": [
       "      Overall Qual  Gr Liv Area  Garage Area  Garage Cars  Total Bsmt SF  \\\n",
       "0                6         1479        475.0          2.0          725.0   \n",
       "1                7         2122        559.0          2.0          913.0   \n",
       "2                5         1057        246.0          1.0         1057.0   \n",
       "3                5         1444        400.0          2.0          384.0   \n",
       "4                6         1445        484.0          2.0          676.0   \n",
       "...            ...          ...          ...          ...            ...   \n",
       "2046             8         1728        520.0          2.0         1884.0   \n",
       "2047             4          861        539.0          2.0          861.0   \n",
       "2048             6         1913        342.0          2.0          896.0   \n",
       "2049             4         1200        294.0          1.0         1200.0   \n",
       "2050             7         1804        442.0          2.0          994.0   \n",
       "\n",
       "      1st Flr SF  Year Built  Year Remod/Add  Full Bath  Garage Yr Blt  \\\n",
       "0            725        1976            2005          2         1976.0   \n",
       "1            913        1996            1997          2         1997.0   \n",
       "2           1057        1953            2007          1         1953.0   \n",
       "3            744        2006            2007          2         2007.0   \n",
       "4            831        1900            1993          2         1957.0   \n",
       "...          ...         ...             ...        ...            ...   \n",
       "2046        1728        2007            2007          2         2007.0   \n",
       "2047         861        1940            1950          1         1961.0   \n",
       "2048        1172        1928            1950          1         1929.0   \n",
       "2049        1200        1956            1956          1         1956.0   \n",
       "2050        1028        1999            1999          2         1999.0   \n",
       "\n",
       "      Mas Vnr Area  TotRms AbvGrd  Fireplaces  BsmtFin SF 1  Lot Frontage  \\\n",
       "0            289.0              6           0         533.0           NaN   \n",
       "1            132.0              8           1         637.0          43.0   \n",
       "2              0.0              5           0         731.0          68.0   \n",
       "3              0.0              7           0           0.0          73.0   \n",
       "4              0.0              6           0           0.0          82.0   \n",
       "...            ...            ...         ...           ...           ...   \n",
       "2046           0.0              7           1        1011.0          79.0   \n",
       "2047           0.0              4           0         262.0           NaN   \n",
       "2048           0.0              9           1           0.0          57.0   \n",
       "2049           0.0              6           2         155.0          80.0   \n",
       "2050           0.0              7           1           0.0          60.0   \n",
       "\n",
       "      Open Porch SF  Wood Deck SF  Lot Area  SalePrice  \n",
       "0                44             0     13517     130500  \n",
       "1                74             0     11492     220000  \n",
       "2                52             0      7922     109000  \n",
       "3                 0           100      9802     174000  \n",
       "4                59             0     14235     138500  \n",
       "...             ...           ...       ...        ...  \n",
       "2046            276             0     11449     298751  \n",
       "2047              0           158     12342      82500  \n",
       "2048              0             0      7558     177000  \n",
       "2049            189             0     10400     144000  \n",
       "2050             60           140      7500     189000  \n",
       "\n",
       "[2051 rows x 19 columns]"
      ]
     },
     "execution_count": 3,
     "metadata": {},
     "output_type": "execute_result"
    }
   ],
   "source": [
    "df_ames_train[['Overall Qual', 'Gr Liv Area', 'Garage Area', 'Garage Cars',\n",
    "'Total Bsmt SF', '1st Flr SF', 'Year Built', 'Year Remod/Add', 'Full Bath', 'Garage Yr Blt',\n",
    "'Mas Vnr Area', 'TotRms AbvGrd', 'Fireplaces', 'BsmtFin SF 1', 'Lot Frontage',\n",
    "'Open Porch SF', 'Wood Deck SF', 'Lot Area', 'SalePrice']]"
   ]
  },
  {
   "cell_type": "code",
   "execution_count": 4,
   "metadata": {},
   "outputs": [],
   "source": [
    "df_ames_tr_1st5 =df_ames_train[['Overall Qual', 'Gr Liv Area', 'Garage Area', 'Garage Cars',\n",
    "'Total Bsmt SF', 'SalePrice']]\n",
    "df_ames_tr_2nd5 =df_ames_train[['1st Flr SF', 'Year Built', 'Year Remod/Add', 'Full Bath', 'Garage Yr Blt', 'SalePrice']]\n",
    "df_ames_tr_3rd5 =df_ames_train[['Mas Vnr Area', 'TotRms AbvGrd', 'Fireplaces', 'BsmtFin SF 1', 'Lot Frontage', 'SalePrice']]\n",
    "df_ames_tr_4th5 =df_ames_train[['Open Porch SF', 'Wood Deck SF', 'Lot Area', 'SalePrice']]"
   ]
  },
  {
   "cell_type": "markdown",
   "metadata": {},
   "source": [
    "I know I need to split my data into train/test before I do any data transformations and build any models."
   ]
  },
  {
   "cell_type": "code",
   "execution_count": 5,
   "metadata": {},
   "outputs": [],
   "source": [
    "df_ames_ridge_train = df_ames_train[['Gr Liv Area', 'Garage Cars',\n",
    "'Total Bsmt SF', '1st Flr SF', 'Year Built', 'Year Remod/Add', 'Full Bath',\n",
    "'TotRms AbvGrd', 'Fireplaces', 'BsmtFin SF 1',\n",
    "'Open Porch SF', 'Wood Deck SF', 'Lot Area', 'SalePrice']]"
   ]
  },
  {
   "cell_type": "code",
   "execution_count": 6,
   "metadata": {},
   "outputs": [
    {
     "data": {
      "text/plain": [
       "Gr Liv Area       0\n",
       "Garage Cars       1\n",
       "Total Bsmt SF     1\n",
       "1st Flr SF        0\n",
       "Year Built        0\n",
       "Year Remod/Add    0\n",
       "Full Bath         0\n",
       "TotRms AbvGrd     0\n",
       "Fireplaces        0\n",
       "BsmtFin SF 1      1\n",
       "Open Porch SF     0\n",
       "Wood Deck SF      0\n",
       "Lot Area          0\n",
       "SalePrice         0\n",
       "dtype: int64"
      ]
     },
     "execution_count": 6,
     "metadata": {},
     "output_type": "execute_result"
    }
   ],
   "source": [
    "df_ames_ridge_train.isna().sum()"
   ]
  },
  {
   "cell_type": "code",
   "execution_count": 7,
   "metadata": {},
   "outputs": [
    {
     "name": "stderr",
     "output_type": "stream",
     "text": [
      "C:\\Users\\sarah\\anaconda3\\lib\\site-packages\\pandas\\util\\_decorators.py:311: SettingWithCopyWarning: \n",
      "A value is trying to be set on a copy of a slice from a DataFrame\n",
      "\n",
      "See the caveats in the documentation: https://pandas.pydata.org/pandas-docs/stable/user_guide/indexing.html#returning-a-view-versus-a-copy\n",
      "  return func(*args, **kwargs)\n"
     ]
    }
   ],
   "source": [
    "#I am totally okay with dropping the rows with missing data\n",
    "df_ames_ridge_train.dropna(inplace=True)"
   ]
  },
  {
   "cell_type": "code",
   "execution_count": 8,
   "metadata": {},
   "outputs": [
    {
     "data": {
      "text/plain": [
       "Gr Liv Area       0\n",
       "Garage Cars       0\n",
       "Total Bsmt SF     0\n",
       "1st Flr SF        0\n",
       "Year Built        0\n",
       "Year Remod/Add    0\n",
       "Full Bath         0\n",
       "TotRms AbvGrd     0\n",
       "Fireplaces        0\n",
       "BsmtFin SF 1      0\n",
       "Open Porch SF     0\n",
       "Wood Deck SF      0\n",
       "Lot Area          0\n",
       "SalePrice         0\n",
       "dtype: int64"
      ]
     },
     "execution_count": 8,
     "metadata": {},
     "output_type": "execute_result"
    }
   ],
   "source": [
    "df_ames_ridge_train.isna().sum()"
   ]
  },
  {
   "cell_type": "code",
   "execution_count": 9,
   "metadata": {},
   "outputs": [],
   "source": [
    "\n",
    "X = df_ames_ridge_train[['Gr Liv Area', 'Garage Cars',\n",
    "'Total Bsmt SF', '1st Flr SF', 'Year Built', 'Year Remod/Add', 'Full Bath',\n",
    "'TotRms AbvGrd', 'Fireplaces', 'BsmtFin SF 1',\n",
    "'Open Porch SF', 'Wood Deck SF', 'Lot Area']]\n",
    "y = df_ames_ridge_train['SalePrice']\n",
    "    "
   ]
  },
  {
   "cell_type": "code",
   "execution_count": 10,
   "metadata": {},
   "outputs": [
    {
     "data": {
      "text/plain": [
       "(2049, 13)"
      ]
     },
     "execution_count": 10,
     "metadata": {},
     "output_type": "execute_result"
    }
   ],
   "source": [
    "X.shape"
   ]
  },
  {
   "cell_type": "code",
   "execution_count": 11,
   "metadata": {},
   "outputs": [
    {
     "data": {
      "text/plain": [
       "(2049,)"
      ]
     },
     "execution_count": 11,
     "metadata": {},
     "output_type": "execute_result"
    }
   ],
   "source": [
    "y.shape"
   ]
  },
  {
   "cell_type": "code",
   "execution_count": 12,
   "metadata": {},
   "outputs": [],
   "source": [
    "X_train, X_test, y_train, y_test = train_test_split(X, y)"
   ]
  },
  {
   "cell_type": "code",
   "execution_count": 13,
   "metadata": {},
   "outputs": [
    {
     "data": {
      "text/html": [
       "<style>#sk-b59be8ff-1aff-48e2-9307-b2c856a5839e {color: black;background-color: white;}#sk-b59be8ff-1aff-48e2-9307-b2c856a5839e pre{padding: 0;}#sk-b59be8ff-1aff-48e2-9307-b2c856a5839e div.sk-toggleable {background-color: white;}#sk-b59be8ff-1aff-48e2-9307-b2c856a5839e label.sk-toggleable__label {cursor: pointer;display: block;width: 100%;margin-bottom: 0;padding: 0.3em;box-sizing: border-box;text-align: center;}#sk-b59be8ff-1aff-48e2-9307-b2c856a5839e label.sk-toggleable__label-arrow:before {content: \"▸\";float: left;margin-right: 0.25em;color: #696969;}#sk-b59be8ff-1aff-48e2-9307-b2c856a5839e label.sk-toggleable__label-arrow:hover:before {color: black;}#sk-b59be8ff-1aff-48e2-9307-b2c856a5839e div.sk-estimator:hover label.sk-toggleable__label-arrow:before {color: black;}#sk-b59be8ff-1aff-48e2-9307-b2c856a5839e div.sk-toggleable__content {max-height: 0;max-width: 0;overflow: hidden;text-align: left;background-color: #f0f8ff;}#sk-b59be8ff-1aff-48e2-9307-b2c856a5839e div.sk-toggleable__content pre {margin: 0.2em;color: black;border-radius: 0.25em;background-color: #f0f8ff;}#sk-b59be8ff-1aff-48e2-9307-b2c856a5839e input.sk-toggleable__control:checked~div.sk-toggleable__content {max-height: 200px;max-width: 100%;overflow: auto;}#sk-b59be8ff-1aff-48e2-9307-b2c856a5839e input.sk-toggleable__control:checked~label.sk-toggleable__label-arrow:before {content: \"▾\";}#sk-b59be8ff-1aff-48e2-9307-b2c856a5839e div.sk-estimator input.sk-toggleable__control:checked~label.sk-toggleable__label {background-color: #d4ebff;}#sk-b59be8ff-1aff-48e2-9307-b2c856a5839e div.sk-label input.sk-toggleable__control:checked~label.sk-toggleable__label {background-color: #d4ebff;}#sk-b59be8ff-1aff-48e2-9307-b2c856a5839e input.sk-hidden--visually {border: 0;clip: rect(1px 1px 1px 1px);clip: rect(1px, 1px, 1px, 1px);height: 1px;margin: -1px;overflow: hidden;padding: 0;position: absolute;width: 1px;}#sk-b59be8ff-1aff-48e2-9307-b2c856a5839e div.sk-estimator {font-family: monospace;background-color: #f0f8ff;border: 1px dotted black;border-radius: 0.25em;box-sizing: border-box;margin-bottom: 0.5em;}#sk-b59be8ff-1aff-48e2-9307-b2c856a5839e div.sk-estimator:hover {background-color: #d4ebff;}#sk-b59be8ff-1aff-48e2-9307-b2c856a5839e div.sk-parallel-item::after {content: \"\";width: 100%;border-bottom: 1px solid gray;flex-grow: 1;}#sk-b59be8ff-1aff-48e2-9307-b2c856a5839e div.sk-label:hover label.sk-toggleable__label {background-color: #d4ebff;}#sk-b59be8ff-1aff-48e2-9307-b2c856a5839e div.sk-serial::before {content: \"\";position: absolute;border-left: 1px solid gray;box-sizing: border-box;top: 2em;bottom: 0;left: 50%;}#sk-b59be8ff-1aff-48e2-9307-b2c856a5839e div.sk-serial {display: flex;flex-direction: column;align-items: center;background-color: white;padding-right: 0.2em;padding-left: 0.2em;}#sk-b59be8ff-1aff-48e2-9307-b2c856a5839e div.sk-item {z-index: 1;}#sk-b59be8ff-1aff-48e2-9307-b2c856a5839e div.sk-parallel {display: flex;align-items: stretch;justify-content: center;background-color: white;}#sk-b59be8ff-1aff-48e2-9307-b2c856a5839e div.sk-parallel::before {content: \"\";position: absolute;border-left: 1px solid gray;box-sizing: border-box;top: 2em;bottom: 0;left: 50%;}#sk-b59be8ff-1aff-48e2-9307-b2c856a5839e div.sk-parallel-item {display: flex;flex-direction: column;position: relative;background-color: white;}#sk-b59be8ff-1aff-48e2-9307-b2c856a5839e div.sk-parallel-item:first-child::after {align-self: flex-end;width: 50%;}#sk-b59be8ff-1aff-48e2-9307-b2c856a5839e div.sk-parallel-item:last-child::after {align-self: flex-start;width: 50%;}#sk-b59be8ff-1aff-48e2-9307-b2c856a5839e div.sk-parallel-item:only-child::after {width: 0;}#sk-b59be8ff-1aff-48e2-9307-b2c856a5839e div.sk-dashed-wrapped {border: 1px dashed gray;margin: 0 0.4em 0.5em 0.4em;box-sizing: border-box;padding-bottom: 0.4em;background-color: white;position: relative;}#sk-b59be8ff-1aff-48e2-9307-b2c856a5839e div.sk-label label {font-family: monospace;font-weight: bold;background-color: white;display: inline-block;line-height: 1.2em;}#sk-b59be8ff-1aff-48e2-9307-b2c856a5839e div.sk-label-container {position: relative;z-index: 2;text-align: center;}#sk-b59be8ff-1aff-48e2-9307-b2c856a5839e div.sk-container {/* jupyter's `normalize.less` sets `[hidden] { display: none; }` but bootstrap.min.css set `[hidden] { display: none !important; }` so we also need the `!important` here to be able to override the default hidden behavior on the sphinx rendered scikit-learn.org. See: https://github.com/scikit-learn/scikit-learn/issues/21755 */display: inline-block !important;position: relative;}#sk-b59be8ff-1aff-48e2-9307-b2c856a5839e div.sk-text-repr-fallback {display: none;}</style><div id=\"sk-b59be8ff-1aff-48e2-9307-b2c856a5839e\" class=\"sk-top-container\"><div class=\"sk-text-repr-fallback\"><pre>Pipeline(steps=[(&#x27;polynomialfeatures&#x27;, PolynomialFeatures()),\n",
       "                (&#x27;standardscaler&#x27;, StandardScaler()), (&#x27;ridge&#x27;, Ridge())])</pre><b>Please rerun this cell to show the HTML repr or trust the notebook.</b></div><div class=\"sk-container\" hidden><div class=\"sk-item sk-dashed-wrapped\"><div class=\"sk-label-container\"><div class=\"sk-label sk-toggleable\"><input class=\"sk-toggleable__control sk-hidden--visually\" id=\"87444f66-4dd0-460b-beaf-eabc917195fd\" type=\"checkbox\" ><label for=\"87444f66-4dd0-460b-beaf-eabc917195fd\" class=\"sk-toggleable__label sk-toggleable__label-arrow\">Pipeline</label><div class=\"sk-toggleable__content\"><pre>Pipeline(steps=[(&#x27;polynomialfeatures&#x27;, PolynomialFeatures()),\n",
       "                (&#x27;standardscaler&#x27;, StandardScaler()), (&#x27;ridge&#x27;, Ridge())])</pre></div></div></div><div class=\"sk-serial\"><div class=\"sk-item\"><div class=\"sk-estimator sk-toggleable\"><input class=\"sk-toggleable__control sk-hidden--visually\" id=\"2a4c30a2-b305-4f2c-aa71-08a045e0f651\" type=\"checkbox\" ><label for=\"2a4c30a2-b305-4f2c-aa71-08a045e0f651\" class=\"sk-toggleable__label sk-toggleable__label-arrow\">PolynomialFeatures</label><div class=\"sk-toggleable__content\"><pre>PolynomialFeatures()</pre></div></div></div><div class=\"sk-item\"><div class=\"sk-estimator sk-toggleable\"><input class=\"sk-toggleable__control sk-hidden--visually\" id=\"64305145-c064-463f-9527-64d89a493de4\" type=\"checkbox\" ><label for=\"64305145-c064-463f-9527-64d89a493de4\" class=\"sk-toggleable__label sk-toggleable__label-arrow\">StandardScaler</label><div class=\"sk-toggleable__content\"><pre>StandardScaler()</pre></div></div></div><div class=\"sk-item\"><div class=\"sk-estimator sk-toggleable\"><input class=\"sk-toggleable__control sk-hidden--visually\" id=\"5ca7459e-0cd9-4e4a-870a-03c3dd30e2ad\" type=\"checkbox\" ><label for=\"5ca7459e-0cd9-4e4a-870a-03c3dd30e2ad\" class=\"sk-toggleable__label sk-toggleable__label-arrow\">Ridge</label><div class=\"sk-toggleable__content\"><pre>Ridge()</pre></div></div></div></div></div></div></div>"
      ],
      "text/plain": [
       "Pipeline(steps=[('polynomialfeatures', PolynomialFeatures()),\n",
       "                ('standardscaler', StandardScaler()), ('ridge', Ridge())])"
      ]
     },
     "execution_count": 13,
     "metadata": {},
     "output_type": "execute_result"
    }
   ],
   "source": [
    "pipe2 = make_pipeline(PolynomialFeatures(), StandardScaler(), Ridge())\n",
    "pipe2"
   ]
  },
  {
   "cell_type": "code",
   "execution_count": 14,
   "metadata": {},
   "outputs": [],
   "source": [
    "params2 = {\n",
    "           'ridge__alpha': [.01, 0.1, 1, 10, 100]}"
   ]
  },
  {
   "cell_type": "code",
   "execution_count": 15,
   "metadata": {},
   "outputs": [],
   "source": [
    "gs2 = GridSearchCV(pipe2, params2, n_jobs=-1)"
   ]
  },
  {
   "cell_type": "code",
   "execution_count": 16,
   "metadata": {},
   "outputs": [
    {
     "data": {
      "text/html": [
       "<style>#sk-7224af20-a050-45de-b64b-e0fd0198b3ec {color: black;background-color: white;}#sk-7224af20-a050-45de-b64b-e0fd0198b3ec pre{padding: 0;}#sk-7224af20-a050-45de-b64b-e0fd0198b3ec div.sk-toggleable {background-color: white;}#sk-7224af20-a050-45de-b64b-e0fd0198b3ec label.sk-toggleable__label {cursor: pointer;display: block;width: 100%;margin-bottom: 0;padding: 0.3em;box-sizing: border-box;text-align: center;}#sk-7224af20-a050-45de-b64b-e0fd0198b3ec label.sk-toggleable__label-arrow:before {content: \"▸\";float: left;margin-right: 0.25em;color: #696969;}#sk-7224af20-a050-45de-b64b-e0fd0198b3ec label.sk-toggleable__label-arrow:hover:before {color: black;}#sk-7224af20-a050-45de-b64b-e0fd0198b3ec div.sk-estimator:hover label.sk-toggleable__label-arrow:before {color: black;}#sk-7224af20-a050-45de-b64b-e0fd0198b3ec div.sk-toggleable__content {max-height: 0;max-width: 0;overflow: hidden;text-align: left;background-color: #f0f8ff;}#sk-7224af20-a050-45de-b64b-e0fd0198b3ec div.sk-toggleable__content pre {margin: 0.2em;color: black;border-radius: 0.25em;background-color: #f0f8ff;}#sk-7224af20-a050-45de-b64b-e0fd0198b3ec input.sk-toggleable__control:checked~div.sk-toggleable__content {max-height: 200px;max-width: 100%;overflow: auto;}#sk-7224af20-a050-45de-b64b-e0fd0198b3ec input.sk-toggleable__control:checked~label.sk-toggleable__label-arrow:before {content: \"▾\";}#sk-7224af20-a050-45de-b64b-e0fd0198b3ec div.sk-estimator input.sk-toggleable__control:checked~label.sk-toggleable__label {background-color: #d4ebff;}#sk-7224af20-a050-45de-b64b-e0fd0198b3ec div.sk-label input.sk-toggleable__control:checked~label.sk-toggleable__label {background-color: #d4ebff;}#sk-7224af20-a050-45de-b64b-e0fd0198b3ec input.sk-hidden--visually {border: 0;clip: rect(1px 1px 1px 1px);clip: rect(1px, 1px, 1px, 1px);height: 1px;margin: -1px;overflow: hidden;padding: 0;position: absolute;width: 1px;}#sk-7224af20-a050-45de-b64b-e0fd0198b3ec div.sk-estimator {font-family: monospace;background-color: #f0f8ff;border: 1px dotted black;border-radius: 0.25em;box-sizing: border-box;margin-bottom: 0.5em;}#sk-7224af20-a050-45de-b64b-e0fd0198b3ec div.sk-estimator:hover {background-color: #d4ebff;}#sk-7224af20-a050-45de-b64b-e0fd0198b3ec div.sk-parallel-item::after {content: \"\";width: 100%;border-bottom: 1px solid gray;flex-grow: 1;}#sk-7224af20-a050-45de-b64b-e0fd0198b3ec div.sk-label:hover label.sk-toggleable__label {background-color: #d4ebff;}#sk-7224af20-a050-45de-b64b-e0fd0198b3ec div.sk-serial::before {content: \"\";position: absolute;border-left: 1px solid gray;box-sizing: border-box;top: 2em;bottom: 0;left: 50%;}#sk-7224af20-a050-45de-b64b-e0fd0198b3ec div.sk-serial {display: flex;flex-direction: column;align-items: center;background-color: white;padding-right: 0.2em;padding-left: 0.2em;}#sk-7224af20-a050-45de-b64b-e0fd0198b3ec div.sk-item {z-index: 1;}#sk-7224af20-a050-45de-b64b-e0fd0198b3ec div.sk-parallel {display: flex;align-items: stretch;justify-content: center;background-color: white;}#sk-7224af20-a050-45de-b64b-e0fd0198b3ec div.sk-parallel::before {content: \"\";position: absolute;border-left: 1px solid gray;box-sizing: border-box;top: 2em;bottom: 0;left: 50%;}#sk-7224af20-a050-45de-b64b-e0fd0198b3ec div.sk-parallel-item {display: flex;flex-direction: column;position: relative;background-color: white;}#sk-7224af20-a050-45de-b64b-e0fd0198b3ec div.sk-parallel-item:first-child::after {align-self: flex-end;width: 50%;}#sk-7224af20-a050-45de-b64b-e0fd0198b3ec div.sk-parallel-item:last-child::after {align-self: flex-start;width: 50%;}#sk-7224af20-a050-45de-b64b-e0fd0198b3ec div.sk-parallel-item:only-child::after {width: 0;}#sk-7224af20-a050-45de-b64b-e0fd0198b3ec div.sk-dashed-wrapped {border: 1px dashed gray;margin: 0 0.4em 0.5em 0.4em;box-sizing: border-box;padding-bottom: 0.4em;background-color: white;position: relative;}#sk-7224af20-a050-45de-b64b-e0fd0198b3ec div.sk-label label {font-family: monospace;font-weight: bold;background-color: white;display: inline-block;line-height: 1.2em;}#sk-7224af20-a050-45de-b64b-e0fd0198b3ec div.sk-label-container {position: relative;z-index: 2;text-align: center;}#sk-7224af20-a050-45de-b64b-e0fd0198b3ec div.sk-container {/* jupyter's `normalize.less` sets `[hidden] { display: none; }` but bootstrap.min.css set `[hidden] { display: none !important; }` so we also need the `!important` here to be able to override the default hidden behavior on the sphinx rendered scikit-learn.org. See: https://github.com/scikit-learn/scikit-learn/issues/21755 */display: inline-block !important;position: relative;}#sk-7224af20-a050-45de-b64b-e0fd0198b3ec div.sk-text-repr-fallback {display: none;}</style><div id=\"sk-7224af20-a050-45de-b64b-e0fd0198b3ec\" class=\"sk-top-container\"><div class=\"sk-text-repr-fallback\"><pre>GridSearchCV(estimator=Pipeline(steps=[(&#x27;polynomialfeatures&#x27;,\n",
       "                                        PolynomialFeatures()),\n",
       "                                       (&#x27;standardscaler&#x27;, StandardScaler()),\n",
       "                                       (&#x27;ridge&#x27;, Ridge())]),\n",
       "             n_jobs=-1, param_grid={&#x27;ridge__alpha&#x27;: [0.01, 0.1, 1, 10, 100]})</pre><b>Please rerun this cell to show the HTML repr or trust the notebook.</b></div><div class=\"sk-container\" hidden><div class=\"sk-item sk-dashed-wrapped\"><div class=\"sk-label-container\"><div class=\"sk-label sk-toggleable\"><input class=\"sk-toggleable__control sk-hidden--visually\" id=\"84136164-bb9e-4237-a98d-b86a97b0604c\" type=\"checkbox\" ><label for=\"84136164-bb9e-4237-a98d-b86a97b0604c\" class=\"sk-toggleable__label sk-toggleable__label-arrow\">GridSearchCV</label><div class=\"sk-toggleable__content\"><pre>GridSearchCV(estimator=Pipeline(steps=[(&#x27;polynomialfeatures&#x27;,\n",
       "                                        PolynomialFeatures()),\n",
       "                                       (&#x27;standardscaler&#x27;, StandardScaler()),\n",
       "                                       (&#x27;ridge&#x27;, Ridge())]),\n",
       "             n_jobs=-1, param_grid={&#x27;ridge__alpha&#x27;: [0.01, 0.1, 1, 10, 100]})</pre></div></div></div><div class=\"sk-parallel\"><div class=\"sk-parallel-item\"><div class=\"sk-item\"><div class=\"sk-serial\"><div class=\"sk-item\"><div class=\"sk-serial\"><div class=\"sk-item\"><div class=\"sk-estimator sk-toggleable\"><input class=\"sk-toggleable__control sk-hidden--visually\" id=\"a7d318cc-4bc8-46b4-b73a-06ba83c40043\" type=\"checkbox\" ><label for=\"a7d318cc-4bc8-46b4-b73a-06ba83c40043\" class=\"sk-toggleable__label sk-toggleable__label-arrow\">PolynomialFeatures</label><div class=\"sk-toggleable__content\"><pre>PolynomialFeatures()</pre></div></div></div><div class=\"sk-item\"><div class=\"sk-estimator sk-toggleable\"><input class=\"sk-toggleable__control sk-hidden--visually\" id=\"b0deae80-6fb2-44ae-8e51-3c7e6cccf23e\" type=\"checkbox\" ><label for=\"b0deae80-6fb2-44ae-8e51-3c7e6cccf23e\" class=\"sk-toggleable__label sk-toggleable__label-arrow\">StandardScaler</label><div class=\"sk-toggleable__content\"><pre>StandardScaler()</pre></div></div></div><div class=\"sk-item\"><div class=\"sk-estimator sk-toggleable\"><input class=\"sk-toggleable__control sk-hidden--visually\" id=\"06eb839e-990d-42fe-aa1a-001fc7da3277\" type=\"checkbox\" ><label for=\"06eb839e-990d-42fe-aa1a-001fc7da3277\" class=\"sk-toggleable__label sk-toggleable__label-arrow\">Ridge</label><div class=\"sk-toggleable__content\"><pre>Ridge()</pre></div></div></div></div></div></div></div></div></div></div></div></div>"
      ],
      "text/plain": [
       "GridSearchCV(estimator=Pipeline(steps=[('polynomialfeatures',\n",
       "                                        PolynomialFeatures()),\n",
       "                                       ('standardscaler', StandardScaler()),\n",
       "                                       ('ridge', Ridge())]),\n",
       "             n_jobs=-1, param_grid={'ridge__alpha': [0.01, 0.1, 1, 10, 100]})"
      ]
     },
     "execution_count": 16,
     "metadata": {},
     "output_type": "execute_result"
    }
   ],
   "source": [
    "gs2.fit(X_train, y_train)"
   ]
  },
  {
   "cell_type": "code",
   "execution_count": 17,
   "metadata": {},
   "outputs": [
    {
     "data": {
      "text/html": [
       "<div>\n",
       "<style scoped>\n",
       "    .dataframe tbody tr th:only-of-type {\n",
       "        vertical-align: middle;\n",
       "    }\n",
       "\n",
       "    .dataframe tbody tr th {\n",
       "        vertical-align: top;\n",
       "    }\n",
       "\n",
       "    .dataframe thead th {\n",
       "        text-align: right;\n",
       "    }\n",
       "</style>\n",
       "<table border=\"1\" class=\"dataframe\">\n",
       "  <thead>\n",
       "    <tr style=\"text-align: right;\">\n",
       "      <th></th>\n",
       "      <th>mean_fit_time</th>\n",
       "      <th>std_fit_time</th>\n",
       "      <th>mean_score_time</th>\n",
       "      <th>std_score_time</th>\n",
       "      <th>param_ridge__alpha</th>\n",
       "      <th>params</th>\n",
       "      <th>split0_test_score</th>\n",
       "      <th>split1_test_score</th>\n",
       "      <th>split2_test_score</th>\n",
       "      <th>split3_test_score</th>\n",
       "      <th>split4_test_score</th>\n",
       "      <th>mean_test_score</th>\n",
       "      <th>std_test_score</th>\n",
       "      <th>rank_test_score</th>\n",
       "    </tr>\n",
       "  </thead>\n",
       "  <tbody>\n",
       "    <tr>\n",
       "      <th>0</th>\n",
       "      <td>0.018031</td>\n",
       "      <td>0.002635</td>\n",
       "      <td>0.002800</td>\n",
       "      <td>0.000748</td>\n",
       "      <td>0.01</td>\n",
       "      <td>{'ridge__alpha': 0.01}</td>\n",
       "      <td>0.684314</td>\n",
       "      <td>0.829855</td>\n",
       "      <td>0.824665</td>\n",
       "      <td>0.846103</td>\n",
       "      <td>0.846953</td>\n",
       "      <td>0.806378</td>\n",
       "      <td>0.061660</td>\n",
       "      <td>1</td>\n",
       "    </tr>\n",
       "    <tr>\n",
       "      <th>1</th>\n",
       "      <td>0.012402</td>\n",
       "      <td>0.002940</td>\n",
       "      <td>0.002401</td>\n",
       "      <td>0.000800</td>\n",
       "      <td>0.1</td>\n",
       "      <td>{'ridge__alpha': 0.1}</td>\n",
       "      <td>0.671063</td>\n",
       "      <td>0.818958</td>\n",
       "      <td>0.813960</td>\n",
       "      <td>0.824185</td>\n",
       "      <td>0.834888</td>\n",
       "      <td>0.792611</td>\n",
       "      <td>0.061169</td>\n",
       "      <td>3</td>\n",
       "    </tr>\n",
       "    <tr>\n",
       "      <th>2</th>\n",
       "      <td>0.014204</td>\n",
       "      <td>0.005914</td>\n",
       "      <td>0.003401</td>\n",
       "      <td>0.001358</td>\n",
       "      <td>1</td>\n",
       "      <td>{'ridge__alpha': 1}</td>\n",
       "      <td>0.647360</td>\n",
       "      <td>0.804454</td>\n",
       "      <td>0.791849</td>\n",
       "      <td>0.772278</td>\n",
       "      <td>0.817278</td>\n",
       "      <td>0.766644</td>\n",
       "      <td>0.061464</td>\n",
       "      <td>5</td>\n",
       "    </tr>\n",
       "    <tr>\n",
       "      <th>3</th>\n",
       "      <td>0.010203</td>\n",
       "      <td>0.000400</td>\n",
       "      <td>0.002802</td>\n",
       "      <td>0.000399</td>\n",
       "      <td>10</td>\n",
       "      <td>{'ridge__alpha': 10}</td>\n",
       "      <td>0.668221</td>\n",
       "      <td>0.812665</td>\n",
       "      <td>0.790341</td>\n",
       "      <td>0.812461</td>\n",
       "      <td>0.826508</td>\n",
       "      <td>0.782039</td>\n",
       "      <td>0.058077</td>\n",
       "      <td>4</td>\n",
       "    </tr>\n",
       "    <tr>\n",
       "      <th>4</th>\n",
       "      <td>0.009629</td>\n",
       "      <td>0.000980</td>\n",
       "      <td>0.002052</td>\n",
       "      <td>0.000063</td>\n",
       "      <td>100</td>\n",
       "      <td>{'ridge__alpha': 100}</td>\n",
       "      <td>0.733078</td>\n",
       "      <td>0.787973</td>\n",
       "      <td>0.792623</td>\n",
       "      <td>0.832360</td>\n",
       "      <td>0.842766</td>\n",
       "      <td>0.797760</td>\n",
       "      <td>0.038803</td>\n",
       "      <td>2</td>\n",
       "    </tr>\n",
       "  </tbody>\n",
       "</table>\n",
       "</div>"
      ],
      "text/plain": [
       "   mean_fit_time  std_fit_time  mean_score_time  std_score_time  \\\n",
       "0       0.018031      0.002635         0.002800        0.000748   \n",
       "1       0.012402      0.002940         0.002401        0.000800   \n",
       "2       0.014204      0.005914         0.003401        0.001358   \n",
       "3       0.010203      0.000400         0.002802        0.000399   \n",
       "4       0.009629      0.000980         0.002052        0.000063   \n",
       "\n",
       "  param_ridge__alpha                  params  split0_test_score  \\\n",
       "0               0.01  {'ridge__alpha': 0.01}           0.684314   \n",
       "1                0.1   {'ridge__alpha': 0.1}           0.671063   \n",
       "2                  1     {'ridge__alpha': 1}           0.647360   \n",
       "3                 10    {'ridge__alpha': 10}           0.668221   \n",
       "4                100   {'ridge__alpha': 100}           0.733078   \n",
       "\n",
       "   split1_test_score  split2_test_score  split3_test_score  split4_test_score  \\\n",
       "0           0.829855           0.824665           0.846103           0.846953   \n",
       "1           0.818958           0.813960           0.824185           0.834888   \n",
       "2           0.804454           0.791849           0.772278           0.817278   \n",
       "3           0.812665           0.790341           0.812461           0.826508   \n",
       "4           0.787973           0.792623           0.832360           0.842766   \n",
       "\n",
       "   mean_test_score  std_test_score  rank_test_score  \n",
       "0         0.806378        0.061660                1  \n",
       "1         0.792611        0.061169                3  \n",
       "2         0.766644        0.061464                5  \n",
       "3         0.782039        0.058077                4  \n",
       "4         0.797760        0.038803                2  "
      ]
     },
     "execution_count": 17,
     "metadata": {},
     "output_type": "execute_result"
    }
   ],
   "source": [
    "pd.DataFrame(gs2.cv_results_)"
   ]
  },
  {
   "cell_type": "code",
   "execution_count": 18,
   "metadata": {},
   "outputs": [
    {
     "data": {
      "text/plain": [
       "{'ridge__alpha': 0.01}"
      ]
     },
     "execution_count": 18,
     "metadata": {},
     "output_type": "execute_result"
    }
   ],
   "source": [
    "gs2.best_params_"
   ]
  },
  {
   "cell_type": "code",
   "execution_count": 19,
   "metadata": {},
   "outputs": [
    {
     "data": {
      "text/plain": [
       "{'polynomialfeatures': PolynomialFeatures(),\n",
       " 'standardscaler': StandardScaler(),\n",
       " 'ridge': Ridge(alpha=0.01)}"
      ]
     },
     "execution_count": 19,
     "metadata": {},
     "output_type": "execute_result"
    }
   ],
   "source": [
    "gs2.best_estimator_.named_steps"
   ]
  },
  {
   "cell_type": "code",
   "execution_count": 20,
   "metadata": {},
   "outputs": [
    {
     "data": {
      "text/plain": [
       "array(['x0', 'x1', 'x2', 'x3', 'x4', 'x5', 'x6', 'x7', 'x8', 'x9', 'x10',\n",
       "       'x11', 'x12', 'x13', 'x14', 'x15', 'x16', 'x17', 'x18', 'x19',\n",
       "       'x20', 'x21', 'x22', 'x23', 'x24', 'x25', 'x26', 'x27', 'x28',\n",
       "       'x29', 'x30', 'x31', 'x32', 'x33', 'x34', 'x35', 'x36', 'x37',\n",
       "       'x38', 'x39', 'x40', 'x41', 'x42', 'x43', 'x44', 'x45', 'x46',\n",
       "       'x47', 'x48', 'x49', 'x50', 'x51', 'x52', 'x53', 'x54', 'x55',\n",
       "       'x56', 'x57', 'x58', 'x59', 'x60', 'x61', 'x62', 'x63', 'x64',\n",
       "       'x65', 'x66', 'x67', 'x68', 'x69', 'x70', 'x71', 'x72', 'x73',\n",
       "       'x74', 'x75', 'x76', 'x77', 'x78', 'x79', 'x80', 'x81', 'x82',\n",
       "       'x83', 'x84', 'x85', 'x86', 'x87', 'x88', 'x89', 'x90', 'x91',\n",
       "       'x92', 'x93', 'x94', 'x95', 'x96', 'x97', 'x98', 'x99', 'x100',\n",
       "       'x101', 'x102', 'x103', 'x104'], dtype=object)"
      ]
     },
     "execution_count": 20,
     "metadata": {},
     "output_type": "execute_result"
    }
   ],
   "source": [
    "gs2.best_estimator_.named_steps['standardscaler'].get_feature_names_out()"
   ]
  },
  {
   "cell_type": "code",
   "execution_count": 21,
   "metadata": {},
   "outputs": [
    {
     "data": {
      "text/plain": [
       "array([ 0.00000000e+00, -2.27680086e+05, -1.47145935e+05, -2.60899520e+05,\n",
       "       -4.88982180e+05, -1.49646657e+05, -6.11173509e+05, -2.61242187e+05,\n",
       "       -2.35674181e+05,  5.46814966e+04, -3.77235747e+05,  4.27431491e+04,\n",
       "       -6.50251811e+04, -3.58703377e+05, -7.63885517e+03,  2.07766176e+04,\n",
       "       -1.31937909e+04,  2.05215681e+04, -1.16988430e+04,  2.73053028e+05,\n",
       "        2.45441139e+04, -3.22637960e+04,  7.92077723e+03, -2.58107079e+04,\n",
       "       -1.15964376e+03,  1.03824539e+04,  1.99428479e+03, -4.74979974e+03,\n",
       "       -8.83854310e+02,  1.49047569e+04,  2.61794341e+04,  1.17047991e+05,\n",
       "       -9.53013865e+03, -3.18876541e+03,  3.11452772e+03,  5.31398502e+03,\n",
       "        1.48096559e+04, -2.07140658e+03,  4.38397882e+03, -1.38913164e+04,\n",
       "       -2.37200075e+04,  1.86928283e+05,  9.28079044e+04, -1.46065060e+04,\n",
       "        2.49685148e+04,  3.42397600e+03,  3.87650498e+04,  4.37107828e+03,\n",
       "       -2.85636490e+02,  2.51532718e+04,  8.88720013e+03,  4.93271513e+05,\n",
       "        7.04881233e+03,  2.13766511e+04, -2.36708349e+04,  1.11285495e+04,\n",
       "       -1.01575269e+04, -1.24127706e+04,  7.09428962e+03, -4.56202555e+04,\n",
       "        1.57501918e+05, -4.28958938e+04,  6.35865688e+04, -7.17361649e+03,\n",
       "       -1.61790976e+05,  2.39726134e+05, -8.11737343e+04,  1.55321897e+05,\n",
       "        2.49583176e+05,  6.10627501e+05,  1.86905359e+05,  2.33657956e+05,\n",
       "        9.54643553e+04,  1.64655642e+05,  3.93714244e+04, -7.99662906e+04,\n",
       "        1.16385431e+05, -5.19315116e+02,  7.61512461e+03, -1.35884715e+04,\n",
       "        2.51911399e+03,  1.92376590e+03,  2.67827689e+03, -8.07467146e+03,\n",
       "        1.88810141e+04,  1.58268361e+04, -3.32157896e+03, -4.12444990e+03,\n",
       "       -2.31448742e+04,  1.74564222e+04, -7.78062122e+03,  4.35768601e+03,\n",
       "        6.58693044e+02, -5.61124518e+03,  9.90237565e+03, -1.82101809e+04,\n",
       "       -7.67246830e+03, -6.89952608e+03, -1.52099472e+04, -1.42137511e+03,\n",
       "       -1.03003231e+03,  2.63020521e+02,  1.88484079e+03,  5.18873008e+03,\n",
       "        2.44506764e+02])"
      ]
     },
     "execution_count": 21,
     "metadata": {},
     "output_type": "execute_result"
    }
   ],
   "source": [
    "gs2.best_estimator_.named_steps['ridge'].coef_"
   ]
  },
  {
   "cell_type": "code",
   "execution_count": 22,
   "metadata": {},
   "outputs": [
    {
     "data": {
      "text/plain": [
       "Index(['Gr Liv Area', 'Garage Cars', 'Total Bsmt SF', '1st Flr SF',\n",
       "       'Year Built', 'Year Remod/Add', 'Full Bath', 'TotRms AbvGrd',\n",
       "       'Fireplaces', 'BsmtFin SF 1', 'Open Porch SF', 'Wood Deck SF',\n",
       "       'Lot Area'],\n",
       "      dtype='object')"
      ]
     },
     "execution_count": 22,
     "metadata": {},
     "output_type": "execute_result"
    }
   ],
   "source": [
    "X_train.columns"
   ]
  },
  {
   "cell_type": "code",
   "execution_count": 23,
   "metadata": {},
   "outputs": [
    {
     "data": {
      "text/html": [
       "<div>\n",
       "<style scoped>\n",
       "    .dataframe tbody tr th:only-of-type {\n",
       "        vertical-align: middle;\n",
       "    }\n",
       "\n",
       "    .dataframe tbody tr th {\n",
       "        vertical-align: top;\n",
       "    }\n",
       "\n",
       "    .dataframe thead th {\n",
       "        text-align: right;\n",
       "    }\n",
       "</style>\n",
       "<table border=\"1\" class=\"dataframe\">\n",
       "  <thead>\n",
       "    <tr style=\"text-align: right;\">\n",
       "      <th></th>\n",
       "      <th>0</th>\n",
       "      <th>1</th>\n",
       "    </tr>\n",
       "  </thead>\n",
       "  <tbody>\n",
       "    <tr>\n",
       "      <th>0</th>\n",
       "      <td>Gr Liv Area</td>\n",
       "      <td>0.000000</td>\n",
       "    </tr>\n",
       "    <tr>\n",
       "      <th>1</th>\n",
       "      <td>Garage Cars</td>\n",
       "      <td>-227680.085907</td>\n",
       "    </tr>\n",
       "    <tr>\n",
       "      <th>2</th>\n",
       "      <td>Total Bsmt SF</td>\n",
       "      <td>-147145.934912</td>\n",
       "    </tr>\n",
       "    <tr>\n",
       "      <th>3</th>\n",
       "      <td>1st Flr SF</td>\n",
       "      <td>-260899.519556</td>\n",
       "    </tr>\n",
       "    <tr>\n",
       "      <th>4</th>\n",
       "      <td>Year Built</td>\n",
       "      <td>-488982.179716</td>\n",
       "    </tr>\n",
       "    <tr>\n",
       "      <th>5</th>\n",
       "      <td>Year Remod/Add</td>\n",
       "      <td>-149646.656998</td>\n",
       "    </tr>\n",
       "    <tr>\n",
       "      <th>6</th>\n",
       "      <td>Full Bath</td>\n",
       "      <td>-611173.509193</td>\n",
       "    </tr>\n",
       "    <tr>\n",
       "      <th>7</th>\n",
       "      <td>TotRms AbvGrd</td>\n",
       "      <td>-261242.187385</td>\n",
       "    </tr>\n",
       "    <tr>\n",
       "      <th>8</th>\n",
       "      <td>Fireplaces</td>\n",
       "      <td>-235674.181448</td>\n",
       "    </tr>\n",
       "    <tr>\n",
       "      <th>9</th>\n",
       "      <td>BsmtFin SF 1</td>\n",
       "      <td>54681.496622</td>\n",
       "    </tr>\n",
       "    <tr>\n",
       "      <th>10</th>\n",
       "      <td>Open Porch SF</td>\n",
       "      <td>-377235.746705</td>\n",
       "    </tr>\n",
       "    <tr>\n",
       "      <th>11</th>\n",
       "      <td>Wood Deck SF</td>\n",
       "      <td>42743.149106</td>\n",
       "    </tr>\n",
       "    <tr>\n",
       "      <th>12</th>\n",
       "      <td>Lot Area</td>\n",
       "      <td>-65025.181125</td>\n",
       "    </tr>\n",
       "  </tbody>\n",
       "</table>\n",
       "</div>"
      ],
      "text/plain": [
       "                 0              1\n",
       "0      Gr Liv Area       0.000000\n",
       "1      Garage Cars -227680.085907\n",
       "2    Total Bsmt SF -147145.934912\n",
       "3       1st Flr SF -260899.519556\n",
       "4       Year Built -488982.179716\n",
       "5   Year Remod/Add -149646.656998\n",
       "6        Full Bath -611173.509193\n",
       "7    TotRms AbvGrd -261242.187385\n",
       "8       Fireplaces -235674.181448\n",
       "9     BsmtFin SF 1   54681.496622\n",
       "10   Open Porch SF -377235.746705\n",
       "11    Wood Deck SF   42743.149106\n",
       "12        Lot Area  -65025.181125"
      ]
     },
     "execution_count": 23,
     "metadata": {},
     "output_type": "execute_result"
    }
   ],
   "source": [
    "pd.DataFrame(zip(X_train.columns, gs2.best_estimator_.named_steps['ridge'].coef_))"
   ]
  },
  {
   "cell_type": "code",
   "execution_count": 24,
   "metadata": {},
   "outputs": [
    {
     "data": {
      "text/plain": [
       "181876.0292968783"
      ]
     },
     "execution_count": 24,
     "metadata": {},
     "output_type": "execute_result"
    }
   ],
   "source": [
    "gs2.best_estimator_.named_steps['ridge'].intercept_"
   ]
  },
  {
   "cell_type": "code",
   "execution_count": 25,
   "metadata": {},
   "outputs": [
    {
     "data": {
      "text/plain": [
       "0.8353112680455291"
      ]
     },
     "execution_count": 25,
     "metadata": {},
     "output_type": "execute_result"
    }
   ],
   "source": [
    "gs2.score(X_test, y_test)"
   ]
  },
  {
   "cell_type": "code",
   "execution_count": null,
   "metadata": {},
   "outputs": [],
   "source": []
  },
  {
   "cell_type": "code",
   "execution_count": 26,
   "metadata": {},
   "outputs": [],
   "source": [
    "#Make predictions on the test set\n",
    "preds = gs2.predict(X_test)"
   ]
  },
  {
   "cell_type": "code",
   "execution_count": 27,
   "metadata": {},
   "outputs": [
    {
     "name": "stdout",
     "output_type": "stream",
     "text": [
      "Ridge Model #1: MAE: 20569.70980747159\n",
      "Ridge Model #1: MSE: 978267812.7281587\n",
      "Ridge Model #1: R2: 0.8353112680455291\n"
     ]
    }
   ],
   "source": [
    "#Evaluate my metrics\n",
    "print('Ridge Model #1: MAE:', mean_absolute_error(y_test, preds))\n",
    "print('Ridge Model #1: MSE:', mean_squared_error(y_test, preds))\n",
    "print('Ridge Model #1: R2:', r2_score(y_test, preds))"
   ]
  },
  {
   "cell_type": "markdown",
   "metadata": {},
   "source": [
    "This model beats all three previous models! The Rsquared here is .8561 versus .7186 for the Lasso model,  -.0037 for the baseline model and .5667 for the linear regression model."
   ]
  },
  {
   "cell_type": "code",
   "execution_count": 28,
   "metadata": {},
   "outputs": [],
   "source": [
    "#I want to look at some graphs of my residuals\n",
    "residuals = preds - y_test"
   ]
  },
  {
   "cell_type": "code",
   "execution_count": 29,
   "metadata": {},
   "outputs": [
    {
     "data": {
      "image/png": "[encoded data removed]",
      "text/plain": [
       "<Figure size 432x288 with 1 Axes>"
      ]
     },
     "metadata": {
      "needs_background": "light"
     },
     "output_type": "display_data"
    }
   ],
   "source": [
    "sns.histplot(residuals, bins=15);\n",
    "#This looks like a normal distribution so this doesn't look too bad."
   ]
  },
  {
   "cell_type": "code",
   "execution_count": 30,
   "metadata": {},
   "outputs": [
    {
     "data": {
      "image/png": "[encoded data removed]",
      "text/plain": [
       "<Figure size 432x288 with 1 Axes>"
      ]
     },
     "metadata": {
      "needs_background": "light"
     },
     "output_type": "display_data"
    }
   ],
   "source": [
    "plt.scatter(y_test, preds);\n",
    "#This doesn't look too bad!"
   ]
  },
  {
   "cell_type": "code",
   "execution_count": 31,
   "metadata": {},
   "outputs": [
    {
     "data": {
      "image/png": "[encoded data removed]",
      "text/plain": [
       "<Figure size 432x288 with 1 Axes>"
      ]
     },
     "metadata": {
      "needs_background": "light"
     },
     "output_type": "display_data"
    }
   ],
   "source": [
    "plt.scatter(y_test, residuals);\n",
    "#That outlier at 200,000 is strange."
   ]
  },
  {
   "cell_type": "code",
   "execution_count": 32,
   "metadata": {},
   "outputs": [],
   "source": [
    "#Now, I want to use my Ridge model to score the separate test dataset so \n",
    "# that I can submit a csv file to Kaggle for the contest.\n",
    "\n",
    "df_ames_test = pd.read_csv('./datasets/test.csv')"
   ]
  },
  {
   "cell_type": "code",
   "execution_count": 33,
   "metadata": {},
   "outputs": [
    {
     "data": {
      "text/html": [
       "<div>\n",
       "<style scoped>\n",
       "    .dataframe tbody tr th:only-of-type {\n",
       "        vertical-align: middle;\n",
       "    }\n",
       "\n",
       "    .dataframe tbody tr th {\n",
       "        vertical-align: top;\n",
       "    }\n",
       "\n",
       "    .dataframe thead th {\n",
       "        text-align: right;\n",
       "    }\n",
       "</style>\n",
       "<table border=\"1\" class=\"dataframe\">\n",
       "  <thead>\n",
       "    <tr style=\"text-align: right;\">\n",
       "      <th></th>\n",
       "      <th>Id</th>\n",
       "      <th>PID</th>\n",
       "      <th>MS SubClass</th>\n",
       "      <th>MS Zoning</th>\n",
       "      <th>Lot Frontage</th>\n",
       "      <th>Lot Area</th>\n",
       "      <th>Street</th>\n",
       "      <th>Alley</th>\n",
       "      <th>Lot Shape</th>\n",
       "      <th>Land Contour</th>\n",
       "      <th>...</th>\n",
       "      <th>3Ssn Porch</th>\n",
       "      <th>Screen Porch</th>\n",
       "      <th>Pool Area</th>\n",
       "      <th>Pool QC</th>\n",
       "      <th>Fence</th>\n",
       "      <th>Misc Feature</th>\n",
       "      <th>Misc Val</th>\n",
       "      <th>Mo Sold</th>\n",
       "      <th>Yr Sold</th>\n",
       "      <th>Sale Type</th>\n",
       "    </tr>\n",
       "  </thead>\n",
       "  <tbody>\n",
       "    <tr>\n",
       "      <th>0</th>\n",
       "      <td>2658</td>\n",
       "      <td>902301120</td>\n",
       "      <td>190</td>\n",
       "      <td>RM</td>\n",
       "      <td>69.0</td>\n",
       "      <td>9142</td>\n",
       "      <td>Pave</td>\n",
       "      <td>Grvl</td>\n",
       "      <td>Reg</td>\n",
       "      <td>Lvl</td>\n",
       "      <td>...</td>\n",
       "      <td>0</td>\n",
       "      <td>0</td>\n",
       "      <td>0</td>\n",
       "      <td>NaN</td>\n",
       "      <td>NaN</td>\n",
       "      <td>NaN</td>\n",
       "      <td>0</td>\n",
       "      <td>4</td>\n",
       "      <td>2006</td>\n",
       "      <td>WD</td>\n",
       "    </tr>\n",
       "    <tr>\n",
       "      <th>1</th>\n",
       "      <td>2718</td>\n",
       "      <td>905108090</td>\n",
       "      <td>90</td>\n",
       "      <td>RL</td>\n",
       "      <td>NaN</td>\n",
       "      <td>9662</td>\n",
       "      <td>Pave</td>\n",
       "      <td>NaN</td>\n",
       "      <td>IR1</td>\n",
       "      <td>Lvl</td>\n",
       "      <td>...</td>\n",
       "      <td>0</td>\n",
       "      <td>0</td>\n",
       "      <td>0</td>\n",
       "      <td>NaN</td>\n",
       "      <td>NaN</td>\n",
       "      <td>NaN</td>\n",
       "      <td>0</td>\n",
       "      <td>8</td>\n",
       "      <td>2006</td>\n",
       "      <td>WD</td>\n",
       "    </tr>\n",
       "  </tbody>\n",
       "</table>\n",
       "<p>2 rows × 80 columns</p>\n",
       "</div>"
      ],
      "text/plain": [
       "     Id        PID  MS SubClass MS Zoning  Lot Frontage  Lot Area Street  \\\n",
       "0  2658  902301120          190        RM          69.0      9142   Pave   \n",
       "1  2718  905108090           90        RL           NaN      9662   Pave   \n",
       "\n",
       "  Alley Lot Shape Land Contour  ... 3Ssn Porch Screen Porch Pool Area Pool QC  \\\n",
       "0  Grvl       Reg          Lvl  ...          0            0         0     NaN   \n",
       "1   NaN       IR1          Lvl  ...          0            0         0     NaN   \n",
       "\n",
       "  Fence Misc Feature Misc Val Mo Sold  Yr Sold  Sale Type  \n",
       "0   NaN          NaN        0       4     2006        WD   \n",
       "1   NaN          NaN        0       8     2006        WD   \n",
       "\n",
       "[2 rows x 80 columns]"
      ]
     },
     "execution_count": 33,
     "metadata": {},
     "output_type": "execute_result"
    }
   ],
   "source": [
    "df_ames_test.head(2)"
   ]
  },
  {
   "cell_type": "code",
   "execution_count": 34,
   "metadata": {},
   "outputs": [],
   "source": [
    "#Pull off only the data I need\n",
    "df_mini_ridge_test = df_ames_test[['Gr Liv Area', 'Garage Cars',\n",
    "'Total Bsmt SF', '1st Flr SF', 'Year Built', 'Year Remod/Add', 'Full Bath',\n",
    "'TotRms AbvGrd', 'Fireplaces', 'BsmtFin SF 1',\n",
    "'Open Porch SF', 'Wood Deck SF', 'Lot Area']]"
   ]
  },
  {
   "cell_type": "code",
   "execution_count": 35,
   "metadata": {},
   "outputs": [
    {
     "data": {
      "text/plain": [
       "Gr Liv Area       0\n",
       "Garage Cars       0\n",
       "Total Bsmt SF     0\n",
       "1st Flr SF        0\n",
       "Year Built        0\n",
       "Year Remod/Add    0\n",
       "Full Bath         0\n",
       "TotRms AbvGrd     0\n",
       "Fireplaces        0\n",
       "BsmtFin SF 1      0\n",
       "Open Porch SF     0\n",
       "Wood Deck SF      0\n",
       "Lot Area          0\n",
       "dtype: int64"
      ]
     },
     "execution_count": 35,
     "metadata": {},
     "output_type": "execute_result"
    }
   ],
   "source": [
    "#Yay!  No missing data here!\n",
    "df_mini_ridge_test.isna().sum()"
   ]
  },
  {
   "cell_type": "code",
   "execution_count": 36,
   "metadata": {},
   "outputs": [
    {
     "data": {
      "text/html": [
       "<div>\n",
       "<style scoped>\n",
       "    .dataframe tbody tr th:only-of-type {\n",
       "        vertical-align: middle;\n",
       "    }\n",
       "\n",
       "    .dataframe tbody tr th {\n",
       "        vertical-align: top;\n",
       "    }\n",
       "\n",
       "    .dataframe thead th {\n",
       "        text-align: right;\n",
       "    }\n",
       "</style>\n",
       "<table border=\"1\" class=\"dataframe\">\n",
       "  <thead>\n",
       "    <tr style=\"text-align: right;\">\n",
       "      <th></th>\n",
       "      <th>Gr Liv Area</th>\n",
       "      <th>Garage Cars</th>\n",
       "      <th>Total Bsmt SF</th>\n",
       "      <th>1st Flr SF</th>\n",
       "      <th>Year Built</th>\n",
       "      <th>Year Remod/Add</th>\n",
       "      <th>Full Bath</th>\n",
       "      <th>TotRms AbvGrd</th>\n",
       "      <th>Fireplaces</th>\n",
       "      <th>BsmtFin SF 1</th>\n",
       "      <th>Open Porch SF</th>\n",
       "      <th>Wood Deck SF</th>\n",
       "      <th>Lot Area</th>\n",
       "    </tr>\n",
       "  </thead>\n",
       "  <tbody>\n",
       "    <tr>\n",
       "      <th>count</th>\n",
       "      <td>878.000000</td>\n",
       "      <td>878.000000</td>\n",
       "      <td>878.000000</td>\n",
       "      <td>878.000000</td>\n",
       "      <td>878.000000</td>\n",
       "      <td>878.000000</td>\n",
       "      <td>878.000000</td>\n",
       "      <td>878.000000</td>\n",
       "      <td>878.000000</td>\n",
       "      <td>878.000000</td>\n",
       "      <td>878.000000</td>\n",
       "      <td>878.000000</td>\n",
       "      <td>878.000000</td>\n",
       "    </tr>\n",
       "    <tr>\n",
       "      <th>mean</th>\n",
       "      <td>1496.914579</td>\n",
       "      <td>1.742597</td>\n",
       "      <td>1034.357631</td>\n",
       "      <td>1145.787016</td>\n",
       "      <td>1970.492027</td>\n",
       "      <td>1984.417995</td>\n",
       "      <td>1.539863</td>\n",
       "      <td>6.454442</td>\n",
       "      <td>0.618451</td>\n",
       "      <td>441.328018</td>\n",
       "      <td>47.070615</td>\n",
       "      <td>93.430524</td>\n",
       "      <td>10307.033030</td>\n",
       "    </tr>\n",
       "    <tr>\n",
       "      <th>std</th>\n",
       "      <td>506.468967</td>\n",
       "      <td>0.750391</td>\n",
       "      <td>413.446291</td>\n",
       "      <td>375.264111</td>\n",
       "      <td>30.395895</td>\n",
       "      <td>20.450725</td>\n",
       "      <td>0.559060</td>\n",
       "      <td>1.596632</td>\n",
       "      <td>0.669571</td>\n",
       "      <td>438.457329</td>\n",
       "      <td>68.180939</td>\n",
       "      <td>121.181702</td>\n",
       "      <td>10002.674602</td>\n",
       "    </tr>\n",
       "    <tr>\n",
       "      <th>min</th>\n",
       "      <td>407.000000</td>\n",
       "      <td>0.000000</td>\n",
       "      <td>0.000000</td>\n",
       "      <td>407.000000</td>\n",
       "      <td>1880.000000</td>\n",
       "      <td>1950.000000</td>\n",
       "      <td>0.000000</td>\n",
       "      <td>3.000000</td>\n",
       "      <td>0.000000</td>\n",
       "      <td>0.000000</td>\n",
       "      <td>0.000000</td>\n",
       "      <td>0.000000</td>\n",
       "      <td>1477.000000</td>\n",
       "    </tr>\n",
       "    <tr>\n",
       "      <th>25%</th>\n",
       "      <td>1114.000000</td>\n",
       "      <td>1.000000</td>\n",
       "      <td>789.000000</td>\n",
       "      <td>864.000000</td>\n",
       "      <td>1954.000000</td>\n",
       "      <td>1967.000000</td>\n",
       "      <td>1.000000</td>\n",
       "      <td>5.000000</td>\n",
       "      <td>0.000000</td>\n",
       "      <td>0.000000</td>\n",
       "      <td>0.000000</td>\n",
       "      <td>0.000000</td>\n",
       "      <td>7297.250000</td>\n",
       "    </tr>\n",
       "    <tr>\n",
       "      <th>50%</th>\n",
       "      <td>1436.000000</td>\n",
       "      <td>2.000000</td>\n",
       "      <td>975.000000</td>\n",
       "      <td>1063.000000</td>\n",
       "      <td>1972.000000</td>\n",
       "      <td>1992.000000</td>\n",
       "      <td>2.000000</td>\n",
       "      <td>6.000000</td>\n",
       "      <td>1.000000</td>\n",
       "      <td>373.000000</td>\n",
       "      <td>27.000000</td>\n",
       "      <td>0.000000</td>\n",
       "      <td>9446.000000</td>\n",
       "    </tr>\n",
       "    <tr>\n",
       "      <th>75%</th>\n",
       "      <td>1779.000000</td>\n",
       "      <td>2.000000</td>\n",
       "      <td>1247.000000</td>\n",
       "      <td>1358.000000</td>\n",
       "      <td>1999.750000</td>\n",
       "      <td>2003.000000</td>\n",
       "      <td>2.000000</td>\n",
       "      <td>7.000000</td>\n",
       "      <td>1.000000</td>\n",
       "      <td>734.750000</td>\n",
       "      <td>69.750000</td>\n",
       "      <td>170.750000</td>\n",
       "      <td>11589.000000</td>\n",
       "    </tr>\n",
       "    <tr>\n",
       "      <th>max</th>\n",
       "      <td>4476.000000</td>\n",
       "      <td>4.000000</td>\n",
       "      <td>2630.000000</td>\n",
       "      <td>2674.000000</td>\n",
       "      <td>2010.000000</td>\n",
       "      <td>2010.000000</td>\n",
       "      <td>4.000000</td>\n",
       "      <td>12.000000</td>\n",
       "      <td>3.000000</td>\n",
       "      <td>2288.000000</td>\n",
       "      <td>742.000000</td>\n",
       "      <td>690.000000</td>\n",
       "      <td>215245.000000</td>\n",
       "    </tr>\n",
       "  </tbody>\n",
       "</table>\n",
       "</div>"
      ],
      "text/plain": [
       "       Gr Liv Area  Garage Cars  Total Bsmt SF   1st Flr SF   Year Built  \\\n",
       "count   878.000000   878.000000     878.000000   878.000000   878.000000   \n",
       "mean   1496.914579     1.742597    1034.357631  1145.787016  1970.492027   \n",
       "std     506.468967     0.750391     413.446291   375.264111    30.395895   \n",
       "min     407.000000     0.000000       0.000000   407.000000  1880.000000   \n",
       "25%    1114.000000     1.000000     789.000000   864.000000  1954.000000   \n",
       "50%    1436.000000     2.000000     975.000000  1063.000000  1972.000000   \n",
       "75%    1779.000000     2.000000    1247.000000  1358.000000  1999.750000   \n",
       "max    4476.000000     4.000000    2630.000000  2674.000000  2010.000000   \n",
       "\n",
       "       Year Remod/Add   Full Bath  TotRms AbvGrd  Fireplaces  BsmtFin SF 1  \\\n",
       "count      878.000000  878.000000     878.000000  878.000000    878.000000   \n",
       "mean      1984.417995    1.539863       6.454442    0.618451    441.328018   \n",
       "std         20.450725    0.559060       1.596632    0.669571    438.457329   \n",
       "min       1950.000000    0.000000       3.000000    0.000000      0.000000   \n",
       "25%       1967.000000    1.000000       5.000000    0.000000      0.000000   \n",
       "50%       1992.000000    2.000000       6.000000    1.000000    373.000000   \n",
       "75%       2003.000000    2.000000       7.000000    1.000000    734.750000   \n",
       "max       2010.000000    4.000000      12.000000    3.000000   2288.000000   \n",
       "\n",
       "       Open Porch SF  Wood Deck SF       Lot Area  \n",
       "count     878.000000    878.000000     878.000000  \n",
       "mean       47.070615     93.430524   10307.033030  \n",
       "std        68.180939    121.181702   10002.674602  \n",
       "min         0.000000      0.000000    1477.000000  \n",
       "25%         0.000000      0.000000    7297.250000  \n",
       "50%        27.000000      0.000000    9446.000000  \n",
       "75%        69.750000    170.750000   11589.000000  \n",
       "max       742.000000    690.000000  215245.000000  "
      ]
     },
     "execution_count": 36,
     "metadata": {},
     "output_type": "execute_result"
    }
   ],
   "source": [
    "df_mini_ridge_test.describe()"
   ]
  },
  {
   "cell_type": "code",
   "execution_count": 37,
   "metadata": {},
   "outputs": [],
   "source": [
    "X_mini_ridge_test = df_mini_ridge_test"
   ]
  },
  {
   "cell_type": "code",
   "execution_count": 38,
   "metadata": {},
   "outputs": [],
   "source": [
    "preds_rdg_kag = gs2.predict(X_mini_ridge_test)"
   ]
  },
  {
   "cell_type": "code",
   "execution_count": 39,
   "metadata": {},
   "outputs": [],
   "source": [
    "df_ames_test['SalePrice'] = preds_rdg_kag"
   ]
  },
  {
   "cell_type": "code",
   "execution_count": 40,
   "metadata": {},
   "outputs": [],
   "source": [
    "df_ames_test[['Id', 'SalePrice']].to_csv('./datasets/rdg_predictions.csv', index = False)\n",
    "\n",
    "#Used code from Chuck's Breakfast Hour Quiz3 Review"
   ]
  },
  {
   "cell_type": "code",
   "execution_count": 41,
   "metadata": {},
   "outputs": [],
   "source": [
    "df_kaggle = pd.read_csv('./datasets/rdg_predictions.csv')"
   ]
  },
  {
   "cell_type": "code",
   "execution_count": 42,
   "metadata": {},
   "outputs": [
    {
     "data": {
      "text/html": [
       "<div>\n",
       "<style scoped>\n",
       "    .dataframe tbody tr th:only-of-type {\n",
       "        vertical-align: middle;\n",
       "    }\n",
       "\n",
       "    .dataframe tbody tr th {\n",
       "        vertical-align: top;\n",
       "    }\n",
       "\n",
       "    .dataframe thead th {\n",
       "        text-align: right;\n",
       "    }\n",
       "</style>\n",
       "<table border=\"1\" class=\"dataframe\">\n",
       "  <thead>\n",
       "    <tr style=\"text-align: right;\">\n",
       "      <th></th>\n",
       "      <th>Id</th>\n",
       "      <th>SalePrice</th>\n",
       "    </tr>\n",
       "  </thead>\n",
       "  <tbody>\n",
       "    <tr>\n",
       "      <th>0</th>\n",
       "      <td>2658</td>\n",
       "      <td>124966.836167</td>\n",
       "    </tr>\n",
       "    <tr>\n",
       "      <th>1</th>\n",
       "      <td>2718</td>\n",
       "      <td>188605.381036</td>\n",
       "    </tr>\n",
       "  </tbody>\n",
       "</table>\n",
       "</div>"
      ],
      "text/plain": [
       "     Id      SalePrice\n",
       "0  2658  124966.836167\n",
       "1  2718  188605.381036"
      ]
     },
     "execution_count": 42,
     "metadata": {},
     "output_type": "execute_result"
    }
   ],
   "source": [
    "df_kaggle.head(2)"
   ]
  }
 ],
 "metadata": {
  "interpreter": {
   "hash": "1013f178bd8cc9c09c9a1bfa722153bff45040218b602b728b1ebb7cc8a12e61"
  },
  "kernelspec": {
   "display_name": "Python 3.9.7 64-bit ('base': conda)",
   "language": "python",
   "name": "python3"
  },
  "language_info": {
   "codemirror_mode": {
    "name": "ipython",
    "version": 3
   },
   "file_extension": ".py",
   "mimetype": "text/x-python",
   "name": "python",
   "nbconvert_exporter": "python",
   "pygments_lexer": "ipython3",
   "version": "3.9.7"
  },
  "orig_nbformat": 4
 },
 "nbformat": 4,
 "nbformat_minor": 2
}
