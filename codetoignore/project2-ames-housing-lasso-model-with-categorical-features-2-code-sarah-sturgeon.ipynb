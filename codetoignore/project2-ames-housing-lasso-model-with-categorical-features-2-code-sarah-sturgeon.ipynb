{
 "cells": [
  {
   "cell_type": "code",
   "execution_count": 1,
   "metadata": {},
   "outputs": [],
   "source": [
    "import numpy as np\n",
    "import pandas as pd\n",
    "import matplotlib.pyplot as plt\n",
    "import seaborn as sns\n",
    "\n",
    "import missingno as mn\n",
    "\n",
    "from sklearn.linear_model import LinearRegression, Lasso, Ridge\n",
    "from sklearn.pipeline import make_pipeline\n",
    "from sklearn.preprocessing import StandardScaler, PolynomialFeatures, OneHotEncoder, OrdinalEncoder\n",
    "from sklearn.model_selection import train_test_split, GridSearchCV\n",
    "from sklearn.compose import make_column_selector, make_column_transformer\n",
    "from sklearn.metrics import mean_squared_error, mean_absolute_error, r2_score\n",
    "from sklearn.dummy import DummyRegressor\n",
    "from sklearn.feature_selection import RFE\n",
    "from sklearn.impute import SimpleImputer\n",
    "\n",
    "from sklearn import set_config\n",
    "set_config(display='diagram')\n",
    "\n",
    "#Nate shared this list as his ultimate go-to during our regresssion hack-a-thon"
   ]
  },
  {
   "cell_type": "code",
   "execution_count": 2,
   "metadata": {},
   "outputs": [],
   "source": [
    "df_ames_train = pd.read_csv('./datasets/train.csv')"
   ]
  },
  {
   "cell_type": "markdown",
   "metadata": {},
   "source": [
    "I know I need to split my data into train/test before I do any data transformations and build any models."
   ]
  },
  {
   "cell_type": "code",
   "execution_count": 3,
   "metadata": {},
   "outputs": [],
   "source": [
    "df_ames_lasso_cat_train = df_ames_train[['Overall Qual','Gr Liv Area', 'Garage Cars',\n",
    "'Total Bsmt SF', '1st Flr SF', 'Year Built', 'Year Remod/Add', 'Full Bath',\n",
    "'TotRms AbvGrd', 'Fireplaces', 'BsmtFin SF 1', 'Neighborhood',\n",
    "'Open Porch SF', 'Wood Deck SF', 'Lot Area', 'SalePrice']]"
   ]
  },
  {
   "cell_type": "code",
   "execution_count": 4,
   "metadata": {},
   "outputs": [
    {
     "data": {
      "text/plain": [
       "Overall Qual      0\n",
       "Gr Liv Area       0\n",
       "Garage Cars       1\n",
       "Total Bsmt SF     1\n",
       "1st Flr SF        0\n",
       "Year Built        0\n",
       "Year Remod/Add    0\n",
       "Full Bath         0\n",
       "TotRms AbvGrd     0\n",
       "Fireplaces        0\n",
       "BsmtFin SF 1      1\n",
       "Neighborhood      0\n",
       "Open Porch SF     0\n",
       "Wood Deck SF      0\n",
       "Lot Area          0\n",
       "SalePrice         0\n",
       "dtype: int64"
      ]
     },
     "execution_count": 4,
     "metadata": {},
     "output_type": "execute_result"
    }
   ],
   "source": [
    "df_ames_lasso_cat_train.isna().sum()"
   ]
  },
  {
   "cell_type": "code",
   "execution_count": 5,
   "metadata": {},
   "outputs": [
    {
     "name": "stderr",
     "output_type": "stream",
     "text": [
      "C:\\Users\\sarah\\anaconda3\\lib\\site-packages\\pandas\\util\\_decorators.py:311: SettingWithCopyWarning: \n",
      "A value is trying to be set on a copy of a slice from a DataFrame\n",
      "\n",
      "See the caveats in the documentation: https://pandas.pydata.org/pandas-docs/stable/user_guide/indexing.html#returning-a-view-versus-a-copy\n",
      "  return func(*args, **kwargs)\n"
     ]
    }
   ],
   "source": [
    "#I am totally okay with dropping the rows with missing data\n",
    "df_ames_lasso_cat_train.dropna(inplace=True)"
   ]
  },
  {
   "cell_type": "code",
   "execution_count": 6,
   "metadata": {},
   "outputs": [
    {
     "data": {
      "text/plain": [
       "Overall Qual      0\n",
       "Gr Liv Area       0\n",
       "Garage Cars       0\n",
       "Total Bsmt SF     0\n",
       "1st Flr SF        0\n",
       "Year Built        0\n",
       "Year Remod/Add    0\n",
       "Full Bath         0\n",
       "TotRms AbvGrd     0\n",
       "Fireplaces        0\n",
       "BsmtFin SF 1      0\n",
       "Neighborhood      0\n",
       "Open Porch SF     0\n",
       "Wood Deck SF      0\n",
       "Lot Area          0\n",
       "SalePrice         0\n",
       "dtype: int64"
      ]
     },
     "execution_count": 6,
     "metadata": {},
     "output_type": "execute_result"
    }
   ],
   "source": [
    "df_ames_lasso_cat_train.isna().sum()"
   ]
  },
  {
   "cell_type": "code",
   "execution_count": 7,
   "metadata": {},
   "outputs": [],
   "source": [
    "\n",
    "X = df_ames_lasso_cat_train[['Overall Qual','Gr Liv Area', 'Garage Cars',\n",
    "'Total Bsmt SF', '1st Flr SF', 'Year Built', 'Year Remod/Add', 'Full Bath',\n",
    "'TotRms AbvGrd', 'Fireplaces', 'BsmtFin SF 1','Neighborhood',\n",
    "'Open Porch SF', 'Wood Deck SF', 'Lot Area']]\n",
    "y = df_ames_lasso_cat_train['SalePrice']\n",
    "    "
   ]
  },
  {
   "cell_type": "code",
   "execution_count": 8,
   "metadata": {},
   "outputs": [
    {
     "data": {
      "text/plain": [
       "(2049, 15)"
      ]
     },
     "execution_count": 8,
     "metadata": {},
     "output_type": "execute_result"
    }
   ],
   "source": [
    "X.shape"
   ]
  },
  {
   "cell_type": "code",
   "execution_count": 9,
   "metadata": {},
   "outputs": [
    {
     "data": {
      "text/plain": [
       "(2049,)"
      ]
     },
     "execution_count": 9,
     "metadata": {},
     "output_type": "execute_result"
    }
   ],
   "source": [
    "y.shape"
   ]
  },
  {
   "cell_type": "code",
   "execution_count": 10,
   "metadata": {},
   "outputs": [],
   "source": [
    "X_train, X_test, y_train, y_test = train_test_split(X, y)"
   ]
  },
  {
   "cell_type": "code",
   "execution_count": 11,
   "metadata": {},
   "outputs": [
    {
     "data": {
      "text/plain": [
       "Overall Qual        int64\n",
       "Gr Liv Area         int64\n",
       "Garage Cars       float64\n",
       "Total Bsmt SF     float64\n",
       "1st Flr SF          int64\n",
       "Year Built          int64\n",
       "Year Remod/Add      int64\n",
       "Full Bath           int64\n",
       "TotRms AbvGrd       int64\n",
       "Fireplaces          int64\n",
       "BsmtFin SF 1      float64\n",
       "Neighborhood       object\n",
       "Open Porch SF       int64\n",
       "Wood Deck SF        int64\n",
       "Lot Area            int64\n",
       "dtype: object"
      ]
     },
     "execution_count": 11,
     "metadata": {},
     "output_type": "execute_result"
    }
   ],
   "source": [
    "X_train.dtypes"
   ]
  },
  {
   "cell_type": "code",
   "execution_count": 12,
   "metadata": {},
   "outputs": [],
   "source": [
    "ct1 = make_column_transformer(\n",
    "    (OneHotEncoder(handle_unknown='ignore'), ['Neighborhood', 'Overall Qual']),\n",
    "    remainder='passthrough',\n",
    "     verbose_feature_names_out=False)\n"
   ]
  },
  {
   "cell_type": "code",
   "execution_count": 13,
   "metadata": {},
   "outputs": [],
   "source": [
    "pipe3 = make_pipeline(ct1, StandardScaler(), Lasso())"
   ]
  },
  {
   "cell_type": "code",
   "execution_count": 21,
   "metadata": {},
   "outputs": [],
   "source": [
    "params3 = {\n",
    "           'lasso__alpha': [.005,.01, 0.1, 1, 100, 200]}\n",
    "           #controls regularization"
   ]
  },
  {
   "cell_type": "code",
   "execution_count": 22,
   "metadata": {},
   "outputs": [],
   "source": [
    "gs3 = GridSearchCV(pipe3, params3, n_jobs=-1)"
   ]
  },
  {
   "cell_type": "code",
   "execution_count": 23,
   "metadata": {},
   "outputs": [
    {
     "data": {
      "text/plain": [
       "dict_keys(['memory', 'steps', 'verbose', 'columntransformer', 'standardscaler', 'lasso', 'columntransformer__n_jobs', 'columntransformer__remainder', 'columntransformer__sparse_threshold', 'columntransformer__transformer_weights', 'columntransformer__transformers', 'columntransformer__verbose', 'columntransformer__verbose_feature_names_out', 'columntransformer__onehotencoder', 'columntransformer__onehotencoder__categories', 'columntransformer__onehotencoder__drop', 'columntransformer__onehotencoder__dtype', 'columntransformer__onehotencoder__handle_unknown', 'columntransformer__onehotencoder__sparse', 'standardscaler__copy', 'standardscaler__with_mean', 'standardscaler__with_std', 'lasso__alpha', 'lasso__copy_X', 'lasso__fit_intercept', 'lasso__max_iter', 'lasso__normalize', 'lasso__positive', 'lasso__precompute', 'lasso__random_state', 'lasso__selection', 'lasso__tol', 'lasso__warm_start'])"
      ]
     },
     "execution_count": 23,
     "metadata": {},
     "output_type": "execute_result"
    }
   ],
   "source": [
    "pipe3.get_params().keys()"
   ]
  },
  {
   "cell_type": "code",
   "execution_count": 24,
   "metadata": {},
   "outputs": [
    {
     "data": {
      "text/plain": [
       "<bound method ColumnTransformer.get_feature_names_out of ColumnTransformer(remainder='passthrough',\n",
       "                  transformers=[('onehotencoder',\n",
       "                                 OneHotEncoder(handle_unknown='ignore'),\n",
       "                                 ['Neighborhood', 'Overall Qual'])],\n",
       "                  verbose_feature_names_out=False)>"
      ]
     },
     "execution_count": 24,
     "metadata": {},
     "output_type": "execute_result"
    }
   ],
   "source": [
    "ct1.get_feature_names_out\n",
    "\n"
   ]
  },
  {
   "cell_type": "code",
   "execution_count": 25,
   "metadata": {},
   "outputs": [
    {
     "data": {
      "text/html": [
       "<style>#sk-e2fc2bdb-41d7-489e-8260-e044294ab022 {color: black;background-color: white;}#sk-e2fc2bdb-41d7-489e-8260-e044294ab022 pre{padding: 0;}#sk-e2fc2bdb-41d7-489e-8260-e044294ab022 div.sk-toggleable {background-color: white;}#sk-e2fc2bdb-41d7-489e-8260-e044294ab022 label.sk-toggleable__label {cursor: pointer;display: block;width: 100%;margin-bottom: 0;padding: 0.3em;box-sizing: border-box;text-align: center;}#sk-e2fc2bdb-41d7-489e-8260-e044294ab022 label.sk-toggleable__label-arrow:before {content: \"▸\";float: left;margin-right: 0.25em;color: #696969;}#sk-e2fc2bdb-41d7-489e-8260-e044294ab022 label.sk-toggleable__label-arrow:hover:before {color: black;}#sk-e2fc2bdb-41d7-489e-8260-e044294ab022 div.sk-estimator:hover label.sk-toggleable__label-arrow:before {color: black;}#sk-e2fc2bdb-41d7-489e-8260-e044294ab022 div.sk-toggleable__content {max-height: 0;max-width: 0;overflow: hidden;text-align: left;background-color: #f0f8ff;}#sk-e2fc2bdb-41d7-489e-8260-e044294ab022 div.sk-toggleable__content pre {margin: 0.2em;color: black;border-radius: 0.25em;background-color: #f0f8ff;}#sk-e2fc2bdb-41d7-489e-8260-e044294ab022 input.sk-toggleable__control:checked~div.sk-toggleable__content {max-height: 200px;max-width: 100%;overflow: auto;}#sk-e2fc2bdb-41d7-489e-8260-e044294ab022 input.sk-toggleable__control:checked~label.sk-toggleable__label-arrow:before {content: \"▾\";}#sk-e2fc2bdb-41d7-489e-8260-e044294ab022 div.sk-estimator input.sk-toggleable__control:checked~label.sk-toggleable__label {background-color: #d4ebff;}#sk-e2fc2bdb-41d7-489e-8260-e044294ab022 div.sk-label input.sk-toggleable__control:checked~label.sk-toggleable__label {background-color: #d4ebff;}#sk-e2fc2bdb-41d7-489e-8260-e044294ab022 input.sk-hidden--visually {border: 0;clip: rect(1px 1px 1px 1px);clip: rect(1px, 1px, 1px, 1px);height: 1px;margin: -1px;overflow: hidden;padding: 0;position: absolute;width: 1px;}#sk-e2fc2bdb-41d7-489e-8260-e044294ab022 div.sk-estimator {font-family: monospace;background-color: #f0f8ff;border: 1px dotted black;border-radius: 0.25em;box-sizing: border-box;margin-bottom: 0.5em;}#sk-e2fc2bdb-41d7-489e-8260-e044294ab022 div.sk-estimator:hover {background-color: #d4ebff;}#sk-e2fc2bdb-41d7-489e-8260-e044294ab022 div.sk-parallel-item::after {content: \"\";width: 100%;border-bottom: 1px solid gray;flex-grow: 1;}#sk-e2fc2bdb-41d7-489e-8260-e044294ab022 div.sk-label:hover label.sk-toggleable__label {background-color: #d4ebff;}#sk-e2fc2bdb-41d7-489e-8260-e044294ab022 div.sk-serial::before {content: \"\";position: absolute;border-left: 1px solid gray;box-sizing: border-box;top: 2em;bottom: 0;left: 50%;}#sk-e2fc2bdb-41d7-489e-8260-e044294ab022 div.sk-serial {display: flex;flex-direction: column;align-items: center;background-color: white;padding-right: 0.2em;padding-left: 0.2em;}#sk-e2fc2bdb-41d7-489e-8260-e044294ab022 div.sk-item {z-index: 1;}#sk-e2fc2bdb-41d7-489e-8260-e044294ab022 div.sk-parallel {display: flex;align-items: stretch;justify-content: center;background-color: white;}#sk-e2fc2bdb-41d7-489e-8260-e044294ab022 div.sk-parallel::before {content: \"\";position: absolute;border-left: 1px solid gray;box-sizing: border-box;top: 2em;bottom: 0;left: 50%;}#sk-e2fc2bdb-41d7-489e-8260-e044294ab022 div.sk-parallel-item {display: flex;flex-direction: column;position: relative;background-color: white;}#sk-e2fc2bdb-41d7-489e-8260-e044294ab022 div.sk-parallel-item:first-child::after {align-self: flex-end;width: 50%;}#sk-e2fc2bdb-41d7-489e-8260-e044294ab022 div.sk-parallel-item:last-child::after {align-self: flex-start;width: 50%;}#sk-e2fc2bdb-41d7-489e-8260-e044294ab022 div.sk-parallel-item:only-child::after {width: 0;}#sk-e2fc2bdb-41d7-489e-8260-e044294ab022 div.sk-dashed-wrapped {border: 1px dashed gray;margin: 0 0.4em 0.5em 0.4em;box-sizing: border-box;padding-bottom: 0.4em;background-color: white;position: relative;}#sk-e2fc2bdb-41d7-489e-8260-e044294ab022 div.sk-label label {font-family: monospace;font-weight: bold;background-color: white;display: inline-block;line-height: 1.2em;}#sk-e2fc2bdb-41d7-489e-8260-e044294ab022 div.sk-label-container {position: relative;z-index: 2;text-align: center;}#sk-e2fc2bdb-41d7-489e-8260-e044294ab022 div.sk-container {/* jupyter's `normalize.less` sets `[hidden] { display: none; }` but bootstrap.min.css set `[hidden] { display: none !important; }` so we also need the `!important` here to be able to override the default hidden behavior on the sphinx rendered scikit-learn.org. See: https://github.com/scikit-learn/scikit-learn/issues/21755 */display: inline-block !important;position: relative;}#sk-e2fc2bdb-41d7-489e-8260-e044294ab022 div.sk-text-repr-fallback {display: none;}</style><div id=\"sk-e2fc2bdb-41d7-489e-8260-e044294ab022\" class=\"sk-top-container\"><div class=\"sk-text-repr-fallback\"><pre>GridSearchCV(estimator=Pipeline(steps=[(&#x27;columntransformer&#x27;,\n",
       "                                        ColumnTransformer(remainder=&#x27;passthrough&#x27;,\n",
       "                                                          transformers=[(&#x27;onehotencoder&#x27;,\n",
       "                                                                         OneHotEncoder(handle_unknown=&#x27;ignore&#x27;),\n",
       "                                                                         [&#x27;Neighborhood&#x27;,\n",
       "                                                                          &#x27;Overall &#x27;\n",
       "                                                                          &#x27;Qual&#x27;])],\n",
       "                                                          verbose_feature_names_out=False)),\n",
       "                                       (&#x27;standardscaler&#x27;, StandardScaler()),\n",
       "                                       (&#x27;lasso&#x27;, Lasso())]),\n",
       "             n_jobs=-1,\n",
       "             param_grid={&#x27;lasso__alpha&#x27;: [0.005, 0.01, 0.1, 1, 100, 200]})</pre><b>Please rerun this cell to show the HTML repr or trust the notebook.</b></div><div class=\"sk-container\" hidden><div class=\"sk-item sk-dashed-wrapped\"><div class=\"sk-label-container\"><div class=\"sk-label sk-toggleable\"><input class=\"sk-toggleable__control sk-hidden--visually\" id=\"df791196-1fd8-439b-9b04-b620b8b221b4\" type=\"checkbox\" ><label for=\"df791196-1fd8-439b-9b04-b620b8b221b4\" class=\"sk-toggleable__label sk-toggleable__label-arrow\">GridSearchCV</label><div class=\"sk-toggleable__content\"><pre>GridSearchCV(estimator=Pipeline(steps=[(&#x27;columntransformer&#x27;,\n",
       "                                        ColumnTransformer(remainder=&#x27;passthrough&#x27;,\n",
       "                                                          transformers=[(&#x27;onehotencoder&#x27;,\n",
       "                                                                         OneHotEncoder(handle_unknown=&#x27;ignore&#x27;),\n",
       "                                                                         [&#x27;Neighborhood&#x27;,\n",
       "                                                                          &#x27;Overall &#x27;\n",
       "                                                                          &#x27;Qual&#x27;])],\n",
       "                                                          verbose_feature_names_out=False)),\n",
       "                                       (&#x27;standardscaler&#x27;, StandardScaler()),\n",
       "                                       (&#x27;lasso&#x27;, Lasso())]),\n",
       "             n_jobs=-1,\n",
       "             param_grid={&#x27;lasso__alpha&#x27;: [0.005, 0.01, 0.1, 1, 100, 200]})</pre></div></div></div><div class=\"sk-parallel\"><div class=\"sk-parallel-item\"><div class=\"sk-item\"><div class=\"sk-serial\"><div class=\"sk-item\"><div class=\"sk-serial\"><div class=\"sk-item sk-dashed-wrapped\"><div class=\"sk-label-container\"><div class=\"sk-label sk-toggleable\"><input class=\"sk-toggleable__control sk-hidden--visually\" id=\"7aa16212-c557-42e3-8f29-7e8423310cde\" type=\"checkbox\" ><label for=\"7aa16212-c557-42e3-8f29-7e8423310cde\" class=\"sk-toggleable__label sk-toggleable__label-arrow\">columntransformer: ColumnTransformer</label><div class=\"sk-toggleable__content\"><pre>ColumnTransformer(remainder=&#x27;passthrough&#x27;,\n",
       "                  transformers=[(&#x27;onehotencoder&#x27;,\n",
       "                                 OneHotEncoder(handle_unknown=&#x27;ignore&#x27;),\n",
       "                                 [&#x27;Neighborhood&#x27;, &#x27;Overall Qual&#x27;])],\n",
       "                  verbose_feature_names_out=False)</pre></div></div></div><div class=\"sk-parallel\"><div class=\"sk-parallel-item\"><div class=\"sk-item\"><div class=\"sk-label-container\"><div class=\"sk-label sk-toggleable\"><input class=\"sk-toggleable__control sk-hidden--visually\" id=\"44c2050a-d7b1-437a-a3c7-8be58cb36588\" type=\"checkbox\" ><label for=\"44c2050a-d7b1-437a-a3c7-8be58cb36588\" class=\"sk-toggleable__label sk-toggleable__label-arrow\">onehotencoder</label><div class=\"sk-toggleable__content\"><pre>[&#x27;Neighborhood&#x27;, &#x27;Overall Qual&#x27;]</pre></div></div></div><div class=\"sk-serial\"><div class=\"sk-item\"><div class=\"sk-estimator sk-toggleable\"><input class=\"sk-toggleable__control sk-hidden--visually\" id=\"40d10044-4793-4859-aa63-45323ed0cf76\" type=\"checkbox\" ><label for=\"40d10044-4793-4859-aa63-45323ed0cf76\" class=\"sk-toggleable__label sk-toggleable__label-arrow\">OneHotEncoder</label><div class=\"sk-toggleable__content\"><pre>OneHotEncoder(handle_unknown=&#x27;ignore&#x27;)</pre></div></div></div></div></div></div><div class=\"sk-parallel-item\"><div class=\"sk-item\"><div class=\"sk-label-container\"><div class=\"sk-label sk-toggleable\"><input class=\"sk-toggleable__control sk-hidden--visually\" id=\"3a9742e6-b966-4258-be29-e08bad8cedcc\" type=\"checkbox\" ><label for=\"3a9742e6-b966-4258-be29-e08bad8cedcc\" class=\"sk-toggleable__label sk-toggleable__label-arrow\">remainder</label><div class=\"sk-toggleable__content\"><pre></pre></div></div></div><div class=\"sk-serial\"><div class=\"sk-item\"><div class=\"sk-estimator sk-toggleable\"><input class=\"sk-toggleable__control sk-hidden--visually\" id=\"594263c3-6644-4fa0-8287-26681e0f8af9\" type=\"checkbox\" ><label for=\"594263c3-6644-4fa0-8287-26681e0f8af9\" class=\"sk-toggleable__label sk-toggleable__label-arrow\">passthrough</label><div class=\"sk-toggleable__content\"><pre>passthrough</pre></div></div></div></div></div></div></div></div><div class=\"sk-item\"><div class=\"sk-estimator sk-toggleable\"><input class=\"sk-toggleable__control sk-hidden--visually\" id=\"552a2620-3f4f-4d46-ba4a-382120380121\" type=\"checkbox\" ><label for=\"552a2620-3f4f-4d46-ba4a-382120380121\" class=\"sk-toggleable__label sk-toggleable__label-arrow\">StandardScaler</label><div class=\"sk-toggleable__content\"><pre>StandardScaler()</pre></div></div></div><div class=\"sk-item\"><div class=\"sk-estimator sk-toggleable\"><input class=\"sk-toggleable__control sk-hidden--visually\" id=\"7eb7952a-1922-48fa-927b-a301ab4cad62\" type=\"checkbox\" ><label for=\"7eb7952a-1922-48fa-927b-a301ab4cad62\" class=\"sk-toggleable__label sk-toggleable__label-arrow\">Lasso</label><div class=\"sk-toggleable__content\"><pre>Lasso()</pre></div></div></div></div></div></div></div></div></div></div></div></div>"
      ],
      "text/plain": [
       "GridSearchCV(estimator=Pipeline(steps=[('columntransformer',\n",
       "                                        ColumnTransformer(remainder='passthrough',\n",
       "                                                          transformers=[('onehotencoder',\n",
       "                                                                         OneHotEncoder(handle_unknown='ignore'),\n",
       "                                                                         ['Neighborhood',\n",
       "                                                                          'Overall '\n",
       "                                                                          'Qual'])],\n",
       "                                                          verbose_feature_names_out=False)),\n",
       "                                       ('standardscaler', StandardScaler()),\n",
       "                                       ('lasso', Lasso())]),\n",
       "             n_jobs=-1,\n",
       "             param_grid={'lasso__alpha': [0.005, 0.01, 0.1, 1, 100, 200]})"
      ]
     },
     "execution_count": 25,
     "metadata": {},
     "output_type": "execute_result"
    }
   ],
   "source": [
    "gs3.fit(X_train, y_train)"
   ]
  },
  {
   "cell_type": "code",
   "execution_count": 26,
   "metadata": {},
   "outputs": [
    {
     "data": {
      "text/html": [
       "<div>\n",
       "<style scoped>\n",
       "    .dataframe tbody tr th:only-of-type {\n",
       "        vertical-align: middle;\n",
       "    }\n",
       "\n",
       "    .dataframe tbody tr th {\n",
       "        vertical-align: top;\n",
       "    }\n",
       "\n",
       "    .dataframe thead th {\n",
       "        text-align: right;\n",
       "    }\n",
       "</style>\n",
       "<table border=\"1\" class=\"dataframe\">\n",
       "  <thead>\n",
       "    <tr style=\"text-align: right;\">\n",
       "      <th></th>\n",
       "      <th>mean_fit_time</th>\n",
       "      <th>std_fit_time</th>\n",
       "      <th>mean_score_time</th>\n",
       "      <th>std_score_time</th>\n",
       "      <th>param_lasso__alpha</th>\n",
       "      <th>params</th>\n",
       "      <th>split0_test_score</th>\n",
       "      <th>split1_test_score</th>\n",
       "      <th>split2_test_score</th>\n",
       "      <th>split3_test_score</th>\n",
       "      <th>split4_test_score</th>\n",
       "      <th>mean_test_score</th>\n",
       "      <th>std_test_score</th>\n",
       "      <th>rank_test_score</th>\n",
       "    </tr>\n",
       "  </thead>\n",
       "  <tbody>\n",
       "    <tr>\n",
       "      <th>0</th>\n",
       "      <td>0.075816</td>\n",
       "      <td>0.003970</td>\n",
       "      <td>0.004001</td>\n",
       "      <td>0.000633</td>\n",
       "      <td>0.005</td>\n",
       "      <td>{'lasso__alpha': 0.005}</td>\n",
       "      <td>0.770184</td>\n",
       "      <td>0.889776</td>\n",
       "      <td>0.736887</td>\n",
       "      <td>0.889030</td>\n",
       "      <td>0.880815</td>\n",
       "      <td>0.833338</td>\n",
       "      <td>0.066079</td>\n",
       "      <td>2</td>\n",
       "    </tr>\n",
       "    <tr>\n",
       "      <th>1</th>\n",
       "      <td>0.068415</td>\n",
       "      <td>0.003383</td>\n",
       "      <td>0.003801</td>\n",
       "      <td>0.000748</td>\n",
       "      <td>0.01</td>\n",
       "      <td>{'lasso__alpha': 0.01}</td>\n",
       "      <td>0.770179</td>\n",
       "      <td>0.889776</td>\n",
       "      <td>0.736887</td>\n",
       "      <td>0.889031</td>\n",
       "      <td>0.880816</td>\n",
       "      <td>0.833338</td>\n",
       "      <td>0.066080</td>\n",
       "      <td>3</td>\n",
       "    </tr>\n",
       "    <tr>\n",
       "      <th>2</th>\n",
       "      <td>0.071614</td>\n",
       "      <td>0.010173</td>\n",
       "      <td>0.003201</td>\n",
       "      <td>0.000400</td>\n",
       "      <td>0.1</td>\n",
       "      <td>{'lasso__alpha': 0.1}</td>\n",
       "      <td>0.770094</td>\n",
       "      <td>0.889776</td>\n",
       "      <td>0.736887</td>\n",
       "      <td>0.889036</td>\n",
       "      <td>0.880827</td>\n",
       "      <td>0.833324</td>\n",
       "      <td>0.066099</td>\n",
       "      <td>5</td>\n",
       "    </tr>\n",
       "    <tr>\n",
       "      <th>3</th>\n",
       "      <td>0.066215</td>\n",
       "      <td>0.005531</td>\n",
       "      <td>0.004401</td>\n",
       "      <td>0.001019</td>\n",
       "      <td>1</td>\n",
       "      <td>{'lasso__alpha': 1}</td>\n",
       "      <td>0.769465</td>\n",
       "      <td>0.889779</td>\n",
       "      <td>0.736890</td>\n",
       "      <td>0.889079</td>\n",
       "      <td>0.880911</td>\n",
       "      <td>0.833225</td>\n",
       "      <td>0.066239</td>\n",
       "      <td>6</td>\n",
       "    </tr>\n",
       "    <tr>\n",
       "      <th>4</th>\n",
       "      <td>0.017004</td>\n",
       "      <td>0.001790</td>\n",
       "      <td>0.004002</td>\n",
       "      <td>0.000896</td>\n",
       "      <td>100</td>\n",
       "      <td>{'lasso__alpha': 100}</td>\n",
       "      <td>0.768045</td>\n",
       "      <td>0.890206</td>\n",
       "      <td>0.736817</td>\n",
       "      <td>0.889703</td>\n",
       "      <td>0.881865</td>\n",
       "      <td>0.833327</td>\n",
       "      <td>0.066851</td>\n",
       "      <td>4</td>\n",
       "    </tr>\n",
       "    <tr>\n",
       "      <th>5</th>\n",
       "      <td>0.011602</td>\n",
       "      <td>0.000800</td>\n",
       "      <td>0.003201</td>\n",
       "      <td>0.000401</td>\n",
       "      <td>200</td>\n",
       "      <td>{'lasso__alpha': 200}</td>\n",
       "      <td>0.767630</td>\n",
       "      <td>0.890531</td>\n",
       "      <td>0.736725</td>\n",
       "      <td>0.890020</td>\n",
       "      <td>0.882436</td>\n",
       "      <td>0.833469</td>\n",
       "      <td>0.067151</td>\n",
       "      <td>1</td>\n",
       "    </tr>\n",
       "  </tbody>\n",
       "</table>\n",
       "</div>"
      ],
      "text/plain": [
       "   mean_fit_time  std_fit_time  mean_score_time  std_score_time  \\\n",
       "0       0.075816      0.003970         0.004001        0.000633   \n",
       "1       0.068415      0.003383         0.003801        0.000748   \n",
       "2       0.071614      0.010173         0.003201        0.000400   \n",
       "3       0.066215      0.005531         0.004401        0.001019   \n",
       "4       0.017004      0.001790         0.004002        0.000896   \n",
       "5       0.011602      0.000800         0.003201        0.000401   \n",
       "\n",
       "  param_lasso__alpha                   params  split0_test_score  \\\n",
       "0              0.005  {'lasso__alpha': 0.005}           0.770184   \n",
       "1               0.01   {'lasso__alpha': 0.01}           0.770179   \n",
       "2                0.1    {'lasso__alpha': 0.1}           0.770094   \n",
       "3                  1      {'lasso__alpha': 1}           0.769465   \n",
       "4                100    {'lasso__alpha': 100}           0.768045   \n",
       "5                200    {'lasso__alpha': 200}           0.767630   \n",
       "\n",
       "   split1_test_score  split2_test_score  split3_test_score  split4_test_score  \\\n",
       "0           0.889776           0.736887           0.889030           0.880815   \n",
       "1           0.889776           0.736887           0.889031           0.880816   \n",
       "2           0.889776           0.736887           0.889036           0.880827   \n",
       "3           0.889779           0.736890           0.889079           0.880911   \n",
       "4           0.890206           0.736817           0.889703           0.881865   \n",
       "5           0.890531           0.736725           0.890020           0.882436   \n",
       "\n",
       "   mean_test_score  std_test_score  rank_test_score  \n",
       "0         0.833338        0.066079                2  \n",
       "1         0.833338        0.066080                3  \n",
       "2         0.833324        0.066099                5  \n",
       "3         0.833225        0.066239                6  \n",
       "4         0.833327        0.066851                4  \n",
       "5         0.833469        0.067151                1  "
      ]
     },
     "execution_count": 26,
     "metadata": {},
     "output_type": "execute_result"
    }
   ],
   "source": [
    "pd.DataFrame(gs3.cv_results_)"
   ]
  },
  {
   "cell_type": "code",
   "execution_count": 27,
   "metadata": {},
   "outputs": [
    {
     "data": {
      "text/plain": [
       "{'lasso__alpha': 200}"
      ]
     },
     "execution_count": 27,
     "metadata": {},
     "output_type": "execute_result"
    }
   ],
   "source": [
    "gs3.best_params_"
   ]
  },
  {
   "cell_type": "code",
   "execution_count": 28,
   "metadata": {},
   "outputs": [
    {
     "data": {
      "text/plain": [
       "{'columntransformer': ColumnTransformer(remainder='passthrough',\n",
       "                   transformers=[('onehotencoder',\n",
       "                                  OneHotEncoder(handle_unknown='ignore'),\n",
       "                                  ['Neighborhood', 'Overall Qual'])],\n",
       "                   verbose_feature_names_out=False),\n",
       " 'standardscaler': StandardScaler(),\n",
       " 'lasso': Lasso(alpha=200)}"
      ]
     },
     "execution_count": 28,
     "metadata": {},
     "output_type": "execute_result"
    }
   ],
   "source": [
    "gs3.best_estimator_.named_steps"
   ]
  },
  {
   "cell_type": "code",
   "execution_count": 29,
   "metadata": {},
   "outputs": [
    {
     "data": {
      "text/plain": [
       "array(['x0', 'x1', 'x2', 'x3', 'x4', 'x5', 'x6', 'x7', 'x8', 'x9', 'x10',\n",
       "       'x11', 'x12', 'x13', 'x14', 'x15', 'x16', 'x17', 'x18', 'x19',\n",
       "       'x20', 'x21', 'x22', 'x23', 'x24', 'x25', 'x26', 'x27', 'x28',\n",
       "       'x29', 'x30', 'x31', 'x32', 'x33', 'x34', 'x35', 'x36', 'x37',\n",
       "       'x38', 'x39', 'x40', 'x41', 'x42', 'x43', 'x44', 'x45', 'x46',\n",
       "       'x47', 'x48', 'x49'], dtype=object)"
      ]
     },
     "execution_count": 29,
     "metadata": {},
     "output_type": "execute_result"
    }
   ],
   "source": [
    "gs3.best_estimator_.named_steps['standardscaler'].get_feature_names_out()"
   ]
  },
  {
   "cell_type": "code",
   "execution_count": 31,
   "metadata": {},
   "outputs": [
    {
     "data": {
      "text/plain": [
       "0.8334685184492001"
      ]
     },
     "execution_count": 31,
     "metadata": {},
     "output_type": "execute_result"
    }
   ],
   "source": [
    "gs3.best_score_"
   ]
  },
  {
   "cell_type": "code",
   "execution_count": 32,
   "metadata": {},
   "outputs": [
    {
     "data": {
      "text/plain": [
       "array(['Neighborhood_Blmngtn', 'Neighborhood_Blueste',\n",
       "       'Neighborhood_BrDale', 'Neighborhood_BrkSide',\n",
       "       'Neighborhood_ClearCr', 'Neighborhood_CollgCr',\n",
       "       'Neighborhood_Crawfor', 'Neighborhood_Edwards',\n",
       "       'Neighborhood_Gilbert', 'Neighborhood_Greens',\n",
       "       'Neighborhood_GrnHill', 'Neighborhood_IDOTRR',\n",
       "       'Neighborhood_Landmrk', 'Neighborhood_MeadowV',\n",
       "       'Neighborhood_Mitchel', 'Neighborhood_NAmes',\n",
       "       'Neighborhood_NPkVill', 'Neighborhood_NWAmes',\n",
       "       'Neighborhood_NoRidge', 'Neighborhood_NridgHt',\n",
       "       'Neighborhood_OldTown', 'Neighborhood_SWISU',\n",
       "       'Neighborhood_Sawyer', 'Neighborhood_SawyerW',\n",
       "       'Neighborhood_Somerst', 'Neighborhood_StoneBr',\n",
       "       'Neighborhood_Timber', 'Neighborhood_Veenker', 'Overall Qual_2',\n",
       "       'Overall Qual_3', 'Overall Qual_4', 'Overall Qual_5',\n",
       "       'Overall Qual_6', 'Overall Qual_7', 'Overall Qual_8',\n",
       "       'Overall Qual_9', 'Overall Qual_10', 'Gr Liv Area', 'Garage Cars',\n",
       "       'Total Bsmt SF', '1st Flr SF', 'Year Built', 'Year Remod/Add',\n",
       "       'Full Bath', 'TotRms AbvGrd', 'Fireplaces', 'BsmtFin SF 1',\n",
       "       'Open Porch SF', 'Wood Deck SF', 'Lot Area'], dtype=object)"
      ]
     },
     "execution_count": 32,
     "metadata": {},
     "output_type": "execute_result"
    }
   ],
   "source": [
    "cols_g3 = gs3.best_estimator_.named_steps.get('columntransformer').get_feature_names_out()\n",
    "cols_g3"
   ]
  },
  {
   "cell_type": "code",
   "execution_count": 33,
   "metadata": {},
   "outputs": [
    {
     "data": {
      "text/plain": [
       "array([ -423.80418376, -1322.91225114, -1611.81174875,   142.72058939,\n",
       "        1196.44027196,  1302.21027901,  3807.04991813, -3697.0475843 ,\n",
       "        -830.97375256,  -127.38716272,  3768.96771558, -1481.60650246,\n",
       "        -329.04341452, -2087.77085149,   -34.41876093,     0.        ,\n",
       "       -1369.51829108,     0.        ,  6076.63712544,  9608.19956065,\n",
       "       -1968.7072039 , -1049.22383   ,  -742.84026707,     0.        ,\n",
       "        2021.2953614 ,  8084.65968105,  1694.24777986,     0.        ,\n",
       "       -1653.69190121, -2802.48655618, -3406.93966433, -2899.93406147,\n",
       "          -0.        ,  4871.15213514, 13009.22042197, 21212.3957285 ,\n",
       "       13035.23473763, 16738.80171789,  7907.16339431,  3405.24320493,\n",
       "           0.        ,  5297.65253263,  7152.5922589 ,  2823.2961296 ,\n",
       "        1290.78940107,  5747.92544771,  5710.43788898,   266.87060308,\n",
       "        2175.68852018,  5009.58045146])"
      ]
     },
     "execution_count": 33,
     "metadata": {},
     "output_type": "execute_result"
    }
   ],
   "source": [
    "gs3.best_estimator_.named_steps['lasso'].coef_"
   ]
  },
  {
   "cell_type": "code",
   "execution_count": 35,
   "metadata": {},
   "outputs": [
    {
     "data": {
      "text/html": [
       "<div>\n",
       "<style scoped>\n",
       "    .dataframe tbody tr th:only-of-type {\n",
       "        vertical-align: middle;\n",
       "    }\n",
       "\n",
       "    .dataframe tbody tr th {\n",
       "        vertical-align: top;\n",
       "    }\n",
       "\n",
       "    .dataframe thead th {\n",
       "        text-align: right;\n",
       "    }\n",
       "</style>\n",
       "<table border=\"1\" class=\"dataframe\">\n",
       "  <thead>\n",
       "    <tr style=\"text-align: right;\">\n",
       "      <th></th>\n",
       "      <th>0</th>\n",
       "      <th>1</th>\n",
       "    </tr>\n",
       "  </thead>\n",
       "  <tbody>\n",
       "    <tr>\n",
       "      <th>0</th>\n",
       "      <td>Neighborhood_Blmngtn</td>\n",
       "      <td>-423.804184</td>\n",
       "    </tr>\n",
       "    <tr>\n",
       "      <th>1</th>\n",
       "      <td>Neighborhood_Blueste</td>\n",
       "      <td>-1322.912251</td>\n",
       "    </tr>\n",
       "    <tr>\n",
       "      <th>2</th>\n",
       "      <td>Neighborhood_BrDale</td>\n",
       "      <td>-1611.811749</td>\n",
       "    </tr>\n",
       "    <tr>\n",
       "      <th>3</th>\n",
       "      <td>Neighborhood_BrkSide</td>\n",
       "      <td>142.720589</td>\n",
       "    </tr>\n",
       "    <tr>\n",
       "      <th>4</th>\n",
       "      <td>Neighborhood_ClearCr</td>\n",
       "      <td>1196.440272</td>\n",
       "    </tr>\n",
       "    <tr>\n",
       "      <th>5</th>\n",
       "      <td>Neighborhood_CollgCr</td>\n",
       "      <td>1302.210279</td>\n",
       "    </tr>\n",
       "    <tr>\n",
       "      <th>6</th>\n",
       "      <td>Neighborhood_Crawfor</td>\n",
       "      <td>3807.049918</td>\n",
       "    </tr>\n",
       "    <tr>\n",
       "      <th>7</th>\n",
       "      <td>Neighborhood_Edwards</td>\n",
       "      <td>-3697.047584</td>\n",
       "    </tr>\n",
       "    <tr>\n",
       "      <th>8</th>\n",
       "      <td>Neighborhood_Gilbert</td>\n",
       "      <td>-830.973753</td>\n",
       "    </tr>\n",
       "    <tr>\n",
       "      <th>9</th>\n",
       "      <td>Neighborhood_Greens</td>\n",
       "      <td>-127.387163</td>\n",
       "    </tr>\n",
       "    <tr>\n",
       "      <th>10</th>\n",
       "      <td>Neighborhood_GrnHill</td>\n",
       "      <td>3768.967716</td>\n",
       "    </tr>\n",
       "    <tr>\n",
       "      <th>11</th>\n",
       "      <td>Neighborhood_IDOTRR</td>\n",
       "      <td>-1481.606502</td>\n",
       "    </tr>\n",
       "    <tr>\n",
       "      <th>12</th>\n",
       "      <td>Neighborhood_Landmrk</td>\n",
       "      <td>-329.043415</td>\n",
       "    </tr>\n",
       "    <tr>\n",
       "      <th>13</th>\n",
       "      <td>Neighborhood_MeadowV</td>\n",
       "      <td>-2087.770851</td>\n",
       "    </tr>\n",
       "    <tr>\n",
       "      <th>14</th>\n",
       "      <td>Neighborhood_Mitchel</td>\n",
       "      <td>-34.418761</td>\n",
       "    </tr>\n",
       "    <tr>\n",
       "      <th>15</th>\n",
       "      <td>Neighborhood_NAmes</td>\n",
       "      <td>0.000000</td>\n",
       "    </tr>\n",
       "    <tr>\n",
       "      <th>16</th>\n",
       "      <td>Neighborhood_NPkVill</td>\n",
       "      <td>-1369.518291</td>\n",
       "    </tr>\n",
       "    <tr>\n",
       "      <th>17</th>\n",
       "      <td>Neighborhood_NWAmes</td>\n",
       "      <td>0.000000</td>\n",
       "    </tr>\n",
       "    <tr>\n",
       "      <th>18</th>\n",
       "      <td>Neighborhood_NoRidge</td>\n",
       "      <td>6076.637125</td>\n",
       "    </tr>\n",
       "    <tr>\n",
       "      <th>19</th>\n",
       "      <td>Neighborhood_NridgHt</td>\n",
       "      <td>9608.199561</td>\n",
       "    </tr>\n",
       "    <tr>\n",
       "      <th>20</th>\n",
       "      <td>Neighborhood_OldTown</td>\n",
       "      <td>-1968.707204</td>\n",
       "    </tr>\n",
       "    <tr>\n",
       "      <th>21</th>\n",
       "      <td>Neighborhood_SWISU</td>\n",
       "      <td>-1049.223830</td>\n",
       "    </tr>\n",
       "    <tr>\n",
       "      <th>22</th>\n",
       "      <td>Neighborhood_Sawyer</td>\n",
       "      <td>-742.840267</td>\n",
       "    </tr>\n",
       "    <tr>\n",
       "      <th>23</th>\n",
       "      <td>Neighborhood_SawyerW</td>\n",
       "      <td>0.000000</td>\n",
       "    </tr>\n",
       "    <tr>\n",
       "      <th>24</th>\n",
       "      <td>Neighborhood_Somerst</td>\n",
       "      <td>2021.295361</td>\n",
       "    </tr>\n",
       "    <tr>\n",
       "      <th>25</th>\n",
       "      <td>Neighborhood_StoneBr</td>\n",
       "      <td>8084.659681</td>\n",
       "    </tr>\n",
       "    <tr>\n",
       "      <th>26</th>\n",
       "      <td>Neighborhood_Timber</td>\n",
       "      <td>1694.247780</td>\n",
       "    </tr>\n",
       "    <tr>\n",
       "      <th>27</th>\n",
       "      <td>Neighborhood_Veenker</td>\n",
       "      <td>0.000000</td>\n",
       "    </tr>\n",
       "    <tr>\n",
       "      <th>28</th>\n",
       "      <td>Overall Qual_2</td>\n",
       "      <td>-1653.691901</td>\n",
       "    </tr>\n",
       "    <tr>\n",
       "      <th>29</th>\n",
       "      <td>Overall Qual_3</td>\n",
       "      <td>-2802.486556</td>\n",
       "    </tr>\n",
       "    <tr>\n",
       "      <th>30</th>\n",
       "      <td>Overall Qual_4</td>\n",
       "      <td>-3406.939664</td>\n",
       "    </tr>\n",
       "    <tr>\n",
       "      <th>31</th>\n",
       "      <td>Overall Qual_5</td>\n",
       "      <td>-2899.934061</td>\n",
       "    </tr>\n",
       "    <tr>\n",
       "      <th>32</th>\n",
       "      <td>Overall Qual_6</td>\n",
       "      <td>-0.000000</td>\n",
       "    </tr>\n",
       "    <tr>\n",
       "      <th>33</th>\n",
       "      <td>Overall Qual_7</td>\n",
       "      <td>4871.152135</td>\n",
       "    </tr>\n",
       "    <tr>\n",
       "      <th>34</th>\n",
       "      <td>Overall Qual_8</td>\n",
       "      <td>13009.220422</td>\n",
       "    </tr>\n",
       "    <tr>\n",
       "      <th>35</th>\n",
       "      <td>Overall Qual_9</td>\n",
       "      <td>21212.395728</td>\n",
       "    </tr>\n",
       "    <tr>\n",
       "      <th>36</th>\n",
       "      <td>Overall Qual_10</td>\n",
       "      <td>13035.234738</td>\n",
       "    </tr>\n",
       "    <tr>\n",
       "      <th>37</th>\n",
       "      <td>Gr Liv Area</td>\n",
       "      <td>16738.801718</td>\n",
       "    </tr>\n",
       "    <tr>\n",
       "      <th>38</th>\n",
       "      <td>Garage Cars</td>\n",
       "      <td>7907.163394</td>\n",
       "    </tr>\n",
       "    <tr>\n",
       "      <th>39</th>\n",
       "      <td>Total Bsmt SF</td>\n",
       "      <td>3405.243205</td>\n",
       "    </tr>\n",
       "    <tr>\n",
       "      <th>40</th>\n",
       "      <td>1st Flr SF</td>\n",
       "      <td>0.000000</td>\n",
       "    </tr>\n",
       "    <tr>\n",
       "      <th>41</th>\n",
       "      <td>Year Built</td>\n",
       "      <td>5297.652533</td>\n",
       "    </tr>\n",
       "    <tr>\n",
       "      <th>42</th>\n",
       "      <td>Year Remod/Add</td>\n",
       "      <td>7152.592259</td>\n",
       "    </tr>\n",
       "    <tr>\n",
       "      <th>43</th>\n",
       "      <td>Full Bath</td>\n",
       "      <td>2823.296130</td>\n",
       "    </tr>\n",
       "    <tr>\n",
       "      <th>44</th>\n",
       "      <td>TotRms AbvGrd</td>\n",
       "      <td>1290.789401</td>\n",
       "    </tr>\n",
       "    <tr>\n",
       "      <th>45</th>\n",
       "      <td>Fireplaces</td>\n",
       "      <td>5747.925448</td>\n",
       "    </tr>\n",
       "    <tr>\n",
       "      <th>46</th>\n",
       "      <td>BsmtFin SF 1</td>\n",
       "      <td>5710.437889</td>\n",
       "    </tr>\n",
       "    <tr>\n",
       "      <th>47</th>\n",
       "      <td>Open Porch SF</td>\n",
       "      <td>266.870603</td>\n",
       "    </tr>\n",
       "    <tr>\n",
       "      <th>48</th>\n",
       "      <td>Wood Deck SF</td>\n",
       "      <td>2175.688520</td>\n",
       "    </tr>\n",
       "    <tr>\n",
       "      <th>49</th>\n",
       "      <td>Lot Area</td>\n",
       "      <td>5009.580451</td>\n",
       "    </tr>\n",
       "  </tbody>\n",
       "</table>\n",
       "</div>"
      ],
      "text/plain": [
       "                       0             1\n",
       "0   Neighborhood_Blmngtn   -423.804184\n",
       "1   Neighborhood_Blueste  -1322.912251\n",
       "2    Neighborhood_BrDale  -1611.811749\n",
       "3   Neighborhood_BrkSide    142.720589\n",
       "4   Neighborhood_ClearCr   1196.440272\n",
       "5   Neighborhood_CollgCr   1302.210279\n",
       "6   Neighborhood_Crawfor   3807.049918\n",
       "7   Neighborhood_Edwards  -3697.047584\n",
       "8   Neighborhood_Gilbert   -830.973753\n",
       "9    Neighborhood_Greens   -127.387163\n",
       "10  Neighborhood_GrnHill   3768.967716\n",
       "11   Neighborhood_IDOTRR  -1481.606502\n",
       "12  Neighborhood_Landmrk   -329.043415\n",
       "13  Neighborhood_MeadowV  -2087.770851\n",
       "14  Neighborhood_Mitchel    -34.418761\n",
       "15    Neighborhood_NAmes      0.000000\n",
       "16  Neighborhood_NPkVill  -1369.518291\n",
       "17   Neighborhood_NWAmes      0.000000\n",
       "18  Neighborhood_NoRidge   6076.637125\n",
       "19  Neighborhood_NridgHt   9608.199561\n",
       "20  Neighborhood_OldTown  -1968.707204\n",
       "21    Neighborhood_SWISU  -1049.223830\n",
       "22   Neighborhood_Sawyer   -742.840267\n",
       "23  Neighborhood_SawyerW      0.000000\n",
       "24  Neighborhood_Somerst   2021.295361\n",
       "25  Neighborhood_StoneBr   8084.659681\n",
       "26   Neighborhood_Timber   1694.247780\n",
       "27  Neighborhood_Veenker      0.000000\n",
       "28        Overall Qual_2  -1653.691901\n",
       "29        Overall Qual_3  -2802.486556\n",
       "30        Overall Qual_4  -3406.939664\n",
       "31        Overall Qual_5  -2899.934061\n",
       "32        Overall Qual_6     -0.000000\n",
       "33        Overall Qual_7   4871.152135\n",
       "34        Overall Qual_8  13009.220422\n",
       "35        Overall Qual_9  21212.395728\n",
       "36       Overall Qual_10  13035.234738\n",
       "37           Gr Liv Area  16738.801718\n",
       "38           Garage Cars   7907.163394\n",
       "39         Total Bsmt SF   3405.243205\n",
       "40            1st Flr SF      0.000000\n",
       "41            Year Built   5297.652533\n",
       "42        Year Remod/Add   7152.592259\n",
       "43             Full Bath   2823.296130\n",
       "44         TotRms AbvGrd   1290.789401\n",
       "45            Fireplaces   5747.925448\n",
       "46          BsmtFin SF 1   5710.437889\n",
       "47         Open Porch SF    266.870603\n",
       "48          Wood Deck SF   2175.688520\n",
       "49              Lot Area   5009.580451"
      ]
     },
     "execution_count": 35,
     "metadata": {},
     "output_type": "execute_result"
    }
   ],
   "source": [
    "pd.DataFrame(zip(cols_g3, \n",
    "gs3.best_estimator_.named_steps['lasso'].coef_))"
   ]
  },
  {
   "cell_type": "code",
   "execution_count": 36,
   "metadata": {},
   "outputs": [
    {
     "data": {
      "text/plain": [
       "183601.61002604166"
      ]
     },
     "execution_count": 36,
     "metadata": {},
     "output_type": "execute_result"
    }
   ],
   "source": [
    "gs3.best_estimator_.named_steps['lasso'].intercept_"
   ]
  },
  {
   "cell_type": "code",
   "execution_count": 37,
   "metadata": {},
   "outputs": [
    {
     "data": {
      "text/plain": [
       "0.869114131873302"
      ]
     },
     "execution_count": 37,
     "metadata": {},
     "output_type": "execute_result"
    }
   ],
   "source": [
    "gs3.score(X_test, y_test)"
   ]
  },
  {
   "cell_type": "code",
   "execution_count": 38,
   "metadata": {},
   "outputs": [],
   "source": [
    "#Make predictions on the test set\n",
    "preds = gs3.predict(X_test)"
   ]
  },
  {
   "cell_type": "code",
   "execution_count": 39,
   "metadata": {},
   "outputs": [
    {
     "name": "stdout",
     "output_type": "stream",
     "text": [
      "Lasso Model #2 w/Categorical Vars: MAE: 17939.195027047444\n",
      "Lasso Model #2 w/Categorical Vars: MSE: 666181429.1258975\n",
      "Lasso Model #2 w/Categorical Vars: R2: 0.869114131873302\n"
     ]
    }
   ],
   "source": [
    "#Evaluate my metrics\n",
    "print('Lasso Model #2 w/Categorical Vars: MAE:', mean_absolute_error(y_test, preds))\n",
    "print('Lasso Model #2 w/Categorical Vars: MSE:', mean_squared_error(y_test, preds))\n",
    "print('Lasso Model #2 w/Categorical Vars: R2:', r2_score(y_test, preds))"
   ]
  },
  {
   "cell_type": "markdown",
   "metadata": {},
   "source": [
    "This model doesn't beat the Ridge model with the categorical variables that had an Rsquared of .8723 since my Rsquared here is only .8691.  The other models were: .8561 for the Ridge model without the categorical variables versus .7186 for the Lasso model,  -.0037 for the baseline model and .5667 for the linear regression model."
   ]
  },
  {
   "cell_type": "code",
   "execution_count": 40,
   "metadata": {},
   "outputs": [],
   "source": [
    "#I want to look at some graphs of my residuals\n",
    "residuals = preds - y_test"
   ]
  },
  {
   "cell_type": "code",
   "execution_count": 41,
   "metadata": {},
   "outputs": [
    {
     "data": {
      "image/png": "[encoded data removed]",
      "text/plain": [
       "<Figure size 432x288 with 1 Axes>"
      ]
     },
     "metadata": {
      "needs_background": "light"
     },
     "output_type": "display_data"
    }
   ],
   "source": [
    "sns.histplot(residuals, bins=15);\n",
    "#This looks like a normal distribution so this doesn't look too bad."
   ]
  },
  {
   "cell_type": "code",
   "execution_count": 42,
   "metadata": {},
   "outputs": [
    {
     "data": {
      "image/png": "[encoded data removed]",
      "text/plain": [
       "<Figure size 432x288 with 1 Axes>"
      ]
     },
     "metadata": {
      "needs_background": "light"
     },
     "output_type": "display_data"
    }
   ],
   "source": [
    "plt.scatter(y_test, preds);\n",
    "#This doesn't look too bad!"
   ]
  },
  {
   "cell_type": "code",
   "execution_count": 43,
   "metadata": {},
   "outputs": [
    {
     "data": {
      "image/png": "[encoded data removed]",
      "text/plain": [
       "<Figure size 432x288 with 1 Axes>"
      ]
     },
     "metadata": {
      "needs_background": "light"
     },
     "output_type": "display_data"
    }
   ],
   "source": [
    "plt.scatter(y_test, residuals);\n",
    "#That outlier at 200,000 is strange."
   ]
  }
 ],
 "metadata": {
  "interpreter": {
   "hash": "1013f178bd8cc9c09c9a1bfa722153bff45040218b602b728b1ebb7cc8a12e61"
  },
  "kernelspec": {
   "display_name": "Python 3.9.7 64-bit ('base': conda)",
   "language": "python",
   "name": "python3"
  },
  "language_info": {
   "codemirror_mode": {
    "name": "ipython",
    "version": 3
   },
   "file_extension": ".py",
   "mimetype": "text/x-python",
   "name": "python",
   "nbconvert_exporter": "python",
   "pygments_lexer": "ipython3",
   "version": "3.9.7"
  },
  "orig_nbformat": 4
 },
 "nbformat": 4,
 "nbformat_minor": 2
}
