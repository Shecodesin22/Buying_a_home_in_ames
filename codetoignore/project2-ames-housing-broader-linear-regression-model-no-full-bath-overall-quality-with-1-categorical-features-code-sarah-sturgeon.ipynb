{
 "cells": [
  {
   "cell_type": "code",
   "execution_count": 1,
   "metadata": {},
   "outputs": [],
   "source": [
    "import numpy as np\n",
    "import pandas as pd\n",
    "import matplotlib.pyplot as plt\n",
    "import seaborn as sns\n",
    "\n",
    "import missingno as mn\n",
    "\n",
    "from sklearn.linear_model import LinearRegression, Lasso, Ridge\n",
    "from sklearn.pipeline import make_pipeline\n",
    "from sklearn.preprocessing import StandardScaler, PolynomialFeatures, OneHotEncoder, OrdinalEncoder\n",
    "from sklearn.model_selection import train_test_split, GridSearchCV\n",
    "from sklearn.compose import make_column_selector, make_column_transformer\n",
    "from sklearn.metrics import mean_squared_error, mean_absolute_error, r2_score\n",
    "from sklearn.dummy import DummyRegressor\n",
    "from sklearn.feature_selection import RFE\n",
    "from sklearn.impute import SimpleImputer\n",
    "\n",
    "from sklearn import set_config\n",
    "set_config(display='diagram')\n",
    "\n",
    "#Nate shared this list as his ultimate go-to during our regresssion hack-a-thon"
   ]
  },
  {
   "cell_type": "code",
   "execution_count": 2,
   "metadata": {},
   "outputs": [],
   "source": [
    "df_ames_train = pd.read_csv('./datasets/train.csv')"
   ]
  },
  {
   "cell_type": "markdown",
   "metadata": {},
   "source": [
    "I know I need to split my data into train/test before I do any data transformations and build any models."
   ]
  },
  {
   "cell_type": "code",
   "execution_count": 3,
   "metadata": {},
   "outputs": [],
   "source": [
    "df_ames_reg_train = df_ames_train[['Neighborhood',\n",
    "'Gr Liv Area', 'Garage Cars', 'Total Bsmt SF', '1st Flr SF',\n",
    "'Year Built', 'Year Remod/Add','SalePrice']]"
   ]
  },
  {
   "cell_type": "code",
   "execution_count": 4,
   "metadata": {},
   "outputs": [
    {
     "data": {
      "text/plain": [
       "(2051, 8)"
      ]
     },
     "execution_count": 4,
     "metadata": {},
     "output_type": "execute_result"
    }
   ],
   "source": [
    "df_ames_reg_train.shape"
   ]
  },
  {
   "cell_type": "code",
   "execution_count": 5,
   "metadata": {},
   "outputs": [
    {
     "data": {
      "text/plain": [
       "Neighborhood      0\n",
       "Gr Liv Area       0\n",
       "Garage Cars       1\n",
       "Total Bsmt SF     1\n",
       "1st Flr SF        0\n",
       "Year Built        0\n",
       "Year Remod/Add    0\n",
       "SalePrice         0\n",
       "dtype: int64"
      ]
     },
     "execution_count": 5,
     "metadata": {},
     "output_type": "execute_result"
    }
   ],
   "source": [
    "df_ames_reg_train.isna().sum()"
   ]
  },
  {
   "cell_type": "code",
   "execution_count": 6,
   "metadata": {},
   "outputs": [
    {
     "name": "stderr",
     "output_type": "stream",
     "text": [
      "C:\\Users\\sarah\\anaconda3\\lib\\site-packages\\pandas\\util\\_decorators.py:311: SettingWithCopyWarning: \n",
      "A value is trying to be set on a copy of a slice from a DataFrame\n",
      "\n",
      "See the caveats in the documentation: https://pandas.pydata.org/pandas-docs/stable/user_guide/indexing.html#returning-a-view-versus-a-copy\n",
      "  return func(*args, **kwargs)\n"
     ]
    }
   ],
   "source": [
    "df_ames_reg_train.dropna(inplace=True)"
   ]
  },
  {
   "cell_type": "code",
   "execution_count": 7,
   "metadata": {},
   "outputs": [
    {
     "data": {
      "text/plain": [
       "Neighborhood      0\n",
       "Gr Liv Area       0\n",
       "Garage Cars       0\n",
       "Total Bsmt SF     0\n",
       "1st Flr SF        0\n",
       "Year Built        0\n",
       "Year Remod/Add    0\n",
       "SalePrice         0\n",
       "dtype: int64"
      ]
     },
     "execution_count": 7,
     "metadata": {},
     "output_type": "execute_result"
    }
   ],
   "source": [
    "df_ames_reg_train.isna().sum()"
   ]
  },
  {
   "cell_type": "code",
   "execution_count": 8,
   "metadata": {},
   "outputs": [],
   "source": [
    "\n",
    "X = df_ames_reg_train[['Neighborhood',\n",
    "'Gr Liv Area', 'Garage Cars', 'Total Bsmt SF', '1st Flr SF',\n",
    "'Year Built', 'Year Remod/Add']]\n",
    "y = df_ames_reg_train['SalePrice']\n",
    "    "
   ]
  },
  {
   "cell_type": "code",
   "execution_count": 9,
   "metadata": {},
   "outputs": [
    {
     "data": {
      "text/plain": [
       "(2049, 7)"
      ]
     },
     "execution_count": 9,
     "metadata": {},
     "output_type": "execute_result"
    }
   ],
   "source": [
    "X.shape"
   ]
  },
  {
   "cell_type": "code",
   "execution_count": 10,
   "metadata": {},
   "outputs": [
    {
     "data": {
      "text/plain": [
       "(2049,)"
      ]
     },
     "execution_count": 10,
     "metadata": {},
     "output_type": "execute_result"
    }
   ],
   "source": [
    "y.shape"
   ]
  },
  {
   "cell_type": "code",
   "execution_count": 11,
   "metadata": {},
   "outputs": [],
   "source": [
    "X_train, X_test, y_train, y_test = train_test_split(X, y)"
   ]
  },
  {
   "cell_type": "code",
   "execution_count": 12,
   "metadata": {},
   "outputs": [
    {
     "data": {
      "text/plain": [
       "Neighborhood       object\n",
       "Gr Liv Area         int64\n",
       "Garage Cars       float64\n",
       "Total Bsmt SF     float64\n",
       "1st Flr SF          int64\n",
       "Year Built          int64\n",
       "Year Remod/Add      int64\n",
       "dtype: object"
      ]
     },
     "execution_count": 12,
     "metadata": {},
     "output_type": "execute_result"
    }
   ],
   "source": [
    "X_train.dtypes"
   ]
  },
  {
   "cell_type": "code",
   "execution_count": 13,
   "metadata": {},
   "outputs": [],
   "source": [
    "ct1 = make_column_transformer(\n",
    "    (OneHotEncoder(handle_unknown='ignore'), ['Neighborhood']),\n",
    "    remainder='passthrough',\n",
    "     verbose_feature_names_out=False)\n"
   ]
  },
  {
   "cell_type": "code",
   "execution_count": 14,
   "metadata": {},
   "outputs": [],
   "source": [
    "pipe3 = make_pipeline(ct1, StandardScaler(with_mean=False), LinearRegression())"
   ]
  },
  {
   "cell_type": "code",
   "execution_count": 15,
   "metadata": {},
   "outputs": [
    {
     "data": {
      "text/plain": [
       "dict_keys(['copy_X', 'fit_intercept', 'n_jobs', 'normalize', 'positive'])"
      ]
     },
     "execution_count": 15,
     "metadata": {},
     "output_type": "execute_result"
    }
   ],
   "source": [
    "LinearRegression().get_params().keys()"
   ]
  },
  {
   "cell_type": "code",
   "execution_count": 16,
   "metadata": {},
   "outputs": [
    {
     "data": {
      "text/html": [
       "<style>#sk-f4936e47-934a-4472-a716-2877c4b82eae {color: black;background-color: white;}#sk-f4936e47-934a-4472-a716-2877c4b82eae pre{padding: 0;}#sk-f4936e47-934a-4472-a716-2877c4b82eae div.sk-toggleable {background-color: white;}#sk-f4936e47-934a-4472-a716-2877c4b82eae label.sk-toggleable__label {cursor: pointer;display: block;width: 100%;margin-bottom: 0;padding: 0.3em;box-sizing: border-box;text-align: center;}#sk-f4936e47-934a-4472-a716-2877c4b82eae label.sk-toggleable__label-arrow:before {content: \"▸\";float: left;margin-right: 0.25em;color: #696969;}#sk-f4936e47-934a-4472-a716-2877c4b82eae label.sk-toggleable__label-arrow:hover:before {color: black;}#sk-f4936e47-934a-4472-a716-2877c4b82eae div.sk-estimator:hover label.sk-toggleable__label-arrow:before {color: black;}#sk-f4936e47-934a-4472-a716-2877c4b82eae div.sk-toggleable__content {max-height: 0;max-width: 0;overflow: hidden;text-align: left;background-color: #f0f8ff;}#sk-f4936e47-934a-4472-a716-2877c4b82eae div.sk-toggleable__content pre {margin: 0.2em;color: black;border-radius: 0.25em;background-color: #f0f8ff;}#sk-f4936e47-934a-4472-a716-2877c4b82eae input.sk-toggleable__control:checked~div.sk-toggleable__content {max-height: 200px;max-width: 100%;overflow: auto;}#sk-f4936e47-934a-4472-a716-2877c4b82eae input.sk-toggleable__control:checked~label.sk-toggleable__label-arrow:before {content: \"▾\";}#sk-f4936e47-934a-4472-a716-2877c4b82eae div.sk-estimator input.sk-toggleable__control:checked~label.sk-toggleable__label {background-color: #d4ebff;}#sk-f4936e47-934a-4472-a716-2877c4b82eae div.sk-label input.sk-toggleable__control:checked~label.sk-toggleable__label {background-color: #d4ebff;}#sk-f4936e47-934a-4472-a716-2877c4b82eae input.sk-hidden--visually {border: 0;clip: rect(1px 1px 1px 1px);clip: rect(1px, 1px, 1px, 1px);height: 1px;margin: -1px;overflow: hidden;padding: 0;position: absolute;width: 1px;}#sk-f4936e47-934a-4472-a716-2877c4b82eae div.sk-estimator {font-family: monospace;background-color: #f0f8ff;border: 1px dotted black;border-radius: 0.25em;box-sizing: border-box;margin-bottom: 0.5em;}#sk-f4936e47-934a-4472-a716-2877c4b82eae div.sk-estimator:hover {background-color: #d4ebff;}#sk-f4936e47-934a-4472-a716-2877c4b82eae div.sk-parallel-item::after {content: \"\";width: 100%;border-bottom: 1px solid gray;flex-grow: 1;}#sk-f4936e47-934a-4472-a716-2877c4b82eae div.sk-label:hover label.sk-toggleable__label {background-color: #d4ebff;}#sk-f4936e47-934a-4472-a716-2877c4b82eae div.sk-serial::before {content: \"\";position: absolute;border-left: 1px solid gray;box-sizing: border-box;top: 2em;bottom: 0;left: 50%;}#sk-f4936e47-934a-4472-a716-2877c4b82eae div.sk-serial {display: flex;flex-direction: column;align-items: center;background-color: white;padding-right: 0.2em;padding-left: 0.2em;}#sk-f4936e47-934a-4472-a716-2877c4b82eae div.sk-item {z-index: 1;}#sk-f4936e47-934a-4472-a716-2877c4b82eae div.sk-parallel {display: flex;align-items: stretch;justify-content: center;background-color: white;}#sk-f4936e47-934a-4472-a716-2877c4b82eae div.sk-parallel::before {content: \"\";position: absolute;border-left: 1px solid gray;box-sizing: border-box;top: 2em;bottom: 0;left: 50%;}#sk-f4936e47-934a-4472-a716-2877c4b82eae div.sk-parallel-item {display: flex;flex-direction: column;position: relative;background-color: white;}#sk-f4936e47-934a-4472-a716-2877c4b82eae div.sk-parallel-item:first-child::after {align-self: flex-end;width: 50%;}#sk-f4936e47-934a-4472-a716-2877c4b82eae div.sk-parallel-item:last-child::after {align-self: flex-start;width: 50%;}#sk-f4936e47-934a-4472-a716-2877c4b82eae div.sk-parallel-item:only-child::after {width: 0;}#sk-f4936e47-934a-4472-a716-2877c4b82eae div.sk-dashed-wrapped {border: 1px dashed gray;margin: 0 0.4em 0.5em 0.4em;box-sizing: border-box;padding-bottom: 0.4em;background-color: white;position: relative;}#sk-f4936e47-934a-4472-a716-2877c4b82eae div.sk-label label {font-family: monospace;font-weight: bold;background-color: white;display: inline-block;line-height: 1.2em;}#sk-f4936e47-934a-4472-a716-2877c4b82eae div.sk-label-container {position: relative;z-index: 2;text-align: center;}#sk-f4936e47-934a-4472-a716-2877c4b82eae div.sk-container {/* jupyter's `normalize.less` sets `[hidden] { display: none; }` but bootstrap.min.css set `[hidden] { display: none !important; }` so we also need the `!important` here to be able to override the default hidden behavior on the sphinx rendered scikit-learn.org. See: https://github.com/scikit-learn/scikit-learn/issues/21755 */display: inline-block !important;position: relative;}#sk-f4936e47-934a-4472-a716-2877c4b82eae div.sk-text-repr-fallback {display: none;}</style><div id=\"sk-f4936e47-934a-4472-a716-2877c4b82eae\" class=\"sk-top-container\"><div class=\"sk-text-repr-fallback\"><pre>Pipeline(steps=[(&#x27;columntransformer&#x27;,\n",
       "                 ColumnTransformer(remainder=&#x27;passthrough&#x27;,\n",
       "                                   transformers=[(&#x27;onehotencoder&#x27;,\n",
       "                                                  OneHotEncoder(handle_unknown=&#x27;ignore&#x27;),\n",
       "                                                  [&#x27;Neighborhood&#x27;])],\n",
       "                                   verbose_feature_names_out=False)),\n",
       "                (&#x27;standardscaler&#x27;, StandardScaler(with_mean=False)),\n",
       "                (&#x27;linearregression&#x27;, LinearRegression())])</pre><b>Please rerun this cell to show the HTML repr or trust the notebook.</b></div><div class=\"sk-container\" hidden><div class=\"sk-item sk-dashed-wrapped\"><div class=\"sk-label-container\"><div class=\"sk-label sk-toggleable\"><input class=\"sk-toggleable__control sk-hidden--visually\" id=\"d47de5e7-2769-4c3d-8a47-676d193b531c\" type=\"checkbox\" ><label for=\"d47de5e7-2769-4c3d-8a47-676d193b531c\" class=\"sk-toggleable__label sk-toggleable__label-arrow\">Pipeline</label><div class=\"sk-toggleable__content\"><pre>Pipeline(steps=[(&#x27;columntransformer&#x27;,\n",
       "                 ColumnTransformer(remainder=&#x27;passthrough&#x27;,\n",
       "                                   transformers=[(&#x27;onehotencoder&#x27;,\n",
       "                                                  OneHotEncoder(handle_unknown=&#x27;ignore&#x27;),\n",
       "                                                  [&#x27;Neighborhood&#x27;])],\n",
       "                                   verbose_feature_names_out=False)),\n",
       "                (&#x27;standardscaler&#x27;, StandardScaler(with_mean=False)),\n",
       "                (&#x27;linearregression&#x27;, LinearRegression())])</pre></div></div></div><div class=\"sk-serial\"><div class=\"sk-item sk-dashed-wrapped\"><div class=\"sk-label-container\"><div class=\"sk-label sk-toggleable\"><input class=\"sk-toggleable__control sk-hidden--visually\" id=\"56ab0171-1589-471f-887c-f3487bb0e596\" type=\"checkbox\" ><label for=\"56ab0171-1589-471f-887c-f3487bb0e596\" class=\"sk-toggleable__label sk-toggleable__label-arrow\">columntransformer: ColumnTransformer</label><div class=\"sk-toggleable__content\"><pre>ColumnTransformer(remainder=&#x27;passthrough&#x27;,\n",
       "                  transformers=[(&#x27;onehotencoder&#x27;,\n",
       "                                 OneHotEncoder(handle_unknown=&#x27;ignore&#x27;),\n",
       "                                 [&#x27;Neighborhood&#x27;])],\n",
       "                  verbose_feature_names_out=False)</pre></div></div></div><div class=\"sk-parallel\"><div class=\"sk-parallel-item\"><div class=\"sk-item\"><div class=\"sk-label-container\"><div class=\"sk-label sk-toggleable\"><input class=\"sk-toggleable__control sk-hidden--visually\" id=\"ebe06d5a-ddee-4cfb-b544-674056e966cd\" type=\"checkbox\" ><label for=\"ebe06d5a-ddee-4cfb-b544-674056e966cd\" class=\"sk-toggleable__label sk-toggleable__label-arrow\">onehotencoder</label><div class=\"sk-toggleable__content\"><pre>[&#x27;Neighborhood&#x27;]</pre></div></div></div><div class=\"sk-serial\"><div class=\"sk-item\"><div class=\"sk-estimator sk-toggleable\"><input class=\"sk-toggleable__control sk-hidden--visually\" id=\"9ddd79a1-e553-42cb-94c3-de01631a0a2d\" type=\"checkbox\" ><label for=\"9ddd79a1-e553-42cb-94c3-de01631a0a2d\" class=\"sk-toggleable__label sk-toggleable__label-arrow\">OneHotEncoder</label><div class=\"sk-toggleable__content\"><pre>OneHotEncoder(handle_unknown=&#x27;ignore&#x27;)</pre></div></div></div></div></div></div><div class=\"sk-parallel-item\"><div class=\"sk-item\"><div class=\"sk-label-container\"><div class=\"sk-label sk-toggleable\"><input class=\"sk-toggleable__control sk-hidden--visually\" id=\"1ade1472-5ff4-4b81-8d9d-a8e5249e27d8\" type=\"checkbox\" ><label for=\"1ade1472-5ff4-4b81-8d9d-a8e5249e27d8\" class=\"sk-toggleable__label sk-toggleable__label-arrow\">remainder</label><div class=\"sk-toggleable__content\"><pre>[&#x27;Gr Liv Area&#x27;, &#x27;Garage Cars&#x27;, &#x27;Total Bsmt SF&#x27;, &#x27;1st Flr SF&#x27;, &#x27;Year Built&#x27;, &#x27;Year Remod/Add&#x27;]</pre></div></div></div><div class=\"sk-serial\"><div class=\"sk-item\"><div class=\"sk-estimator sk-toggleable\"><input class=\"sk-toggleable__control sk-hidden--visually\" id=\"5b214faa-f29f-4f21-83bb-c8e0471ad174\" type=\"checkbox\" ><label for=\"5b214faa-f29f-4f21-83bb-c8e0471ad174\" class=\"sk-toggleable__label sk-toggleable__label-arrow\">passthrough</label><div class=\"sk-toggleable__content\"><pre>passthrough</pre></div></div></div></div></div></div></div></div><div class=\"sk-item\"><div class=\"sk-estimator sk-toggleable\"><input class=\"sk-toggleable__control sk-hidden--visually\" id=\"ffca851a-c1fe-498c-a054-62888952864d\" type=\"checkbox\" ><label for=\"ffca851a-c1fe-498c-a054-62888952864d\" class=\"sk-toggleable__label sk-toggleable__label-arrow\">StandardScaler</label><div class=\"sk-toggleable__content\"><pre>StandardScaler(with_mean=False)</pre></div></div></div><div class=\"sk-item\"><div class=\"sk-estimator sk-toggleable\"><input class=\"sk-toggleable__control sk-hidden--visually\" id=\"fde93133-c67f-4e4f-9f77-db734af2d414\" type=\"checkbox\" ><label for=\"fde93133-c67f-4e4f-9f77-db734af2d414\" class=\"sk-toggleable__label sk-toggleable__label-arrow\">LinearRegression</label><div class=\"sk-toggleable__content\"><pre>LinearRegression()</pre></div></div></div></div></div></div></div>"
      ],
      "text/plain": [
       "Pipeline(steps=[('columntransformer',\n",
       "                 ColumnTransformer(remainder='passthrough',\n",
       "                                   transformers=[('onehotencoder',\n",
       "                                                  OneHotEncoder(handle_unknown='ignore'),\n",
       "                                                  ['Neighborhood'])],\n",
       "                                   verbose_feature_names_out=False)),\n",
       "                ('standardscaler', StandardScaler(with_mean=False)),\n",
       "                ('linearregression', LinearRegression())])"
      ]
     },
     "execution_count": 16,
     "metadata": {},
     "output_type": "execute_result"
    }
   ],
   "source": [
    "pipe3.fit(X_train, y_train)"
   ]
  },
  {
   "cell_type": "code",
   "execution_count": 17,
   "metadata": {},
   "outputs": [],
   "source": [
    "preds= pipe3.predict(X_test)"
   ]
  },
  {
   "cell_type": "code",
   "execution_count": 18,
   "metadata": {},
   "outputs": [
    {
     "data": {
      "text/plain": [
       "{'columntransformer': ColumnTransformer(remainder='passthrough',\n",
       "                   transformers=[('onehotencoder',\n",
       "                                  OneHotEncoder(handle_unknown='ignore'),\n",
       "                                  ['Neighborhood'])],\n",
       "                   verbose_feature_names_out=False),\n",
       " 'standardscaler': StandardScaler(with_mean=False),\n",
       " 'linearregression': LinearRegression()}"
      ]
     },
     "execution_count": 18,
     "metadata": {},
     "output_type": "execute_result"
    }
   ],
   "source": [
    "pipe3.named_steps"
   ]
  },
  {
   "cell_type": "code",
   "execution_count": 19,
   "metadata": {},
   "outputs": [
    {
     "data": {
      "text/plain": [
       "array(['Neighborhood_Blmngtn', 'Neighborhood_Blueste',\n",
       "       'Neighborhood_BrDale', 'Neighborhood_BrkSide',\n",
       "       'Neighborhood_ClearCr', 'Neighborhood_CollgCr',\n",
       "       'Neighborhood_Crawfor', 'Neighborhood_Edwards',\n",
       "       'Neighborhood_Gilbert', 'Neighborhood_Greens',\n",
       "       'Neighborhood_GrnHill', 'Neighborhood_IDOTRR',\n",
       "       'Neighborhood_Landmrk', 'Neighborhood_MeadowV',\n",
       "       'Neighborhood_Mitchel', 'Neighborhood_NAmes',\n",
       "       'Neighborhood_NPkVill', 'Neighborhood_NWAmes',\n",
       "       'Neighborhood_NoRidge', 'Neighborhood_NridgHt',\n",
       "       'Neighborhood_OldTown', 'Neighborhood_SWISU',\n",
       "       'Neighborhood_Sawyer', 'Neighborhood_SawyerW',\n",
       "       'Neighborhood_Somerst', 'Neighborhood_StoneBr',\n",
       "       'Neighborhood_Timber', 'Neighborhood_Veenker', 'Gr Liv Area',\n",
       "       'Garage Cars', 'Total Bsmt SF', '1st Flr SF', 'Year Built',\n",
       "       'Year Remod/Add'], dtype=object)"
      ]
     },
     "execution_count": 19,
     "metadata": {},
     "output_type": "execute_result"
    }
   ],
   "source": [
    "cols_p3 = pipe3.named_steps.get('columntransformer').get_feature_names_out()\n",
    "cols_p3"
   ]
  },
  {
   "cell_type": "code",
   "execution_count": 20,
   "metadata": {},
   "outputs": [
    {
     "data": {
      "text/plain": [
       "array([-1004.71771001,  -914.82189008, -1702.80443934, -1248.7306089 ,\n",
       "        2151.54616485,  -466.27933934,  4130.27615461, -5522.66800533,\n",
       "       -2063.14586601,   594.51741722,  4047.1731921 , -3428.28056901,\n",
       "        -836.51054944, -2338.0228629 , -2665.02913969, -3488.6164708 ,\n",
       "       -1523.14109387, -1796.0757341 ,  7571.26225393, 13949.81720598,\n",
       "       -5423.03639592, -1716.27061959, -3061.77135811, -2643.85983475,\n",
       "        2904.02699858, 10924.99282985,  3213.05509934,  3010.12735001,\n",
       "       26040.86823534, 11964.34281441, 12194.46228163,  4143.91939769,\n",
       "        7999.19603912, 10562.76483043])"
      ]
     },
     "execution_count": 20,
     "metadata": {},
     "output_type": "execute_result"
    }
   ],
   "source": [
    "pipe3.named_steps['linearregression'].coef_"
   ]
  },
  {
   "cell_type": "code",
   "execution_count": 23,
   "metadata": {},
   "outputs": [
    {
     "data": {
      "text/html": [
       "<div>\n",
       "<style scoped>\n",
       "    .dataframe tbody tr th:only-of-type {\n",
       "        vertical-align: middle;\n",
       "    }\n",
       "\n",
       "    .dataframe tbody tr th {\n",
       "        vertical-align: top;\n",
       "    }\n",
       "\n",
       "    .dataframe thead th {\n",
       "        text-align: right;\n",
       "    }\n",
       "</style>\n",
       "<table border=\"1\" class=\"dataframe\">\n",
       "  <thead>\n",
       "    <tr style=\"text-align: right;\">\n",
       "      <th></th>\n",
       "      <th>0</th>\n",
       "      <th>1</th>\n",
       "    </tr>\n",
       "  </thead>\n",
       "  <tbody>\n",
       "    <tr>\n",
       "      <th>0</th>\n",
       "      <td>Neighborhood_Blmngtn</td>\n",
       "      <td>-1004.717710</td>\n",
       "    </tr>\n",
       "    <tr>\n",
       "      <th>1</th>\n",
       "      <td>Neighborhood_Blueste</td>\n",
       "      <td>-914.821890</td>\n",
       "    </tr>\n",
       "    <tr>\n",
       "      <th>2</th>\n",
       "      <td>Neighborhood_BrDale</td>\n",
       "      <td>-1702.804439</td>\n",
       "    </tr>\n",
       "    <tr>\n",
       "      <th>3</th>\n",
       "      <td>Neighborhood_BrkSide</td>\n",
       "      <td>-1248.730609</td>\n",
       "    </tr>\n",
       "    <tr>\n",
       "      <th>4</th>\n",
       "      <td>Neighborhood_ClearCr</td>\n",
       "      <td>2151.546165</td>\n",
       "    </tr>\n",
       "    <tr>\n",
       "      <th>5</th>\n",
       "      <td>Neighborhood_CollgCr</td>\n",
       "      <td>-466.279339</td>\n",
       "    </tr>\n",
       "    <tr>\n",
       "      <th>6</th>\n",
       "      <td>Neighborhood_Crawfor</td>\n",
       "      <td>4130.276155</td>\n",
       "    </tr>\n",
       "    <tr>\n",
       "      <th>7</th>\n",
       "      <td>Neighborhood_Edwards</td>\n",
       "      <td>-5522.668005</td>\n",
       "    </tr>\n",
       "    <tr>\n",
       "      <th>8</th>\n",
       "      <td>Neighborhood_Gilbert</td>\n",
       "      <td>-2063.145866</td>\n",
       "    </tr>\n",
       "    <tr>\n",
       "      <th>9</th>\n",
       "      <td>Neighborhood_Greens</td>\n",
       "      <td>594.517417</td>\n",
       "    </tr>\n",
       "    <tr>\n",
       "      <th>10</th>\n",
       "      <td>Neighborhood_GrnHill</td>\n",
       "      <td>4047.173192</td>\n",
       "    </tr>\n",
       "    <tr>\n",
       "      <th>11</th>\n",
       "      <td>Neighborhood_IDOTRR</td>\n",
       "      <td>-3428.280569</td>\n",
       "    </tr>\n",
       "    <tr>\n",
       "      <th>12</th>\n",
       "      <td>Neighborhood_Landmrk</td>\n",
       "      <td>-836.510549</td>\n",
       "    </tr>\n",
       "    <tr>\n",
       "      <th>13</th>\n",
       "      <td>Neighborhood_MeadowV</td>\n",
       "      <td>-2338.022863</td>\n",
       "    </tr>\n",
       "    <tr>\n",
       "      <th>14</th>\n",
       "      <td>Neighborhood_Mitchel</td>\n",
       "      <td>-2665.029140</td>\n",
       "    </tr>\n",
       "    <tr>\n",
       "      <th>15</th>\n",
       "      <td>Neighborhood_NAmes</td>\n",
       "      <td>-3488.616471</td>\n",
       "    </tr>\n",
       "    <tr>\n",
       "      <th>16</th>\n",
       "      <td>Neighborhood_NPkVill</td>\n",
       "      <td>-1523.141094</td>\n",
       "    </tr>\n",
       "    <tr>\n",
       "      <th>17</th>\n",
       "      <td>Neighborhood_NWAmes</td>\n",
       "      <td>-1796.075734</td>\n",
       "    </tr>\n",
       "    <tr>\n",
       "      <th>18</th>\n",
       "      <td>Neighborhood_NoRidge</td>\n",
       "      <td>7571.262254</td>\n",
       "    </tr>\n",
       "    <tr>\n",
       "      <th>19</th>\n",
       "      <td>Neighborhood_NridgHt</td>\n",
       "      <td>13949.817206</td>\n",
       "    </tr>\n",
       "    <tr>\n",
       "      <th>20</th>\n",
       "      <td>Neighborhood_OldTown</td>\n",
       "      <td>-5423.036396</td>\n",
       "    </tr>\n",
       "    <tr>\n",
       "      <th>21</th>\n",
       "      <td>Neighborhood_SWISU</td>\n",
       "      <td>-1716.270620</td>\n",
       "    </tr>\n",
       "    <tr>\n",
       "      <th>22</th>\n",
       "      <td>Neighborhood_Sawyer</td>\n",
       "      <td>-3061.771358</td>\n",
       "    </tr>\n",
       "    <tr>\n",
       "      <th>23</th>\n",
       "      <td>Neighborhood_SawyerW</td>\n",
       "      <td>-2643.859835</td>\n",
       "    </tr>\n",
       "    <tr>\n",
       "      <th>24</th>\n",
       "      <td>Neighborhood_Somerst</td>\n",
       "      <td>2904.026999</td>\n",
       "    </tr>\n",
       "    <tr>\n",
       "      <th>25</th>\n",
       "      <td>Neighborhood_StoneBr</td>\n",
       "      <td>10924.992830</td>\n",
       "    </tr>\n",
       "    <tr>\n",
       "      <th>26</th>\n",
       "      <td>Neighborhood_Timber</td>\n",
       "      <td>3213.055099</td>\n",
       "    </tr>\n",
       "    <tr>\n",
       "      <th>27</th>\n",
       "      <td>Neighborhood_Veenker</td>\n",
       "      <td>3010.127350</td>\n",
       "    </tr>\n",
       "    <tr>\n",
       "      <th>28</th>\n",
       "      <td>Gr Liv Area</td>\n",
       "      <td>26040.868235</td>\n",
       "    </tr>\n",
       "    <tr>\n",
       "      <th>29</th>\n",
       "      <td>Garage Cars</td>\n",
       "      <td>11964.342814</td>\n",
       "    </tr>\n",
       "    <tr>\n",
       "      <th>30</th>\n",
       "      <td>Total Bsmt SF</td>\n",
       "      <td>12194.462282</td>\n",
       "    </tr>\n",
       "    <tr>\n",
       "      <th>31</th>\n",
       "      <td>1st Flr SF</td>\n",
       "      <td>4143.919398</td>\n",
       "    </tr>\n",
       "    <tr>\n",
       "      <th>32</th>\n",
       "      <td>Year Built</td>\n",
       "      <td>7999.196039</td>\n",
       "    </tr>\n",
       "    <tr>\n",
       "      <th>33</th>\n",
       "      <td>Year Remod/Add</td>\n",
       "      <td>10562.764830</td>\n",
       "    </tr>\n",
       "  </tbody>\n",
       "</table>\n",
       "</div>"
      ],
      "text/plain": [
       "                       0             1\n",
       "0   Neighborhood_Blmngtn  -1004.717710\n",
       "1   Neighborhood_Blueste   -914.821890\n",
       "2    Neighborhood_BrDale  -1702.804439\n",
       "3   Neighborhood_BrkSide  -1248.730609\n",
       "4   Neighborhood_ClearCr   2151.546165\n",
       "5   Neighborhood_CollgCr   -466.279339\n",
       "6   Neighborhood_Crawfor   4130.276155\n",
       "7   Neighborhood_Edwards  -5522.668005\n",
       "8   Neighborhood_Gilbert  -2063.145866\n",
       "9    Neighborhood_Greens    594.517417\n",
       "10  Neighborhood_GrnHill   4047.173192\n",
       "11   Neighborhood_IDOTRR  -3428.280569\n",
       "12  Neighborhood_Landmrk   -836.510549\n",
       "13  Neighborhood_MeadowV  -2338.022863\n",
       "14  Neighborhood_Mitchel  -2665.029140\n",
       "15    Neighborhood_NAmes  -3488.616471\n",
       "16  Neighborhood_NPkVill  -1523.141094\n",
       "17   Neighborhood_NWAmes  -1796.075734\n",
       "18  Neighborhood_NoRidge   7571.262254\n",
       "19  Neighborhood_NridgHt  13949.817206\n",
       "20  Neighborhood_OldTown  -5423.036396\n",
       "21    Neighborhood_SWISU  -1716.270620\n",
       "22   Neighborhood_Sawyer  -3061.771358\n",
       "23  Neighborhood_SawyerW  -2643.859835\n",
       "24  Neighborhood_Somerst   2904.026999\n",
       "25  Neighborhood_StoneBr  10924.992830\n",
       "26   Neighborhood_Timber   3213.055099\n",
       "27  Neighborhood_Veenker   3010.127350\n",
       "28           Gr Liv Area  26040.868235\n",
       "29           Garage Cars  11964.342814\n",
       "30         Total Bsmt SF  12194.462282\n",
       "31            1st Flr SF   4143.919398\n",
       "32            Year Built   7999.196039\n",
       "33        Year Remod/Add  10562.764830"
      ]
     },
     "execution_count": 23,
     "metadata": {},
     "output_type": "execute_result"
    }
   ],
   "source": [
    "df_simpl_reg = pd.DataFrame(zip(cols_p3, \n",
    "pipe3.named_steps['linearregression'].coef_))\n",
    "df_simpl_reg"
   ]
  },
  {
   "cell_type": "code",
   "execution_count": 24,
   "metadata": {},
   "outputs": [],
   "source": [
    "df_simpl_reg.to_csv('./datasets/simplereg.csv', index = False)"
   ]
  },
  {
   "cell_type": "code",
   "execution_count": 25,
   "metadata": {},
   "outputs": [
    {
     "data": {
      "text/plain": [
       "1205    12305.936424\n",
       "953       -87.242734\n",
       "996     -3352.781089\n",
       "1604    32513.755853\n",
       "485     -6670.848646\n",
       "            ...     \n",
       "1909      387.472393\n",
       "90      -6341.293628\n",
       "1573   -13612.632054\n",
       "442    -15747.092068\n",
       "1939   -10436.868073\n",
       "Name: SalePrice, Length: 513, dtype: float64"
      ]
     },
     "execution_count": 25,
     "metadata": {},
     "output_type": "execute_result"
    }
   ],
   "source": [
    "residuals = preds - y_test\n",
    "residuals"
   ]
  },
  {
   "cell_type": "code",
   "execution_count": 26,
   "metadata": {},
   "outputs": [
    {
     "name": "stdout",
     "output_type": "stream",
     "text": [
      "Linear Regression Model #3 w/Categorical Vars, No Full Bath & More: MAE: 21517.869253063043\n",
      "Linear Regression Model #3 w/Categorical Vars, No Full Bath & More: MSE: 1002738364.2381965\n",
      "Linear Model #3 w/Categorical Vars, No Full Bath & More: R2: 0.8328620347352035\n"
     ]
    }
   ],
   "source": [
    "#Evaluate my metrics\n",
    "print('Linear Regression Model #3 w/Categorical Vars, No Full Bath & More: MAE:', mean_absolute_error(y_test, preds))\n",
    "print('Linear Regression Model #3 w/Categorical Vars, No Full Bath & More: MSE:', mean_squared_error(y_test, preds))\n",
    "print('Linear Model #3 w/Categorical Vars, No Full Bath & More: R2:', r2_score(y_test, preds))"
   ]
  },
  {
   "cell_type": "code",
   "execution_count": 27,
   "metadata": {},
   "outputs": [
    {
     "data": {
      "image/png": "[encoded data removed]",
      "text/plain": [
       "<Figure size 432x288 with 1 Axes>"
      ]
     },
     "metadata": {
      "needs_background": "light"
     },
     "output_type": "display_data"
    }
   ],
   "source": [
    "sns.histplot(residuals, bins=15);\n",
    "#This looks like a normal distribution so this doesn't look too bad."
   ]
  },
  {
   "cell_type": "code",
   "execution_count": 28,
   "metadata": {},
   "outputs": [
    {
     "data": {
      "image/png": "[encoded data removed]",
      "text/plain": [
       "<Figure size 432x288 with 1 Axes>"
      ]
     },
     "metadata": {
      "needs_background": "light"
     },
     "output_type": "display_data"
    }
   ],
   "source": [
    "plt.scatter(y_test, preds);\n",
    "#This doesn't look too bad!"
   ]
  },
  {
   "cell_type": "code",
   "execution_count": 29,
   "metadata": {},
   "outputs": [
    {
     "data": {
      "image/png": "[encoded data removed]",
      "text/plain": [
       "<Figure size 432x288 with 1 Axes>"
      ]
     },
     "metadata": {
      "needs_background": "light"
     },
     "output_type": "display_data"
    }
   ],
   "source": [
    "plt.scatter(y_test, residuals);\n"
   ]
  }
 ],
 "metadata": {
  "interpreter": {
   "hash": "1013f178bd8cc9c09c9a1bfa722153bff45040218b602b728b1ebb7cc8a12e61"
  },
  "kernelspec": {
   "display_name": "Python 3.9.7 64-bit ('base': conda)",
   "language": "python",
   "name": "python3"
  },
  "language_info": {
   "codemirror_mode": {
    "name": "ipython",
    "version": 3
   },
   "file_extension": ".py",
   "mimetype": "text/x-python",
   "name": "python",
   "nbconvert_exporter": "python",
   "pygments_lexer": "ipython3",
   "version": "3.9.7"
  },
  "orig_nbformat": 4
 },
 "nbformat": 4,
 "nbformat_minor": 2
}
