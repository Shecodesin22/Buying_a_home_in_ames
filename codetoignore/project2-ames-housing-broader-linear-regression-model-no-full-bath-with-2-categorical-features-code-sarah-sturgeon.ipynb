{
 "cells": [
  {
   "cell_type": "code",
   "execution_count": 1,
   "metadata": {},
   "outputs": [],
   "source": [
    "import numpy as np\n",
    "import pandas as pd\n",
    "import matplotlib.pyplot as plt\n",
    "import seaborn as sns\n",
    "\n",
    "import missingno as mn\n",
    "\n",
    "from sklearn.linear_model import LinearRegression, Lasso, Ridge\n",
    "from sklearn.pipeline import make_pipeline\n",
    "from sklearn.preprocessing import StandardScaler, PolynomialFeatures, OneHotEncoder, OrdinalEncoder\n",
    "from sklearn.model_selection import train_test_split, GridSearchCV\n",
    "from sklearn.compose import make_column_selector, make_column_transformer\n",
    "from sklearn.metrics import mean_squared_error, mean_absolute_error, r2_score\n",
    "from sklearn.dummy import DummyRegressor\n",
    "from sklearn.feature_selection import RFE\n",
    "from sklearn.impute import SimpleImputer\n",
    "\n",
    "from sklearn import set_config\n",
    "set_config(display='diagram')\n",
    "\n",
    "#Nate shared this list as his ultimate go-to during our regresssion hack-a-thon"
   ]
  },
  {
   "cell_type": "code",
   "execution_count": 2,
   "metadata": {},
   "outputs": [],
   "source": [
    "df_ames_train = pd.read_csv('./datasets/train.csv')"
   ]
  },
  {
   "cell_type": "markdown",
   "metadata": {},
   "source": [
    "I know I need to split my data into train/test before I do any data transformations and build any models."
   ]
  },
  {
   "cell_type": "code",
   "execution_count": 3,
   "metadata": {},
   "outputs": [],
   "source": [
    "df_ames_reg_train = df_ames_train[['Overall Qual','Neighborhood',\n",
    "'Gr Liv Area', 'Garage Cars', 'Total Bsmt SF', '1st Flr SF',\n",
    "'Year Built', 'Year Remod/Add','SalePrice']]"
   ]
  },
  {
   "cell_type": "code",
   "execution_count": 4,
   "metadata": {},
   "outputs": [
    {
     "data": {
      "text/plain": [
       "(2051, 9)"
      ]
     },
     "execution_count": 4,
     "metadata": {},
     "output_type": "execute_result"
    }
   ],
   "source": [
    "df_ames_reg_train.shape"
   ]
  },
  {
   "cell_type": "code",
   "execution_count": 5,
   "metadata": {},
   "outputs": [
    {
     "data": {
      "text/plain": [
       "Overall Qual      0\n",
       "Neighborhood      0\n",
       "Gr Liv Area       0\n",
       "Garage Cars       1\n",
       "Total Bsmt SF     1\n",
       "1st Flr SF        0\n",
       "Year Built        0\n",
       "Year Remod/Add    0\n",
       "SalePrice         0\n",
       "dtype: int64"
      ]
     },
     "execution_count": 5,
     "metadata": {},
     "output_type": "execute_result"
    }
   ],
   "source": [
    "df_ames_reg_train.isna().sum()"
   ]
  },
  {
   "cell_type": "code",
   "execution_count": 6,
   "metadata": {},
   "outputs": [
    {
     "name": "stderr",
     "output_type": "stream",
     "text": [
      "C:\\Users\\sarah\\anaconda3\\lib\\site-packages\\pandas\\util\\_decorators.py:311: SettingWithCopyWarning: \n",
      "A value is trying to be set on a copy of a slice from a DataFrame\n",
      "\n",
      "See the caveats in the documentation: https://pandas.pydata.org/pandas-docs/stable/user_guide/indexing.html#returning-a-view-versus-a-copy\n",
      "  return func(*args, **kwargs)\n"
     ]
    }
   ],
   "source": [
    "df_ames_reg_train.dropna(inplace=True)"
   ]
  },
  {
   "cell_type": "code",
   "execution_count": 7,
   "metadata": {},
   "outputs": [
    {
     "data": {
      "text/plain": [
       "Overall Qual      0\n",
       "Neighborhood      0\n",
       "Gr Liv Area       0\n",
       "Garage Cars       0\n",
       "Total Bsmt SF     0\n",
       "1st Flr SF        0\n",
       "Year Built        0\n",
       "Year Remod/Add    0\n",
       "SalePrice         0\n",
       "dtype: int64"
      ]
     },
     "execution_count": 7,
     "metadata": {},
     "output_type": "execute_result"
    }
   ],
   "source": [
    "df_ames_reg_train.isna().sum()"
   ]
  },
  {
   "cell_type": "code",
   "execution_count": 8,
   "metadata": {},
   "outputs": [],
   "source": [
    "\n",
    "X = df_ames_reg_train[['Overall Qual','Neighborhood',\n",
    "'Gr Liv Area', 'Garage Cars', 'Total Bsmt SF', '1st Flr SF',\n",
    "'Year Built', 'Year Remod/Add']]\n",
    "y = df_ames_reg_train['SalePrice']\n",
    "    "
   ]
  },
  {
   "cell_type": "code",
   "execution_count": 9,
   "metadata": {},
   "outputs": [
    {
     "data": {
      "text/plain": [
       "(2049, 8)"
      ]
     },
     "execution_count": 9,
     "metadata": {},
     "output_type": "execute_result"
    }
   ],
   "source": [
    "X.shape"
   ]
  },
  {
   "cell_type": "code",
   "execution_count": 10,
   "metadata": {},
   "outputs": [
    {
     "data": {
      "text/plain": [
       "(2049,)"
      ]
     },
     "execution_count": 10,
     "metadata": {},
     "output_type": "execute_result"
    }
   ],
   "source": [
    "y.shape"
   ]
  },
  {
   "cell_type": "code",
   "execution_count": 11,
   "metadata": {},
   "outputs": [],
   "source": [
    "X_train, X_test, y_train, y_test = train_test_split(X, y)"
   ]
  },
  {
   "cell_type": "code",
   "execution_count": 12,
   "metadata": {},
   "outputs": [
    {
     "data": {
      "text/plain": [
       "Overall Qual        int64\n",
       "Neighborhood       object\n",
       "Gr Liv Area         int64\n",
       "Garage Cars       float64\n",
       "Total Bsmt SF     float64\n",
       "1st Flr SF          int64\n",
       "Year Built          int64\n",
       "Year Remod/Add      int64\n",
       "dtype: object"
      ]
     },
     "execution_count": 12,
     "metadata": {},
     "output_type": "execute_result"
    }
   ],
   "source": [
    "X_train.dtypes"
   ]
  },
  {
   "cell_type": "code",
   "execution_count": 13,
   "metadata": {},
   "outputs": [],
   "source": [
    "ct1 = make_column_transformer(\n",
    "    (OneHotEncoder(handle_unknown='ignore'), ['Neighborhood', 'Overall Qual']),\n",
    "    remainder='passthrough',\n",
    "     verbose_feature_names_out=False)\n"
   ]
  },
  {
   "cell_type": "code",
   "execution_count": 14,
   "metadata": {},
   "outputs": [],
   "source": [
    "pipe3 = make_pipeline(ct1, StandardScaler(with_mean=False), LinearRegression())"
   ]
  },
  {
   "cell_type": "code",
   "execution_count": 15,
   "metadata": {},
   "outputs": [
    {
     "data": {
      "text/plain": [
       "dict_keys(['copy_X', 'fit_intercept', 'n_jobs', 'normalize', 'positive'])"
      ]
     },
     "execution_count": 15,
     "metadata": {},
     "output_type": "execute_result"
    }
   ],
   "source": [
    "LinearRegression().get_params().keys()"
   ]
  },
  {
   "cell_type": "code",
   "execution_count": 16,
   "metadata": {},
   "outputs": [
    {
     "data": {
      "text/html": [
       "<style>#sk-da1ad62a-54c1-4504-a025-de8b85f638fd {color: black;background-color: white;}#sk-da1ad62a-54c1-4504-a025-de8b85f638fd pre{padding: 0;}#sk-da1ad62a-54c1-4504-a025-de8b85f638fd div.sk-toggleable {background-color: white;}#sk-da1ad62a-54c1-4504-a025-de8b85f638fd label.sk-toggleable__label {cursor: pointer;display: block;width: 100%;margin-bottom: 0;padding: 0.3em;box-sizing: border-box;text-align: center;}#sk-da1ad62a-54c1-4504-a025-de8b85f638fd label.sk-toggleable__label-arrow:before {content: \"▸\";float: left;margin-right: 0.25em;color: #696969;}#sk-da1ad62a-54c1-4504-a025-de8b85f638fd label.sk-toggleable__label-arrow:hover:before {color: black;}#sk-da1ad62a-54c1-4504-a025-de8b85f638fd div.sk-estimator:hover label.sk-toggleable__label-arrow:before {color: black;}#sk-da1ad62a-54c1-4504-a025-de8b85f638fd div.sk-toggleable__content {max-height: 0;max-width: 0;overflow: hidden;text-align: left;background-color: #f0f8ff;}#sk-da1ad62a-54c1-4504-a025-de8b85f638fd div.sk-toggleable__content pre {margin: 0.2em;color: black;border-radius: 0.25em;background-color: #f0f8ff;}#sk-da1ad62a-54c1-4504-a025-de8b85f638fd input.sk-toggleable__control:checked~div.sk-toggleable__content {max-height: 200px;max-width: 100%;overflow: auto;}#sk-da1ad62a-54c1-4504-a025-de8b85f638fd input.sk-toggleable__control:checked~label.sk-toggleable__label-arrow:before {content: \"▾\";}#sk-da1ad62a-54c1-4504-a025-de8b85f638fd div.sk-estimator input.sk-toggleable__control:checked~label.sk-toggleable__label {background-color: #d4ebff;}#sk-da1ad62a-54c1-4504-a025-de8b85f638fd div.sk-label input.sk-toggleable__control:checked~label.sk-toggleable__label {background-color: #d4ebff;}#sk-da1ad62a-54c1-4504-a025-de8b85f638fd input.sk-hidden--visually {border: 0;clip: rect(1px 1px 1px 1px);clip: rect(1px, 1px, 1px, 1px);height: 1px;margin: -1px;overflow: hidden;padding: 0;position: absolute;width: 1px;}#sk-da1ad62a-54c1-4504-a025-de8b85f638fd div.sk-estimator {font-family: monospace;background-color: #f0f8ff;border: 1px dotted black;border-radius: 0.25em;box-sizing: border-box;margin-bottom: 0.5em;}#sk-da1ad62a-54c1-4504-a025-de8b85f638fd div.sk-estimator:hover {background-color: #d4ebff;}#sk-da1ad62a-54c1-4504-a025-de8b85f638fd div.sk-parallel-item::after {content: \"\";width: 100%;border-bottom: 1px solid gray;flex-grow: 1;}#sk-da1ad62a-54c1-4504-a025-de8b85f638fd div.sk-label:hover label.sk-toggleable__label {background-color: #d4ebff;}#sk-da1ad62a-54c1-4504-a025-de8b85f638fd div.sk-serial::before {content: \"\";position: absolute;border-left: 1px solid gray;box-sizing: border-box;top: 2em;bottom: 0;left: 50%;}#sk-da1ad62a-54c1-4504-a025-de8b85f638fd div.sk-serial {display: flex;flex-direction: column;align-items: center;background-color: white;padding-right: 0.2em;padding-left: 0.2em;}#sk-da1ad62a-54c1-4504-a025-de8b85f638fd div.sk-item {z-index: 1;}#sk-da1ad62a-54c1-4504-a025-de8b85f638fd div.sk-parallel {display: flex;align-items: stretch;justify-content: center;background-color: white;}#sk-da1ad62a-54c1-4504-a025-de8b85f638fd div.sk-parallel::before {content: \"\";position: absolute;border-left: 1px solid gray;box-sizing: border-box;top: 2em;bottom: 0;left: 50%;}#sk-da1ad62a-54c1-4504-a025-de8b85f638fd div.sk-parallel-item {display: flex;flex-direction: column;position: relative;background-color: white;}#sk-da1ad62a-54c1-4504-a025-de8b85f638fd div.sk-parallel-item:first-child::after {align-self: flex-end;width: 50%;}#sk-da1ad62a-54c1-4504-a025-de8b85f638fd div.sk-parallel-item:last-child::after {align-self: flex-start;width: 50%;}#sk-da1ad62a-54c1-4504-a025-de8b85f638fd div.sk-parallel-item:only-child::after {width: 0;}#sk-da1ad62a-54c1-4504-a025-de8b85f638fd div.sk-dashed-wrapped {border: 1px dashed gray;margin: 0 0.4em 0.5em 0.4em;box-sizing: border-box;padding-bottom: 0.4em;background-color: white;position: relative;}#sk-da1ad62a-54c1-4504-a025-de8b85f638fd div.sk-label label {font-family: monospace;font-weight: bold;background-color: white;display: inline-block;line-height: 1.2em;}#sk-da1ad62a-54c1-4504-a025-de8b85f638fd div.sk-label-container {position: relative;z-index: 2;text-align: center;}#sk-da1ad62a-54c1-4504-a025-de8b85f638fd div.sk-container {/* jupyter's `normalize.less` sets `[hidden] { display: none; }` but bootstrap.min.css set `[hidden] { display: none !important; }` so we also need the `!important` here to be able to override the default hidden behavior on the sphinx rendered scikit-learn.org. See: https://github.com/scikit-learn/scikit-learn/issues/21755 */display: inline-block !important;position: relative;}#sk-da1ad62a-54c1-4504-a025-de8b85f638fd div.sk-text-repr-fallback {display: none;}</style><div id=\"sk-da1ad62a-54c1-4504-a025-de8b85f638fd\" class=\"sk-top-container\"><div class=\"sk-text-repr-fallback\"><pre>Pipeline(steps=[(&#x27;columntransformer&#x27;,\n",
       "                 ColumnTransformer(remainder=&#x27;passthrough&#x27;,\n",
       "                                   transformers=[(&#x27;onehotencoder&#x27;,\n",
       "                                                  OneHotEncoder(handle_unknown=&#x27;ignore&#x27;),\n",
       "                                                  [&#x27;Neighborhood&#x27;,\n",
       "                                                   &#x27;Overall Qual&#x27;])],\n",
       "                                   verbose_feature_names_out=False)),\n",
       "                (&#x27;standardscaler&#x27;, StandardScaler(with_mean=False)),\n",
       "                (&#x27;linearregression&#x27;, LinearRegression())])</pre><b>Please rerun this cell to show the HTML repr or trust the notebook.</b></div><div class=\"sk-container\" hidden><div class=\"sk-item sk-dashed-wrapped\"><div class=\"sk-label-container\"><div class=\"sk-label sk-toggleable\"><input class=\"sk-toggleable__control sk-hidden--visually\" id=\"5954d830-3fb8-4090-ac42-b29fead9aef0\" type=\"checkbox\" ><label for=\"5954d830-3fb8-4090-ac42-b29fead9aef0\" class=\"sk-toggleable__label sk-toggleable__label-arrow\">Pipeline</label><div class=\"sk-toggleable__content\"><pre>Pipeline(steps=[(&#x27;columntransformer&#x27;,\n",
       "                 ColumnTransformer(remainder=&#x27;passthrough&#x27;,\n",
       "                                   transformers=[(&#x27;onehotencoder&#x27;,\n",
       "                                                  OneHotEncoder(handle_unknown=&#x27;ignore&#x27;),\n",
       "                                                  [&#x27;Neighborhood&#x27;,\n",
       "                                                   &#x27;Overall Qual&#x27;])],\n",
       "                                   verbose_feature_names_out=False)),\n",
       "                (&#x27;standardscaler&#x27;, StandardScaler(with_mean=False)),\n",
       "                (&#x27;linearregression&#x27;, LinearRegression())])</pre></div></div></div><div class=\"sk-serial\"><div class=\"sk-item sk-dashed-wrapped\"><div class=\"sk-label-container\"><div class=\"sk-label sk-toggleable\"><input class=\"sk-toggleable__control sk-hidden--visually\" id=\"240963de-ac5c-40d3-94ab-ba6ea2dabdbc\" type=\"checkbox\" ><label for=\"240963de-ac5c-40d3-94ab-ba6ea2dabdbc\" class=\"sk-toggleable__label sk-toggleable__label-arrow\">columntransformer: ColumnTransformer</label><div class=\"sk-toggleable__content\"><pre>ColumnTransformer(remainder=&#x27;passthrough&#x27;,\n",
       "                  transformers=[(&#x27;onehotencoder&#x27;,\n",
       "                                 OneHotEncoder(handle_unknown=&#x27;ignore&#x27;),\n",
       "                                 [&#x27;Neighborhood&#x27;, &#x27;Overall Qual&#x27;])],\n",
       "                  verbose_feature_names_out=False)</pre></div></div></div><div class=\"sk-parallel\"><div class=\"sk-parallel-item\"><div class=\"sk-item\"><div class=\"sk-label-container\"><div class=\"sk-label sk-toggleable\"><input class=\"sk-toggleable__control sk-hidden--visually\" id=\"2a44f613-8c68-458f-948b-4b758c882249\" type=\"checkbox\" ><label for=\"2a44f613-8c68-458f-948b-4b758c882249\" class=\"sk-toggleable__label sk-toggleable__label-arrow\">onehotencoder</label><div class=\"sk-toggleable__content\"><pre>[&#x27;Neighborhood&#x27;, &#x27;Overall Qual&#x27;]</pre></div></div></div><div class=\"sk-serial\"><div class=\"sk-item\"><div class=\"sk-estimator sk-toggleable\"><input class=\"sk-toggleable__control sk-hidden--visually\" id=\"2cae4f0a-6a28-42f3-97a1-82308fcffdbe\" type=\"checkbox\" ><label for=\"2cae4f0a-6a28-42f3-97a1-82308fcffdbe\" class=\"sk-toggleable__label sk-toggleable__label-arrow\">OneHotEncoder</label><div class=\"sk-toggleable__content\"><pre>OneHotEncoder(handle_unknown=&#x27;ignore&#x27;)</pre></div></div></div></div></div></div><div class=\"sk-parallel-item\"><div class=\"sk-item\"><div class=\"sk-label-container\"><div class=\"sk-label sk-toggleable\"><input class=\"sk-toggleable__control sk-hidden--visually\" id=\"d8a7829a-5af0-4d9d-9d1a-877ef8310030\" type=\"checkbox\" ><label for=\"d8a7829a-5af0-4d9d-9d1a-877ef8310030\" class=\"sk-toggleable__label sk-toggleable__label-arrow\">remainder</label><div class=\"sk-toggleable__content\"><pre>[&#x27;Gr Liv Area&#x27;, &#x27;Garage Cars&#x27;, &#x27;Total Bsmt SF&#x27;, &#x27;1st Flr SF&#x27;, &#x27;Year Built&#x27;, &#x27;Year Remod/Add&#x27;]</pre></div></div></div><div class=\"sk-serial\"><div class=\"sk-item\"><div class=\"sk-estimator sk-toggleable\"><input class=\"sk-toggleable__control sk-hidden--visually\" id=\"566d3893-f7ed-41b5-96d1-1e27b18781e0\" type=\"checkbox\" ><label for=\"566d3893-f7ed-41b5-96d1-1e27b18781e0\" class=\"sk-toggleable__label sk-toggleable__label-arrow\">passthrough</label><div class=\"sk-toggleable__content\"><pre>passthrough</pre></div></div></div></div></div></div></div></div><div class=\"sk-item\"><div class=\"sk-estimator sk-toggleable\"><input class=\"sk-toggleable__control sk-hidden--visually\" id=\"c3430d4b-86b6-4dcf-bfe8-7e9b4a8560ef\" type=\"checkbox\" ><label for=\"c3430d4b-86b6-4dcf-bfe8-7e9b4a8560ef\" class=\"sk-toggleable__label sk-toggleable__label-arrow\">StandardScaler</label><div class=\"sk-toggleable__content\"><pre>StandardScaler(with_mean=False)</pre></div></div></div><div class=\"sk-item\"><div class=\"sk-estimator sk-toggleable\"><input class=\"sk-toggleable__control sk-hidden--visually\" id=\"d766966e-541f-4a6a-99eb-e94bee29c8a6\" type=\"checkbox\" ><label for=\"d766966e-541f-4a6a-99eb-e94bee29c8a6\" class=\"sk-toggleable__label sk-toggleable__label-arrow\">LinearRegression</label><div class=\"sk-toggleable__content\"><pre>LinearRegression()</pre></div></div></div></div></div></div></div>"
      ],
      "text/plain": [
       "Pipeline(steps=[('columntransformer',\n",
       "                 ColumnTransformer(remainder='passthrough',\n",
       "                                   transformers=[('onehotencoder',\n",
       "                                                  OneHotEncoder(handle_unknown='ignore'),\n",
       "                                                  ['Neighborhood',\n",
       "                                                   'Overall Qual'])],\n",
       "                                   verbose_feature_names_out=False)),\n",
       "                ('standardscaler', StandardScaler(with_mean=False)),\n",
       "                ('linearregression', LinearRegression())])"
      ]
     },
     "execution_count": 16,
     "metadata": {},
     "output_type": "execute_result"
    }
   ],
   "source": [
    "pipe3.fit(X_train, y_train)"
   ]
  },
  {
   "cell_type": "code",
   "execution_count": 17,
   "metadata": {},
   "outputs": [],
   "source": [
    "preds= pipe3.predict(X_test)"
   ]
  },
  {
   "cell_type": "code",
   "execution_count": 18,
   "metadata": {},
   "outputs": [
    {
     "data": {
      "text/plain": [
       "{'columntransformer': ColumnTransformer(remainder='passthrough',\n",
       "                   transformers=[('onehotencoder',\n",
       "                                  OneHotEncoder(handle_unknown='ignore'),\n",
       "                                  ['Neighborhood', 'Overall Qual'])],\n",
       "                   verbose_feature_names_out=False),\n",
       " 'standardscaler': StandardScaler(with_mean=False),\n",
       " 'linearregression': LinearRegression()}"
      ]
     },
     "execution_count": 18,
     "metadata": {},
     "output_type": "execute_result"
    }
   ],
   "source": [
    "pipe3.named_steps"
   ]
  },
  {
   "cell_type": "code",
   "execution_count": 19,
   "metadata": {},
   "outputs": [
    {
     "data": {
      "text/plain": [
       "array(['Neighborhood_Blmngtn', 'Neighborhood_Blueste',\n",
       "       'Neighborhood_BrDale', 'Neighborhood_BrkSide',\n",
       "       'Neighborhood_ClearCr', 'Neighborhood_CollgCr',\n",
       "       'Neighborhood_Crawfor', 'Neighborhood_Edwards',\n",
       "       'Neighborhood_Gilbert', 'Neighborhood_Greens',\n",
       "       'Neighborhood_GrnHill', 'Neighborhood_IDOTRR',\n",
       "       'Neighborhood_Landmrk', 'Neighborhood_MeadowV',\n",
       "       'Neighborhood_Mitchel', 'Neighborhood_NAmes',\n",
       "       'Neighborhood_NPkVill', 'Neighborhood_NWAmes',\n",
       "       'Neighborhood_NoRidge', 'Neighborhood_NridgHt',\n",
       "       'Neighborhood_OldTown', 'Neighborhood_SWISU',\n",
       "       'Neighborhood_Sawyer', 'Neighborhood_SawyerW',\n",
       "       'Neighborhood_Somerst', 'Neighborhood_StoneBr',\n",
       "       'Neighborhood_Timber', 'Neighborhood_Veenker', 'Overall Qual_1',\n",
       "       'Overall Qual_2', 'Overall Qual_3', 'Overall Qual_4',\n",
       "       'Overall Qual_5', 'Overall Qual_6', 'Overall Qual_7',\n",
       "       'Overall Qual_8', 'Overall Qual_9', 'Overall Qual_10',\n",
       "       'Gr Liv Area', 'Garage Cars', 'Total Bsmt SF', '1st Flr SF',\n",
       "       'Year Built', 'Year Remod/Add'], dtype=object)"
      ]
     },
     "execution_count": 19,
     "metadata": {},
     "output_type": "execute_result"
    }
   ],
   "source": [
    "cols_p3 = pipe3.named_steps.get('columntransformer').get_feature_names_out()\n",
    "cols_p3"
   ]
  },
  {
   "cell_type": "code",
   "execution_count": 20,
   "metadata": {},
   "outputs": [
    {
     "data": {
      "text/plain": [
       "array([-1483.80946864, -1895.13696382, -3005.94016282,  -530.59292739,\n",
       "        3568.2081302 ,  -152.73830487,  5104.39322644, -3852.96859656,\n",
       "       -1345.5009594 ,  -465.38292266,  3471.26311861, -3044.56435918,\n",
       "        -792.31614113, -2734.67515369,  -259.48688874,  -379.02483305,\n",
       "       -1788.2471361 ,   320.06524971,  6600.20182622,  7214.2821563 ,\n",
       "       -5074.06483847, -1164.02817493, -1068.70372912, -1637.16273188,\n",
       "        -282.39914332,  4881.08131724,  2508.21563686,  1418.32179092,\n",
       "       -3057.58078709, -2660.6796189 , -4795.63142606, -7430.26720104,\n",
       "       -8548.05216873, -4617.23390962,   483.34995936, 11180.79161304,\n",
       "       18465.94449223, 11815.85999581, 18787.19753863,  8494.69419026,\n",
       "        5931.89947826,  1907.00977479,  7100.51355408,  7438.93081368])"
      ]
     },
     "execution_count": 20,
     "metadata": {},
     "output_type": "execute_result"
    }
   ],
   "source": [
    "pipe3.named_steps['linearregression'].coef_"
   ]
  },
  {
   "cell_type": "code",
   "execution_count": 21,
   "metadata": {},
   "outputs": [
    {
     "data": {
      "text/html": [
       "<div>\n",
       "<style scoped>\n",
       "    .dataframe tbody tr th:only-of-type {\n",
       "        vertical-align: middle;\n",
       "    }\n",
       "\n",
       "    .dataframe tbody tr th {\n",
       "        vertical-align: top;\n",
       "    }\n",
       "\n",
       "    .dataframe thead th {\n",
       "        text-align: right;\n",
       "    }\n",
       "</style>\n",
       "<table border=\"1\" class=\"dataframe\">\n",
       "  <thead>\n",
       "    <tr style=\"text-align: right;\">\n",
       "      <th></th>\n",
       "      <th>0</th>\n",
       "      <th>1</th>\n",
       "    </tr>\n",
       "  </thead>\n",
       "  <tbody>\n",
       "    <tr>\n",
       "      <th>0</th>\n",
       "      <td>Neighborhood_Blmngtn</td>\n",
       "      <td>-1483.809469</td>\n",
       "    </tr>\n",
       "    <tr>\n",
       "      <th>1</th>\n",
       "      <td>Neighborhood_Blueste</td>\n",
       "      <td>-1895.136964</td>\n",
       "    </tr>\n",
       "    <tr>\n",
       "      <th>2</th>\n",
       "      <td>Neighborhood_BrDale</td>\n",
       "      <td>-3005.940163</td>\n",
       "    </tr>\n",
       "    <tr>\n",
       "      <th>3</th>\n",
       "      <td>Neighborhood_BrkSide</td>\n",
       "      <td>-530.592927</td>\n",
       "    </tr>\n",
       "    <tr>\n",
       "      <th>4</th>\n",
       "      <td>Neighborhood_ClearCr</td>\n",
       "      <td>3568.208130</td>\n",
       "    </tr>\n",
       "    <tr>\n",
       "      <th>5</th>\n",
       "      <td>Neighborhood_CollgCr</td>\n",
       "      <td>-152.738305</td>\n",
       "    </tr>\n",
       "    <tr>\n",
       "      <th>6</th>\n",
       "      <td>Neighborhood_Crawfor</td>\n",
       "      <td>5104.393226</td>\n",
       "    </tr>\n",
       "    <tr>\n",
       "      <th>7</th>\n",
       "      <td>Neighborhood_Edwards</td>\n",
       "      <td>-3852.968597</td>\n",
       "    </tr>\n",
       "    <tr>\n",
       "      <th>8</th>\n",
       "      <td>Neighborhood_Gilbert</td>\n",
       "      <td>-1345.500959</td>\n",
       "    </tr>\n",
       "    <tr>\n",
       "      <th>9</th>\n",
       "      <td>Neighborhood_Greens</td>\n",
       "      <td>-465.382923</td>\n",
       "    </tr>\n",
       "    <tr>\n",
       "      <th>10</th>\n",
       "      <td>Neighborhood_GrnHill</td>\n",
       "      <td>3471.263119</td>\n",
       "    </tr>\n",
       "    <tr>\n",
       "      <th>11</th>\n",
       "      <td>Neighborhood_IDOTRR</td>\n",
       "      <td>-3044.564359</td>\n",
       "    </tr>\n",
       "    <tr>\n",
       "      <th>12</th>\n",
       "      <td>Neighborhood_Landmrk</td>\n",
       "      <td>-792.316141</td>\n",
       "    </tr>\n",
       "    <tr>\n",
       "      <th>13</th>\n",
       "      <td>Neighborhood_MeadowV</td>\n",
       "      <td>-2734.675154</td>\n",
       "    </tr>\n",
       "    <tr>\n",
       "      <th>14</th>\n",
       "      <td>Neighborhood_Mitchel</td>\n",
       "      <td>-259.486889</td>\n",
       "    </tr>\n",
       "    <tr>\n",
       "      <th>15</th>\n",
       "      <td>Neighborhood_NAmes</td>\n",
       "      <td>-379.024833</td>\n",
       "    </tr>\n",
       "    <tr>\n",
       "      <th>16</th>\n",
       "      <td>Neighborhood_NPkVill</td>\n",
       "      <td>-1788.247136</td>\n",
       "    </tr>\n",
       "    <tr>\n",
       "      <th>17</th>\n",
       "      <td>Neighborhood_NWAmes</td>\n",
       "      <td>320.065250</td>\n",
       "    </tr>\n",
       "    <tr>\n",
       "      <th>18</th>\n",
       "      <td>Neighborhood_NoRidge</td>\n",
       "      <td>6600.201826</td>\n",
       "    </tr>\n",
       "    <tr>\n",
       "      <th>19</th>\n",
       "      <td>Neighborhood_NridgHt</td>\n",
       "      <td>7214.282156</td>\n",
       "    </tr>\n",
       "    <tr>\n",
       "      <th>20</th>\n",
       "      <td>Neighborhood_OldTown</td>\n",
       "      <td>-5074.064838</td>\n",
       "    </tr>\n",
       "    <tr>\n",
       "      <th>21</th>\n",
       "      <td>Neighborhood_SWISU</td>\n",
       "      <td>-1164.028175</td>\n",
       "    </tr>\n",
       "    <tr>\n",
       "      <th>22</th>\n",
       "      <td>Neighborhood_Sawyer</td>\n",
       "      <td>-1068.703729</td>\n",
       "    </tr>\n",
       "    <tr>\n",
       "      <th>23</th>\n",
       "      <td>Neighborhood_SawyerW</td>\n",
       "      <td>-1637.162732</td>\n",
       "    </tr>\n",
       "    <tr>\n",
       "      <th>24</th>\n",
       "      <td>Neighborhood_Somerst</td>\n",
       "      <td>-282.399143</td>\n",
       "    </tr>\n",
       "    <tr>\n",
       "      <th>25</th>\n",
       "      <td>Neighborhood_StoneBr</td>\n",
       "      <td>4881.081317</td>\n",
       "    </tr>\n",
       "    <tr>\n",
       "      <th>26</th>\n",
       "      <td>Neighborhood_Timber</td>\n",
       "      <td>2508.215637</td>\n",
       "    </tr>\n",
       "    <tr>\n",
       "      <th>27</th>\n",
       "      <td>Neighborhood_Veenker</td>\n",
       "      <td>1418.321791</td>\n",
       "    </tr>\n",
       "    <tr>\n",
       "      <th>28</th>\n",
       "      <td>Overall Qual_1</td>\n",
       "      <td>-3057.580787</td>\n",
       "    </tr>\n",
       "    <tr>\n",
       "      <th>29</th>\n",
       "      <td>Overall Qual_2</td>\n",
       "      <td>-2660.679619</td>\n",
       "    </tr>\n",
       "    <tr>\n",
       "      <th>30</th>\n",
       "      <td>Overall Qual_3</td>\n",
       "      <td>-4795.631426</td>\n",
       "    </tr>\n",
       "    <tr>\n",
       "      <th>31</th>\n",
       "      <td>Overall Qual_4</td>\n",
       "      <td>-7430.267201</td>\n",
       "    </tr>\n",
       "    <tr>\n",
       "      <th>32</th>\n",
       "      <td>Overall Qual_5</td>\n",
       "      <td>-8548.052169</td>\n",
       "    </tr>\n",
       "    <tr>\n",
       "      <th>33</th>\n",
       "      <td>Overall Qual_6</td>\n",
       "      <td>-4617.233910</td>\n",
       "    </tr>\n",
       "    <tr>\n",
       "      <th>34</th>\n",
       "      <td>Overall Qual_7</td>\n",
       "      <td>483.349959</td>\n",
       "    </tr>\n",
       "    <tr>\n",
       "      <th>35</th>\n",
       "      <td>Overall Qual_8</td>\n",
       "      <td>11180.791613</td>\n",
       "    </tr>\n",
       "    <tr>\n",
       "      <th>36</th>\n",
       "      <td>Overall Qual_9</td>\n",
       "      <td>18465.944492</td>\n",
       "    </tr>\n",
       "    <tr>\n",
       "      <th>37</th>\n",
       "      <td>Overall Qual_10</td>\n",
       "      <td>11815.859996</td>\n",
       "    </tr>\n",
       "    <tr>\n",
       "      <th>38</th>\n",
       "      <td>Gr Liv Area</td>\n",
       "      <td>18787.197539</td>\n",
       "    </tr>\n",
       "    <tr>\n",
       "      <th>39</th>\n",
       "      <td>Garage Cars</td>\n",
       "      <td>8494.694190</td>\n",
       "    </tr>\n",
       "    <tr>\n",
       "      <th>40</th>\n",
       "      <td>Total Bsmt SF</td>\n",
       "      <td>5931.899478</td>\n",
       "    </tr>\n",
       "    <tr>\n",
       "      <th>41</th>\n",
       "      <td>1st Flr SF</td>\n",
       "      <td>1907.009775</td>\n",
       "    </tr>\n",
       "    <tr>\n",
       "      <th>42</th>\n",
       "      <td>Year Built</td>\n",
       "      <td>7100.513554</td>\n",
       "    </tr>\n",
       "    <tr>\n",
       "      <th>43</th>\n",
       "      <td>Year Remod/Add</td>\n",
       "      <td>7438.930814</td>\n",
       "    </tr>\n",
       "  </tbody>\n",
       "</table>\n",
       "</div>"
      ],
      "text/plain": [
       "                       0             1\n",
       "0   Neighborhood_Blmngtn  -1483.809469\n",
       "1   Neighborhood_Blueste  -1895.136964\n",
       "2    Neighborhood_BrDale  -3005.940163\n",
       "3   Neighborhood_BrkSide   -530.592927\n",
       "4   Neighborhood_ClearCr   3568.208130\n",
       "5   Neighborhood_CollgCr   -152.738305\n",
       "6   Neighborhood_Crawfor   5104.393226\n",
       "7   Neighborhood_Edwards  -3852.968597\n",
       "8   Neighborhood_Gilbert  -1345.500959\n",
       "9    Neighborhood_Greens   -465.382923\n",
       "10  Neighborhood_GrnHill   3471.263119\n",
       "11   Neighborhood_IDOTRR  -3044.564359\n",
       "12  Neighborhood_Landmrk   -792.316141\n",
       "13  Neighborhood_MeadowV  -2734.675154\n",
       "14  Neighborhood_Mitchel   -259.486889\n",
       "15    Neighborhood_NAmes   -379.024833\n",
       "16  Neighborhood_NPkVill  -1788.247136\n",
       "17   Neighborhood_NWAmes    320.065250\n",
       "18  Neighborhood_NoRidge   6600.201826\n",
       "19  Neighborhood_NridgHt   7214.282156\n",
       "20  Neighborhood_OldTown  -5074.064838\n",
       "21    Neighborhood_SWISU  -1164.028175\n",
       "22   Neighborhood_Sawyer  -1068.703729\n",
       "23  Neighborhood_SawyerW  -1637.162732\n",
       "24  Neighborhood_Somerst   -282.399143\n",
       "25  Neighborhood_StoneBr   4881.081317\n",
       "26   Neighborhood_Timber   2508.215637\n",
       "27  Neighborhood_Veenker   1418.321791\n",
       "28        Overall Qual_1  -3057.580787\n",
       "29        Overall Qual_2  -2660.679619\n",
       "30        Overall Qual_3  -4795.631426\n",
       "31        Overall Qual_4  -7430.267201\n",
       "32        Overall Qual_5  -8548.052169\n",
       "33        Overall Qual_6  -4617.233910\n",
       "34        Overall Qual_7    483.349959\n",
       "35        Overall Qual_8  11180.791613\n",
       "36        Overall Qual_9  18465.944492\n",
       "37       Overall Qual_10  11815.859996\n",
       "38           Gr Liv Area  18787.197539\n",
       "39           Garage Cars   8494.694190\n",
       "40         Total Bsmt SF   5931.899478\n",
       "41            1st Flr SF   1907.009775\n",
       "42            Year Built   7100.513554\n",
       "43        Year Remod/Add   7438.930814"
      ]
     },
     "execution_count": 21,
     "metadata": {},
     "output_type": "execute_result"
    }
   ],
   "source": [
    "pd.DataFrame(zip(cols_p3, \n",
    "pipe3.named_steps['linearregression'].coef_))"
   ]
  },
  {
   "cell_type": "code",
   "execution_count": 22,
   "metadata": {},
   "outputs": [
    {
     "data": {
      "text/plain": [
       "309     67753.241362\n",
       "45     -24123.279330\n",
       "865    -88313.899704\n",
       "2032   -23201.303173\n",
       "1313    53287.691055\n",
       "            ...     \n",
       "574    -17022.016645\n",
       "1259    22665.911862\n",
       "330     29715.616333\n",
       "1583   -30824.081862\n",
       "678     -9289.267585\n",
       "Name: SalePrice, Length: 513, dtype: float64"
      ]
     },
     "execution_count": 22,
     "metadata": {},
     "output_type": "execute_result"
    }
   ],
   "source": [
    "residuals = preds - y_test\n",
    "residuals"
   ]
  },
  {
   "cell_type": "code",
   "execution_count": 23,
   "metadata": {},
   "outputs": [
    {
     "name": "stdout",
     "output_type": "stream",
     "text": [
      "Linear Regression Model #3 w/Categorical Vars, No Full Bath & More: MAE: 20274.842199603798\n",
      "Linear Regression Model #3 w/Categorical Vars, No Full Bath & More: MSE: 953955237.9355583\n",
      "Linear Model #3 w/Categorical Vars, No Full Bath & More: R2: 0.8542514482816572\n"
     ]
    }
   ],
   "source": [
    "#Evaluate my metrics\n",
    "print('Linear Regression Model #3 w/Categorical Vars, No Full Bath & More: MAE:', mean_absolute_error(y_test, preds))\n",
    "print('Linear Regression Model #3 w/Categorical Vars, No Full Bath & More: MSE:', mean_squared_error(y_test, preds))\n",
    "print('Linear Model #3 w/Categorical Vars, No Full Bath & More: R2:', r2_score(y_test, preds))"
   ]
  },
  {
   "cell_type": "code",
   "execution_count": 24,
   "metadata": {},
   "outputs": [
    {
     "data": {
      "image/png": "[encoded data removed]",
      "text/plain": [
       "<Figure size 432x288 with 1 Axes>"
      ]
     },
     "metadata": {
      "needs_background": "light"
     },
     "output_type": "display_data"
    }
   ],
   "source": [
    "sns.histplot(residuals, bins=15);\n",
    "#This looks like a normal distribution so this doesn't look too bad."
   ]
  },
  {
   "cell_type": "code",
   "execution_count": 25,
   "metadata": {},
   "outputs": [
    {
     "data": {
      "image/png": "[encoded data removed]",
      "text/plain": [
       "<Figure size 432x288 with 1 Axes>"
      ]
     },
     "metadata": {
      "needs_background": "light"
     },
     "output_type": "display_data"
    }
   ],
   "source": [
    "plt.scatter(y_test, preds);\n",
    "#This doesn't look too bad!"
   ]
  },
  {
   "cell_type": "code",
   "execution_count": 26,
   "metadata": {},
   "outputs": [
    {
     "data": {
      "image/png": "[encoded data removed]",
      "text/plain": [
       "<Figure size 432x288 with 1 Axes>"
      ]
     },
     "metadata": {
      "needs_background": "light"
     },
     "output_type": "display_data"
    }
   ],
   "source": [
    "plt.scatter(y_test, residuals);\n"
   ]
  }
 ],
 "metadata": {
  "interpreter": {
   "hash": "1013f178bd8cc9c09c9a1bfa722153bff45040218b602b728b1ebb7cc8a12e61"
  },
  "kernelspec": {
   "display_name": "Python 3.9.7 64-bit ('base': conda)",
   "language": "python",
   "name": "python3"
  },
  "language_info": {
   "codemirror_mode": {
    "name": "ipython",
    "version": 3
   },
   "file_extension": ".py",
   "mimetype": "text/x-python",
   "name": "python",
   "nbconvert_exporter": "python",
   "pygments_lexer": "ipython3",
   "version": "3.9.7"
  },
  "orig_nbformat": 4
 },
 "nbformat": 4,
 "nbformat_minor": 2
}
